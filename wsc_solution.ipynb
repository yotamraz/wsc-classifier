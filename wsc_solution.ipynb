{
  "nbformat": 4,
  "nbformat_minor": 0,
  "metadata": {
    "colab": {
      "name": "wsc-solution.ipynb",
      "provenance": [],
      "collapsed_sections": [],
      "mount_file_id": "https://github.com/yotamraz/wsc-classifier/blob/main/solution.ipynb",
      "authorship_tag": "ABX9TyNI0Y2Njbt/CayeIlq+DqEg",
      "include_colab_link": true
    },
    "kernelspec": {
      "name": "python3",
      "display_name": "Python 3"
    },
    "language_info": {
      "name": "python"
    },
    "accelerator": "GPU",
    "widgets": {
      "application/vnd.jupyter.widget-state+json": {
        "c99d5b95d1154a579bfb957f11935389": {
          "model_module": "@jupyter-widgets/controls",
          "model_name": "VBoxModel",
          "model_module_version": "1.5.0",
          "state": {
            "_view_name": "VBoxView",
            "_dom_classes": [],
            "_model_name": "VBoxModel",
            "_view_module": "@jupyter-widgets/controls",
            "_model_module_version": "1.5.0",
            "_view_count": null,
            "_view_module_version": "1.5.0",
            "box_style": "",
            "layout": "IPY_MODEL_9953fc6c6afb40ab8baaafd5df642710",
            "_model_module": "@jupyter-widgets/controls",
            "children": [
              "IPY_MODEL_7269b473c5d140479d31d168c1fa0bc3",
              "IPY_MODEL_4ab73021b4d44bb6a4b3c5ed4a32a147"
            ]
          }
        },
        "9953fc6c6afb40ab8baaafd5df642710": {
          "model_module": "@jupyter-widgets/base",
          "model_name": "LayoutModel",
          "model_module_version": "1.2.0",
          "state": {
            "_view_name": "LayoutView",
            "grid_template_rows": null,
            "right": null,
            "justify_content": null,
            "_view_module": "@jupyter-widgets/base",
            "overflow": null,
            "_model_module_version": "1.2.0",
            "_view_count": null,
            "flex_flow": null,
            "width": null,
            "min_width": null,
            "border": null,
            "align_items": null,
            "bottom": null,
            "_model_module": "@jupyter-widgets/base",
            "top": null,
            "grid_column": null,
            "overflow_y": null,
            "overflow_x": null,
            "grid_auto_flow": null,
            "grid_area": null,
            "grid_template_columns": null,
            "flex": null,
            "_model_name": "LayoutModel",
            "justify_items": null,
            "grid_row": null,
            "max_height": null,
            "align_content": null,
            "visibility": null,
            "align_self": null,
            "height": null,
            "min_height": null,
            "padding": null,
            "grid_auto_rows": null,
            "grid_gap": null,
            "max_width": null,
            "order": null,
            "_view_module_version": "1.2.0",
            "grid_template_areas": null,
            "object_position": null,
            "object_fit": null,
            "grid_auto_columns": null,
            "margin": null,
            "display": null,
            "left": null
          }
        },
        "7269b473c5d140479d31d168c1fa0bc3": {
          "model_module": "@jupyter-widgets/controls",
          "model_name": "LabelModel",
          "model_module_version": "1.5.0",
          "state": {
            "_view_name": "LabelView",
            "style": "IPY_MODEL_585f10e4cd2d48e7a0b823615a7e9f19",
            "_dom_classes": [],
            "description": "",
            "_model_name": "LabelModel",
            "placeholder": "​",
            "_view_module": "@jupyter-widgets/controls",
            "_model_module_version": "1.5.0",
            "value": " 12.71MB of 12.71MB uploaded (0.00MB deduped)\r",
            "_view_count": null,
            "_view_module_version": "1.5.0",
            "description_tooltip": null,
            "_model_module": "@jupyter-widgets/controls",
            "layout": "IPY_MODEL_d304cd9eb75d48b7ba3f5ca263b1b14a"
          }
        },
        "4ab73021b4d44bb6a4b3c5ed4a32a147": {
          "model_module": "@jupyter-widgets/controls",
          "model_name": "FloatProgressModel",
          "model_module_version": "1.5.0",
          "state": {
            "_view_name": "ProgressView",
            "style": "IPY_MODEL_0d66a1870bcb43e1a945fcca4a5c35fc",
            "_dom_classes": [],
            "description": "",
            "_model_name": "FloatProgressModel",
            "bar_style": "",
            "max": 1,
            "_view_module": "@jupyter-widgets/controls",
            "_model_module_version": "1.5.0",
            "value": 1,
            "_view_count": null,
            "_view_module_version": "1.5.0",
            "orientation": "horizontal",
            "min": 0,
            "description_tooltip": null,
            "_model_module": "@jupyter-widgets/controls",
            "layout": "IPY_MODEL_d917daefbf1549c29881510a1a966cce"
          }
        },
        "585f10e4cd2d48e7a0b823615a7e9f19": {
          "model_module": "@jupyter-widgets/controls",
          "model_name": "DescriptionStyleModel",
          "model_module_version": "1.5.0",
          "state": {
            "_view_name": "StyleView",
            "_model_name": "DescriptionStyleModel",
            "description_width": "",
            "_view_module": "@jupyter-widgets/base",
            "_model_module_version": "1.5.0",
            "_view_count": null,
            "_view_module_version": "1.2.0",
            "_model_module": "@jupyter-widgets/controls"
          }
        },
        "d304cd9eb75d48b7ba3f5ca263b1b14a": {
          "model_module": "@jupyter-widgets/base",
          "model_name": "LayoutModel",
          "model_module_version": "1.2.0",
          "state": {
            "_view_name": "LayoutView",
            "grid_template_rows": null,
            "right": null,
            "justify_content": null,
            "_view_module": "@jupyter-widgets/base",
            "overflow": null,
            "_model_module_version": "1.2.0",
            "_view_count": null,
            "flex_flow": null,
            "width": null,
            "min_width": null,
            "border": null,
            "align_items": null,
            "bottom": null,
            "_model_module": "@jupyter-widgets/base",
            "top": null,
            "grid_column": null,
            "overflow_y": null,
            "overflow_x": null,
            "grid_auto_flow": null,
            "grid_area": null,
            "grid_template_columns": null,
            "flex": null,
            "_model_name": "LayoutModel",
            "justify_items": null,
            "grid_row": null,
            "max_height": null,
            "align_content": null,
            "visibility": null,
            "align_self": null,
            "height": null,
            "min_height": null,
            "padding": null,
            "grid_auto_rows": null,
            "grid_gap": null,
            "max_width": null,
            "order": null,
            "_view_module_version": "1.2.0",
            "grid_template_areas": null,
            "object_position": null,
            "object_fit": null,
            "grid_auto_columns": null,
            "margin": null,
            "display": null,
            "left": null
          }
        },
        "0d66a1870bcb43e1a945fcca4a5c35fc": {
          "model_module": "@jupyter-widgets/controls",
          "model_name": "ProgressStyleModel",
          "model_module_version": "1.5.0",
          "state": {
            "_view_name": "StyleView",
            "_model_name": "ProgressStyleModel",
            "description_width": "",
            "_view_module": "@jupyter-widgets/base",
            "_model_module_version": "1.5.0",
            "_view_count": null,
            "_view_module_version": "1.2.0",
            "bar_color": null,
            "_model_module": "@jupyter-widgets/controls"
          }
        },
        "d917daefbf1549c29881510a1a966cce": {
          "model_module": "@jupyter-widgets/base",
          "model_name": "LayoutModel",
          "model_module_version": "1.2.0",
          "state": {
            "_view_name": "LayoutView",
            "grid_template_rows": null,
            "right": null,
            "justify_content": null,
            "_view_module": "@jupyter-widgets/base",
            "overflow": null,
            "_model_module_version": "1.2.0",
            "_view_count": null,
            "flex_flow": null,
            "width": null,
            "min_width": null,
            "border": null,
            "align_items": null,
            "bottom": null,
            "_model_module": "@jupyter-widgets/base",
            "top": null,
            "grid_column": null,
            "overflow_y": null,
            "overflow_x": null,
            "grid_auto_flow": null,
            "grid_area": null,
            "grid_template_columns": null,
            "flex": null,
            "_model_name": "LayoutModel",
            "justify_items": null,
            "grid_row": null,
            "max_height": null,
            "align_content": null,
            "visibility": null,
            "align_self": null,
            "height": null,
            "min_height": null,
            "padding": null,
            "grid_auto_rows": null,
            "grid_gap": null,
            "max_width": null,
            "order": null,
            "_view_module_version": "1.2.0",
            "grid_template_areas": null,
            "object_position": null,
            "object_fit": null,
            "grid_auto_columns": null,
            "margin": null,
            "display": null,
            "left": null
          }
        },
        "98ff4a8082554cbbbad637d48ca7fc54": {
          "model_module": "@jupyter-widgets/controls",
          "model_name": "VBoxModel",
          "model_module_version": "1.5.0",
          "state": {
            "_view_name": "VBoxView",
            "_dom_classes": [],
            "_model_name": "VBoxModel",
            "_view_module": "@jupyter-widgets/controls",
            "_model_module_version": "1.5.0",
            "_view_count": null,
            "_view_module_version": "1.5.0",
            "box_style": "",
            "layout": "IPY_MODEL_50bf62b392dd4a7999967edf873d2e5d",
            "_model_module": "@jupyter-widgets/controls",
            "children": [
              "IPY_MODEL_59ebbda8b88d435a9b740c430f7befab",
              "IPY_MODEL_a8deab083996448680a0cb76f60206aa"
            ]
          }
        },
        "50bf62b392dd4a7999967edf873d2e5d": {
          "model_module": "@jupyter-widgets/base",
          "model_name": "LayoutModel",
          "model_module_version": "1.2.0",
          "state": {
            "_view_name": "LayoutView",
            "grid_template_rows": null,
            "right": null,
            "justify_content": null,
            "_view_module": "@jupyter-widgets/base",
            "overflow": null,
            "_model_module_version": "1.2.0",
            "_view_count": null,
            "flex_flow": null,
            "width": null,
            "min_width": null,
            "border": null,
            "align_items": null,
            "bottom": null,
            "_model_module": "@jupyter-widgets/base",
            "top": null,
            "grid_column": null,
            "overflow_y": null,
            "overflow_x": null,
            "grid_auto_flow": null,
            "grid_area": null,
            "grid_template_columns": null,
            "flex": null,
            "_model_name": "LayoutModel",
            "justify_items": null,
            "grid_row": null,
            "max_height": null,
            "align_content": null,
            "visibility": null,
            "align_self": null,
            "height": null,
            "min_height": null,
            "padding": null,
            "grid_auto_rows": null,
            "grid_gap": null,
            "max_width": null,
            "order": null,
            "_view_module_version": "1.2.0",
            "grid_template_areas": null,
            "object_position": null,
            "object_fit": null,
            "grid_auto_columns": null,
            "margin": null,
            "display": null,
            "left": null
          }
        },
        "59ebbda8b88d435a9b740c430f7befab": {
          "model_module": "@jupyter-widgets/controls",
          "model_name": "LabelModel",
          "model_module_version": "1.5.0",
          "state": {
            "_view_name": "LabelView",
            "style": "IPY_MODEL_14d7b831bc6548128483d93923785fbb",
            "_dom_classes": [],
            "description": "",
            "_model_name": "LabelModel",
            "placeholder": "​",
            "_view_module": "@jupyter-widgets/controls",
            "_model_module_version": "1.5.0",
            "value": " 47.04MB of 47.04MB uploaded (0.00MB deduped)\r",
            "_view_count": null,
            "_view_module_version": "1.5.0",
            "description_tooltip": null,
            "_model_module": "@jupyter-widgets/controls",
            "layout": "IPY_MODEL_791877985ebf42eba9cc9fc1ee5c21b5"
          }
        },
        "a8deab083996448680a0cb76f60206aa": {
          "model_module": "@jupyter-widgets/controls",
          "model_name": "FloatProgressModel",
          "model_module_version": "1.5.0",
          "state": {
            "_view_name": "ProgressView",
            "style": "IPY_MODEL_c6875c1975564c8e800704b076d6d7a2",
            "_dom_classes": [],
            "description": "",
            "_model_name": "FloatProgressModel",
            "bar_style": "",
            "max": 1,
            "_view_module": "@jupyter-widgets/controls",
            "_model_module_version": "1.5.0",
            "value": 1,
            "_view_count": null,
            "_view_module_version": "1.5.0",
            "orientation": "horizontal",
            "min": 0,
            "description_tooltip": null,
            "_model_module": "@jupyter-widgets/controls",
            "layout": "IPY_MODEL_8f986c402b83419199941475a1c15c29"
          }
        },
        "14d7b831bc6548128483d93923785fbb": {
          "model_module": "@jupyter-widgets/controls",
          "model_name": "DescriptionStyleModel",
          "model_module_version": "1.5.0",
          "state": {
            "_view_name": "StyleView",
            "_model_name": "DescriptionStyleModel",
            "description_width": "",
            "_view_module": "@jupyter-widgets/base",
            "_model_module_version": "1.5.0",
            "_view_count": null,
            "_view_module_version": "1.2.0",
            "_model_module": "@jupyter-widgets/controls"
          }
        },
        "791877985ebf42eba9cc9fc1ee5c21b5": {
          "model_module": "@jupyter-widgets/base",
          "model_name": "LayoutModel",
          "model_module_version": "1.2.0",
          "state": {
            "_view_name": "LayoutView",
            "grid_template_rows": null,
            "right": null,
            "justify_content": null,
            "_view_module": "@jupyter-widgets/base",
            "overflow": null,
            "_model_module_version": "1.2.0",
            "_view_count": null,
            "flex_flow": null,
            "width": null,
            "min_width": null,
            "border": null,
            "align_items": null,
            "bottom": null,
            "_model_module": "@jupyter-widgets/base",
            "top": null,
            "grid_column": null,
            "overflow_y": null,
            "overflow_x": null,
            "grid_auto_flow": null,
            "grid_area": null,
            "grid_template_columns": null,
            "flex": null,
            "_model_name": "LayoutModel",
            "justify_items": null,
            "grid_row": null,
            "max_height": null,
            "align_content": null,
            "visibility": null,
            "align_self": null,
            "height": null,
            "min_height": null,
            "padding": null,
            "grid_auto_rows": null,
            "grid_gap": null,
            "max_width": null,
            "order": null,
            "_view_module_version": "1.2.0",
            "grid_template_areas": null,
            "object_position": null,
            "object_fit": null,
            "grid_auto_columns": null,
            "margin": null,
            "display": null,
            "left": null
          }
        },
        "c6875c1975564c8e800704b076d6d7a2": {
          "model_module": "@jupyter-widgets/controls",
          "model_name": "ProgressStyleModel",
          "model_module_version": "1.5.0",
          "state": {
            "_view_name": "StyleView",
            "_model_name": "ProgressStyleModel",
            "description_width": "",
            "_view_module": "@jupyter-widgets/base",
            "_model_module_version": "1.5.0",
            "_view_count": null,
            "_view_module_version": "1.2.0",
            "bar_color": null,
            "_model_module": "@jupyter-widgets/controls"
          }
        },
        "8f986c402b83419199941475a1c15c29": {
          "model_module": "@jupyter-widgets/base",
          "model_name": "LayoutModel",
          "model_module_version": "1.2.0",
          "state": {
            "_view_name": "LayoutView",
            "grid_template_rows": null,
            "right": null,
            "justify_content": null,
            "_view_module": "@jupyter-widgets/base",
            "overflow": null,
            "_model_module_version": "1.2.0",
            "_view_count": null,
            "flex_flow": null,
            "width": null,
            "min_width": null,
            "border": null,
            "align_items": null,
            "bottom": null,
            "_model_module": "@jupyter-widgets/base",
            "top": null,
            "grid_column": null,
            "overflow_y": null,
            "overflow_x": null,
            "grid_auto_flow": null,
            "grid_area": null,
            "grid_template_columns": null,
            "flex": null,
            "_model_name": "LayoutModel",
            "justify_items": null,
            "grid_row": null,
            "max_height": null,
            "align_content": null,
            "visibility": null,
            "align_self": null,
            "height": null,
            "min_height": null,
            "padding": null,
            "grid_auto_rows": null,
            "grid_gap": null,
            "max_width": null,
            "order": null,
            "_view_module_version": "1.2.0",
            "grid_template_areas": null,
            "object_position": null,
            "object_fit": null,
            "grid_auto_columns": null,
            "margin": null,
            "display": null,
            "left": null
          }
        },
        "9f89fd3140874a949427d03a8a6c55a0": {
          "model_module": "@jupyter-widgets/controls",
          "model_name": "VBoxModel",
          "model_module_version": "1.5.0",
          "state": {
            "_view_name": "VBoxView",
            "_dom_classes": [],
            "_model_name": "VBoxModel",
            "_view_module": "@jupyter-widgets/controls",
            "_model_module_version": "1.5.0",
            "_view_count": null,
            "_view_module_version": "1.5.0",
            "box_style": "",
            "layout": "IPY_MODEL_9888fadeb9944cd296b69bc39286d5cc",
            "_model_module": "@jupyter-widgets/controls",
            "children": [
              "IPY_MODEL_dc2093bd19574bd6812e8b15106348b2",
              "IPY_MODEL_55375e1a0f304233af7622e8af76614a"
            ]
          }
        },
        "9888fadeb9944cd296b69bc39286d5cc": {
          "model_module": "@jupyter-widgets/base",
          "model_name": "LayoutModel",
          "model_module_version": "1.2.0",
          "state": {
            "_view_name": "LayoutView",
            "grid_template_rows": null,
            "right": null,
            "justify_content": null,
            "_view_module": "@jupyter-widgets/base",
            "overflow": null,
            "_model_module_version": "1.2.0",
            "_view_count": null,
            "flex_flow": null,
            "width": null,
            "min_width": null,
            "border": null,
            "align_items": null,
            "bottom": null,
            "_model_module": "@jupyter-widgets/base",
            "top": null,
            "grid_column": null,
            "overflow_y": null,
            "overflow_x": null,
            "grid_auto_flow": null,
            "grid_area": null,
            "grid_template_columns": null,
            "flex": null,
            "_model_name": "LayoutModel",
            "justify_items": null,
            "grid_row": null,
            "max_height": null,
            "align_content": null,
            "visibility": null,
            "align_self": null,
            "height": null,
            "min_height": null,
            "padding": null,
            "grid_auto_rows": null,
            "grid_gap": null,
            "max_width": null,
            "order": null,
            "_view_module_version": "1.2.0",
            "grid_template_areas": null,
            "object_position": null,
            "object_fit": null,
            "grid_auto_columns": null,
            "margin": null,
            "display": null,
            "left": null
          }
        },
        "dc2093bd19574bd6812e8b15106348b2": {
          "model_module": "@jupyter-widgets/controls",
          "model_name": "LabelModel",
          "model_module_version": "1.5.0",
          "state": {
            "_view_name": "LabelView",
            "style": "IPY_MODEL_11eb35bb96234d0b9825543131d8268b",
            "_dom_classes": [],
            "description": "",
            "_model_name": "LabelModel",
            "placeholder": "​",
            "_view_module": "@jupyter-widgets/controls",
            "_model_module_version": "1.5.0",
            "value": " 0.01MB of 0.01MB uploaded (0.00MB deduped)\r",
            "_view_count": null,
            "_view_module_version": "1.5.0",
            "description_tooltip": null,
            "_model_module": "@jupyter-widgets/controls",
            "layout": "IPY_MODEL_5fbced9d0da74f818d2921d6a9d00ab1"
          }
        },
        "55375e1a0f304233af7622e8af76614a": {
          "model_module": "@jupyter-widgets/controls",
          "model_name": "FloatProgressModel",
          "model_module_version": "1.5.0",
          "state": {
            "_view_name": "ProgressView",
            "style": "IPY_MODEL_bad27b9ab31149689d7e49aee0341409",
            "_dom_classes": [],
            "description": "",
            "_model_name": "FloatProgressModel",
            "bar_style": "",
            "max": 1,
            "_view_module": "@jupyter-widgets/controls",
            "_model_module_version": "1.5.0",
            "value": 1,
            "_view_count": null,
            "_view_module_version": "1.5.0",
            "orientation": "horizontal",
            "min": 0,
            "description_tooltip": null,
            "_model_module": "@jupyter-widgets/controls",
            "layout": "IPY_MODEL_bfb09a7d8da84d2b9cd67a3f4d76aac2"
          }
        },
        "11eb35bb96234d0b9825543131d8268b": {
          "model_module": "@jupyter-widgets/controls",
          "model_name": "DescriptionStyleModel",
          "model_module_version": "1.5.0",
          "state": {
            "_view_name": "StyleView",
            "_model_name": "DescriptionStyleModel",
            "description_width": "",
            "_view_module": "@jupyter-widgets/base",
            "_model_module_version": "1.5.0",
            "_view_count": null,
            "_view_module_version": "1.2.0",
            "_model_module": "@jupyter-widgets/controls"
          }
        },
        "5fbced9d0da74f818d2921d6a9d00ab1": {
          "model_module": "@jupyter-widgets/base",
          "model_name": "LayoutModel",
          "model_module_version": "1.2.0",
          "state": {
            "_view_name": "LayoutView",
            "grid_template_rows": null,
            "right": null,
            "justify_content": null,
            "_view_module": "@jupyter-widgets/base",
            "overflow": null,
            "_model_module_version": "1.2.0",
            "_view_count": null,
            "flex_flow": null,
            "width": null,
            "min_width": null,
            "border": null,
            "align_items": null,
            "bottom": null,
            "_model_module": "@jupyter-widgets/base",
            "top": null,
            "grid_column": null,
            "overflow_y": null,
            "overflow_x": null,
            "grid_auto_flow": null,
            "grid_area": null,
            "grid_template_columns": null,
            "flex": null,
            "_model_name": "LayoutModel",
            "justify_items": null,
            "grid_row": null,
            "max_height": null,
            "align_content": null,
            "visibility": null,
            "align_self": null,
            "height": null,
            "min_height": null,
            "padding": null,
            "grid_auto_rows": null,
            "grid_gap": null,
            "max_width": null,
            "order": null,
            "_view_module_version": "1.2.0",
            "grid_template_areas": null,
            "object_position": null,
            "object_fit": null,
            "grid_auto_columns": null,
            "margin": null,
            "display": null,
            "left": null
          }
        },
        "bad27b9ab31149689d7e49aee0341409": {
          "model_module": "@jupyter-widgets/controls",
          "model_name": "ProgressStyleModel",
          "model_module_version": "1.5.0",
          "state": {
            "_view_name": "StyleView",
            "_model_name": "ProgressStyleModel",
            "description_width": "",
            "_view_module": "@jupyter-widgets/base",
            "_model_module_version": "1.5.0",
            "_view_count": null,
            "_view_module_version": "1.2.0",
            "bar_color": null,
            "_model_module": "@jupyter-widgets/controls"
          }
        },
        "bfb09a7d8da84d2b9cd67a3f4d76aac2": {
          "model_module": "@jupyter-widgets/base",
          "model_name": "LayoutModel",
          "model_module_version": "1.2.0",
          "state": {
            "_view_name": "LayoutView",
            "grid_template_rows": null,
            "right": null,
            "justify_content": null,
            "_view_module": "@jupyter-widgets/base",
            "overflow": null,
            "_model_module_version": "1.2.0",
            "_view_count": null,
            "flex_flow": null,
            "width": null,
            "min_width": null,
            "border": null,
            "align_items": null,
            "bottom": null,
            "_model_module": "@jupyter-widgets/base",
            "top": null,
            "grid_column": null,
            "overflow_y": null,
            "overflow_x": null,
            "grid_auto_flow": null,
            "grid_area": null,
            "grid_template_columns": null,
            "flex": null,
            "_model_name": "LayoutModel",
            "justify_items": null,
            "grid_row": null,
            "max_height": null,
            "align_content": null,
            "visibility": null,
            "align_self": null,
            "height": null,
            "min_height": null,
            "padding": null,
            "grid_auto_rows": null,
            "grid_gap": null,
            "max_width": null,
            "order": null,
            "_view_module_version": "1.2.0",
            "grid_template_areas": null,
            "object_position": null,
            "object_fit": null,
            "grid_auto_columns": null,
            "margin": null,
            "display": null,
            "left": null
          }
        },
        "6e4bc66b01694b53bf06f81bfc0758c1": {
          "model_module": "@jupyter-widgets/controls",
          "model_name": "VBoxModel",
          "model_module_version": "1.5.0",
          "state": {
            "_view_name": "VBoxView",
            "_dom_classes": [],
            "_model_name": "VBoxModel",
            "_view_module": "@jupyter-widgets/controls",
            "_model_module_version": "1.5.0",
            "_view_count": null,
            "_view_module_version": "1.5.0",
            "box_style": "",
            "layout": "IPY_MODEL_d87ec85623e04e56925e98ef4047dbe3",
            "_model_module": "@jupyter-widgets/controls",
            "children": [
              "IPY_MODEL_6aed319ee6784571a8dc751308c6c7a4",
              "IPY_MODEL_d58696bcaa8e45d796a5bf750a7ee9a2"
            ]
          }
        },
        "d87ec85623e04e56925e98ef4047dbe3": {
          "model_module": "@jupyter-widgets/base",
          "model_name": "LayoutModel",
          "model_module_version": "1.2.0",
          "state": {
            "_view_name": "LayoutView",
            "grid_template_rows": null,
            "right": null,
            "justify_content": null,
            "_view_module": "@jupyter-widgets/base",
            "overflow": null,
            "_model_module_version": "1.2.0",
            "_view_count": null,
            "flex_flow": null,
            "width": null,
            "min_width": null,
            "border": null,
            "align_items": null,
            "bottom": null,
            "_model_module": "@jupyter-widgets/base",
            "top": null,
            "grid_column": null,
            "overflow_y": null,
            "overflow_x": null,
            "grid_auto_flow": null,
            "grid_area": null,
            "grid_template_columns": null,
            "flex": null,
            "_model_name": "LayoutModel",
            "justify_items": null,
            "grid_row": null,
            "max_height": null,
            "align_content": null,
            "visibility": null,
            "align_self": null,
            "height": null,
            "min_height": null,
            "padding": null,
            "grid_auto_rows": null,
            "grid_gap": null,
            "max_width": null,
            "order": null,
            "_view_module_version": "1.2.0",
            "grid_template_areas": null,
            "object_position": null,
            "object_fit": null,
            "grid_auto_columns": null,
            "margin": null,
            "display": null,
            "left": null
          }
        },
        "6aed319ee6784571a8dc751308c6c7a4": {
          "model_module": "@jupyter-widgets/controls",
          "model_name": "LabelModel",
          "model_module_version": "1.5.0",
          "state": {
            "_view_name": "LabelView",
            "style": "IPY_MODEL_ad5549d2046b44c294addfdd15db4a42",
            "_dom_classes": [],
            "description": "",
            "_model_name": "LabelModel",
            "placeholder": "​",
            "_view_module": "@jupyter-widgets/controls",
            "_model_module_version": "1.5.0",
            "value": " 47.04MB of 47.04MB uploaded (0.00MB deduped)\r",
            "_view_count": null,
            "_view_module_version": "1.5.0",
            "description_tooltip": null,
            "_model_module": "@jupyter-widgets/controls",
            "layout": "IPY_MODEL_ec4da4e3b6fe4ea7acb231af289d9bbf"
          }
        },
        "d58696bcaa8e45d796a5bf750a7ee9a2": {
          "model_module": "@jupyter-widgets/controls",
          "model_name": "FloatProgressModel",
          "model_module_version": "1.5.0",
          "state": {
            "_view_name": "ProgressView",
            "style": "IPY_MODEL_92c97c29320247fc8eb1e21be97130aa",
            "_dom_classes": [],
            "description": "",
            "_model_name": "FloatProgressModel",
            "bar_style": "",
            "max": 1,
            "_view_module": "@jupyter-widgets/controls",
            "_model_module_version": "1.5.0",
            "value": 1,
            "_view_count": null,
            "_view_module_version": "1.5.0",
            "orientation": "horizontal",
            "min": 0,
            "description_tooltip": null,
            "_model_module": "@jupyter-widgets/controls",
            "layout": "IPY_MODEL_d3365e111c1d477683aaf7baaec6240c"
          }
        },
        "ad5549d2046b44c294addfdd15db4a42": {
          "model_module": "@jupyter-widgets/controls",
          "model_name": "DescriptionStyleModel",
          "model_module_version": "1.5.0",
          "state": {
            "_view_name": "StyleView",
            "_model_name": "DescriptionStyleModel",
            "description_width": "",
            "_view_module": "@jupyter-widgets/base",
            "_model_module_version": "1.5.0",
            "_view_count": null,
            "_view_module_version": "1.2.0",
            "_model_module": "@jupyter-widgets/controls"
          }
        },
        "ec4da4e3b6fe4ea7acb231af289d9bbf": {
          "model_module": "@jupyter-widgets/base",
          "model_name": "LayoutModel",
          "model_module_version": "1.2.0",
          "state": {
            "_view_name": "LayoutView",
            "grid_template_rows": null,
            "right": null,
            "justify_content": null,
            "_view_module": "@jupyter-widgets/base",
            "overflow": null,
            "_model_module_version": "1.2.0",
            "_view_count": null,
            "flex_flow": null,
            "width": null,
            "min_width": null,
            "border": null,
            "align_items": null,
            "bottom": null,
            "_model_module": "@jupyter-widgets/base",
            "top": null,
            "grid_column": null,
            "overflow_y": null,
            "overflow_x": null,
            "grid_auto_flow": null,
            "grid_area": null,
            "grid_template_columns": null,
            "flex": null,
            "_model_name": "LayoutModel",
            "justify_items": null,
            "grid_row": null,
            "max_height": null,
            "align_content": null,
            "visibility": null,
            "align_self": null,
            "height": null,
            "min_height": null,
            "padding": null,
            "grid_auto_rows": null,
            "grid_gap": null,
            "max_width": null,
            "order": null,
            "_view_module_version": "1.2.0",
            "grid_template_areas": null,
            "object_position": null,
            "object_fit": null,
            "grid_auto_columns": null,
            "margin": null,
            "display": null,
            "left": null
          }
        },
        "92c97c29320247fc8eb1e21be97130aa": {
          "model_module": "@jupyter-widgets/controls",
          "model_name": "ProgressStyleModel",
          "model_module_version": "1.5.0",
          "state": {
            "_view_name": "StyleView",
            "_model_name": "ProgressStyleModel",
            "description_width": "",
            "_view_module": "@jupyter-widgets/base",
            "_model_module_version": "1.5.0",
            "_view_count": null,
            "_view_module_version": "1.2.0",
            "bar_color": null,
            "_model_module": "@jupyter-widgets/controls"
          }
        },
        "d3365e111c1d477683aaf7baaec6240c": {
          "model_module": "@jupyter-widgets/base",
          "model_name": "LayoutModel",
          "model_module_version": "1.2.0",
          "state": {
            "_view_name": "LayoutView",
            "grid_template_rows": null,
            "right": null,
            "justify_content": null,
            "_view_module": "@jupyter-widgets/base",
            "overflow": null,
            "_model_module_version": "1.2.0",
            "_view_count": null,
            "flex_flow": null,
            "width": null,
            "min_width": null,
            "border": null,
            "align_items": null,
            "bottom": null,
            "_model_module": "@jupyter-widgets/base",
            "top": null,
            "grid_column": null,
            "overflow_y": null,
            "overflow_x": null,
            "grid_auto_flow": null,
            "grid_area": null,
            "grid_template_columns": null,
            "flex": null,
            "_model_name": "LayoutModel",
            "justify_items": null,
            "grid_row": null,
            "max_height": null,
            "align_content": null,
            "visibility": null,
            "align_self": null,
            "height": null,
            "min_height": null,
            "padding": null,
            "grid_auto_rows": null,
            "grid_gap": null,
            "max_width": null,
            "order": null,
            "_view_module_version": "1.2.0",
            "grid_template_areas": null,
            "object_position": null,
            "object_fit": null,
            "grid_auto_columns": null,
            "margin": null,
            "display": null,
            "left": null
          }
        },
        "cc20d3e510ff4303b3800fb50395b75e": {
          "model_module": "@jupyter-widgets/controls",
          "model_name": "VBoxModel",
          "model_module_version": "1.5.0",
          "state": {
            "_view_name": "VBoxView",
            "_dom_classes": [],
            "_model_name": "VBoxModel",
            "_view_module": "@jupyter-widgets/controls",
            "_model_module_version": "1.5.0",
            "_view_count": null,
            "_view_module_version": "1.5.0",
            "box_style": "",
            "layout": "IPY_MODEL_b3370c33b640454b80422abe4107aa4e",
            "_model_module": "@jupyter-widgets/controls",
            "children": [
              "IPY_MODEL_fd2e757524ef4c179292db9c65335e66",
              "IPY_MODEL_6709fdb88f03407f8bcbae6b905d7039"
            ]
          }
        },
        "b3370c33b640454b80422abe4107aa4e": {
          "model_module": "@jupyter-widgets/base",
          "model_name": "LayoutModel",
          "model_module_version": "1.2.0",
          "state": {
            "_view_name": "LayoutView",
            "grid_template_rows": null,
            "right": null,
            "justify_content": null,
            "_view_module": "@jupyter-widgets/base",
            "overflow": null,
            "_model_module_version": "1.2.0",
            "_view_count": null,
            "flex_flow": null,
            "width": null,
            "min_width": null,
            "border": null,
            "align_items": null,
            "bottom": null,
            "_model_module": "@jupyter-widgets/base",
            "top": null,
            "grid_column": null,
            "overflow_y": null,
            "overflow_x": null,
            "grid_auto_flow": null,
            "grid_area": null,
            "grid_template_columns": null,
            "flex": null,
            "_model_name": "LayoutModel",
            "justify_items": null,
            "grid_row": null,
            "max_height": null,
            "align_content": null,
            "visibility": null,
            "align_self": null,
            "height": null,
            "min_height": null,
            "padding": null,
            "grid_auto_rows": null,
            "grid_gap": null,
            "max_width": null,
            "order": null,
            "_view_module_version": "1.2.0",
            "grid_template_areas": null,
            "object_position": null,
            "object_fit": null,
            "grid_auto_columns": null,
            "margin": null,
            "display": null,
            "left": null
          }
        },
        "fd2e757524ef4c179292db9c65335e66": {
          "model_module": "@jupyter-widgets/controls",
          "model_name": "LabelModel",
          "model_module_version": "1.5.0",
          "state": {
            "_view_name": "LabelView",
            "style": "IPY_MODEL_3c21a36bf5354d319334c068d580cc7a",
            "_dom_classes": [],
            "description": "",
            "_model_name": "LabelModel",
            "placeholder": "​",
            "_view_module": "@jupyter-widgets/controls",
            "_model_module_version": "1.5.0",
            "value": " 47.04MB of 47.04MB uploaded (0.00MB deduped)\r",
            "_view_count": null,
            "_view_module_version": "1.5.0",
            "description_tooltip": null,
            "_model_module": "@jupyter-widgets/controls",
            "layout": "IPY_MODEL_9f48d6c0425c4a15a4a940999b5494a1"
          }
        },
        "6709fdb88f03407f8bcbae6b905d7039": {
          "model_module": "@jupyter-widgets/controls",
          "model_name": "FloatProgressModel",
          "model_module_version": "1.5.0",
          "state": {
            "_view_name": "ProgressView",
            "style": "IPY_MODEL_a8cc02a955eb4a46ae8a10309419819f",
            "_dom_classes": [],
            "description": "",
            "_model_name": "FloatProgressModel",
            "bar_style": "",
            "max": 1,
            "_view_module": "@jupyter-widgets/controls",
            "_model_module_version": "1.5.0",
            "value": 1,
            "_view_count": null,
            "_view_module_version": "1.5.0",
            "orientation": "horizontal",
            "min": 0,
            "description_tooltip": null,
            "_model_module": "@jupyter-widgets/controls",
            "layout": "IPY_MODEL_6b1e6dd7a15941bb89d48e5960ace3c4"
          }
        },
        "3c21a36bf5354d319334c068d580cc7a": {
          "model_module": "@jupyter-widgets/controls",
          "model_name": "DescriptionStyleModel",
          "model_module_version": "1.5.0",
          "state": {
            "_view_name": "StyleView",
            "_model_name": "DescriptionStyleModel",
            "description_width": "",
            "_view_module": "@jupyter-widgets/base",
            "_model_module_version": "1.5.0",
            "_view_count": null,
            "_view_module_version": "1.2.0",
            "_model_module": "@jupyter-widgets/controls"
          }
        },
        "9f48d6c0425c4a15a4a940999b5494a1": {
          "model_module": "@jupyter-widgets/base",
          "model_name": "LayoutModel",
          "model_module_version": "1.2.0",
          "state": {
            "_view_name": "LayoutView",
            "grid_template_rows": null,
            "right": null,
            "justify_content": null,
            "_view_module": "@jupyter-widgets/base",
            "overflow": null,
            "_model_module_version": "1.2.0",
            "_view_count": null,
            "flex_flow": null,
            "width": null,
            "min_width": null,
            "border": null,
            "align_items": null,
            "bottom": null,
            "_model_module": "@jupyter-widgets/base",
            "top": null,
            "grid_column": null,
            "overflow_y": null,
            "overflow_x": null,
            "grid_auto_flow": null,
            "grid_area": null,
            "grid_template_columns": null,
            "flex": null,
            "_model_name": "LayoutModel",
            "justify_items": null,
            "grid_row": null,
            "max_height": null,
            "align_content": null,
            "visibility": null,
            "align_self": null,
            "height": null,
            "min_height": null,
            "padding": null,
            "grid_auto_rows": null,
            "grid_gap": null,
            "max_width": null,
            "order": null,
            "_view_module_version": "1.2.0",
            "grid_template_areas": null,
            "object_position": null,
            "object_fit": null,
            "grid_auto_columns": null,
            "margin": null,
            "display": null,
            "left": null
          }
        },
        "a8cc02a955eb4a46ae8a10309419819f": {
          "model_module": "@jupyter-widgets/controls",
          "model_name": "ProgressStyleModel",
          "model_module_version": "1.5.0",
          "state": {
            "_view_name": "StyleView",
            "_model_name": "ProgressStyleModel",
            "description_width": "",
            "_view_module": "@jupyter-widgets/base",
            "_model_module_version": "1.5.0",
            "_view_count": null,
            "_view_module_version": "1.2.0",
            "bar_color": null,
            "_model_module": "@jupyter-widgets/controls"
          }
        },
        "6b1e6dd7a15941bb89d48e5960ace3c4": {
          "model_module": "@jupyter-widgets/base",
          "model_name": "LayoutModel",
          "model_module_version": "1.2.0",
          "state": {
            "_view_name": "LayoutView",
            "grid_template_rows": null,
            "right": null,
            "justify_content": null,
            "_view_module": "@jupyter-widgets/base",
            "overflow": null,
            "_model_module_version": "1.2.0",
            "_view_count": null,
            "flex_flow": null,
            "width": null,
            "min_width": null,
            "border": null,
            "align_items": null,
            "bottom": null,
            "_model_module": "@jupyter-widgets/base",
            "top": null,
            "grid_column": null,
            "overflow_y": null,
            "overflow_x": null,
            "grid_auto_flow": null,
            "grid_area": null,
            "grid_template_columns": null,
            "flex": null,
            "_model_name": "LayoutModel",
            "justify_items": null,
            "grid_row": null,
            "max_height": null,
            "align_content": null,
            "visibility": null,
            "align_self": null,
            "height": null,
            "min_height": null,
            "padding": null,
            "grid_auto_rows": null,
            "grid_gap": null,
            "max_width": null,
            "order": null,
            "_view_module_version": "1.2.0",
            "grid_template_areas": null,
            "object_position": null,
            "object_fit": null,
            "grid_auto_columns": null,
            "margin": null,
            "display": null,
            "left": null
          }
        },
        "fc7ab1ff871c4637a65c6a17a31a1339": {
          "model_module": "@jupyter-widgets/controls",
          "model_name": "VBoxModel",
          "model_module_version": "1.5.0",
          "state": {
            "_view_name": "VBoxView",
            "_dom_classes": [],
            "_model_name": "VBoxModel",
            "_view_module": "@jupyter-widgets/controls",
            "_model_module_version": "1.5.0",
            "_view_count": null,
            "_view_module_version": "1.5.0",
            "box_style": "",
            "layout": "IPY_MODEL_781349bf892847fb9bd224b3d804137b",
            "_model_module": "@jupyter-widgets/controls",
            "children": [
              "IPY_MODEL_858ce972db4b4441af1751ed5055166e",
              "IPY_MODEL_ae57bff4a3364586a6716b702c1e5144"
            ]
          }
        },
        "781349bf892847fb9bd224b3d804137b": {
          "model_module": "@jupyter-widgets/base",
          "model_name": "LayoutModel",
          "model_module_version": "1.2.0",
          "state": {
            "_view_name": "LayoutView",
            "grid_template_rows": null,
            "right": null,
            "justify_content": null,
            "_view_module": "@jupyter-widgets/base",
            "overflow": null,
            "_model_module_version": "1.2.0",
            "_view_count": null,
            "flex_flow": null,
            "width": null,
            "min_width": null,
            "border": null,
            "align_items": null,
            "bottom": null,
            "_model_module": "@jupyter-widgets/base",
            "top": null,
            "grid_column": null,
            "overflow_y": null,
            "overflow_x": null,
            "grid_auto_flow": null,
            "grid_area": null,
            "grid_template_columns": null,
            "flex": null,
            "_model_name": "LayoutModel",
            "justify_items": null,
            "grid_row": null,
            "max_height": null,
            "align_content": null,
            "visibility": null,
            "align_self": null,
            "height": null,
            "min_height": null,
            "padding": null,
            "grid_auto_rows": null,
            "grid_gap": null,
            "max_width": null,
            "order": null,
            "_view_module_version": "1.2.0",
            "grid_template_areas": null,
            "object_position": null,
            "object_fit": null,
            "grid_auto_columns": null,
            "margin": null,
            "display": null,
            "left": null
          }
        },
        "858ce972db4b4441af1751ed5055166e": {
          "model_module": "@jupyter-widgets/controls",
          "model_name": "LabelModel",
          "model_module_version": "1.5.0",
          "state": {
            "_view_name": "LabelView",
            "style": "IPY_MODEL_298bd4fe69fc4dcf86f5a22cc797823c",
            "_dom_classes": [],
            "description": "",
            "_model_name": "LabelModel",
            "placeholder": "​",
            "_view_module": "@jupyter-widgets/controls",
            "_model_module_version": "1.5.0",
            "value": " 47.09MB of 47.09MB uploaded (0.00MB deduped)\r",
            "_view_count": null,
            "_view_module_version": "1.5.0",
            "description_tooltip": null,
            "_model_module": "@jupyter-widgets/controls",
            "layout": "IPY_MODEL_a84a52ac1af04a2dbbe6d2121dc4afe9"
          }
        },
        "ae57bff4a3364586a6716b702c1e5144": {
          "model_module": "@jupyter-widgets/controls",
          "model_name": "FloatProgressModel",
          "model_module_version": "1.5.0",
          "state": {
            "_view_name": "ProgressView",
            "style": "IPY_MODEL_a4821739d06149719b81f037a1d5b399",
            "_dom_classes": [],
            "description": "",
            "_model_name": "FloatProgressModel",
            "bar_style": "",
            "max": 1,
            "_view_module": "@jupyter-widgets/controls",
            "_model_module_version": "1.5.0",
            "value": 1,
            "_view_count": null,
            "_view_module_version": "1.5.0",
            "orientation": "horizontal",
            "min": 0,
            "description_tooltip": null,
            "_model_module": "@jupyter-widgets/controls",
            "layout": "IPY_MODEL_0ed48a4f8cd24cea8ec1cd666659aead"
          }
        },
        "298bd4fe69fc4dcf86f5a22cc797823c": {
          "model_module": "@jupyter-widgets/controls",
          "model_name": "DescriptionStyleModel",
          "model_module_version": "1.5.0",
          "state": {
            "_view_name": "StyleView",
            "_model_name": "DescriptionStyleModel",
            "description_width": "",
            "_view_module": "@jupyter-widgets/base",
            "_model_module_version": "1.5.0",
            "_view_count": null,
            "_view_module_version": "1.2.0",
            "_model_module": "@jupyter-widgets/controls"
          }
        },
        "a84a52ac1af04a2dbbe6d2121dc4afe9": {
          "model_module": "@jupyter-widgets/base",
          "model_name": "LayoutModel",
          "model_module_version": "1.2.0",
          "state": {
            "_view_name": "LayoutView",
            "grid_template_rows": null,
            "right": null,
            "justify_content": null,
            "_view_module": "@jupyter-widgets/base",
            "overflow": null,
            "_model_module_version": "1.2.0",
            "_view_count": null,
            "flex_flow": null,
            "width": null,
            "min_width": null,
            "border": null,
            "align_items": null,
            "bottom": null,
            "_model_module": "@jupyter-widgets/base",
            "top": null,
            "grid_column": null,
            "overflow_y": null,
            "overflow_x": null,
            "grid_auto_flow": null,
            "grid_area": null,
            "grid_template_columns": null,
            "flex": null,
            "_model_name": "LayoutModel",
            "justify_items": null,
            "grid_row": null,
            "max_height": null,
            "align_content": null,
            "visibility": null,
            "align_self": null,
            "height": null,
            "min_height": null,
            "padding": null,
            "grid_auto_rows": null,
            "grid_gap": null,
            "max_width": null,
            "order": null,
            "_view_module_version": "1.2.0",
            "grid_template_areas": null,
            "object_position": null,
            "object_fit": null,
            "grid_auto_columns": null,
            "margin": null,
            "display": null,
            "left": null
          }
        },
        "a4821739d06149719b81f037a1d5b399": {
          "model_module": "@jupyter-widgets/controls",
          "model_name": "ProgressStyleModel",
          "model_module_version": "1.5.0",
          "state": {
            "_view_name": "StyleView",
            "_model_name": "ProgressStyleModel",
            "description_width": "",
            "_view_module": "@jupyter-widgets/base",
            "_model_module_version": "1.5.0",
            "_view_count": null,
            "_view_module_version": "1.2.0",
            "bar_color": null,
            "_model_module": "@jupyter-widgets/controls"
          }
        },
        "0ed48a4f8cd24cea8ec1cd666659aead": {
          "model_module": "@jupyter-widgets/base",
          "model_name": "LayoutModel",
          "model_module_version": "1.2.0",
          "state": {
            "_view_name": "LayoutView",
            "grid_template_rows": null,
            "right": null,
            "justify_content": null,
            "_view_module": "@jupyter-widgets/base",
            "overflow": null,
            "_model_module_version": "1.2.0",
            "_view_count": null,
            "flex_flow": null,
            "width": null,
            "min_width": null,
            "border": null,
            "align_items": null,
            "bottom": null,
            "_model_module": "@jupyter-widgets/base",
            "top": null,
            "grid_column": null,
            "overflow_y": null,
            "overflow_x": null,
            "grid_auto_flow": null,
            "grid_area": null,
            "grid_template_columns": null,
            "flex": null,
            "_model_name": "LayoutModel",
            "justify_items": null,
            "grid_row": null,
            "max_height": null,
            "align_content": null,
            "visibility": null,
            "align_self": null,
            "height": null,
            "min_height": null,
            "padding": null,
            "grid_auto_rows": null,
            "grid_gap": null,
            "max_width": null,
            "order": null,
            "_view_module_version": "1.2.0",
            "grid_template_areas": null,
            "object_position": null,
            "object_fit": null,
            "grid_auto_columns": null,
            "margin": null,
            "display": null,
            "left": null
          }
        }
      }
    }
  },
  "cells": [
    {
      "cell_type": "markdown",
      "metadata": {
        "id": "view-in-github",
        "colab_type": "text"
      },
      "source": [
        "<a href=\"https://colab.research.google.com/github/yotamraz/wsc-classifier/blob/main/wsc_solution.ipynb\" target=\"_parent\"><img src=\"https://colab.research.google.com/assets/colab-badge.svg\" alt=\"Open In Colab\"/></a>"
      ]
    },
    {
      "cell_type": "markdown",
      "source": [
        "# **General approach**\n",
        "\n",
        "1. EDA\n",
        "2. training\n",
        "3. testing\n",
        "4. analysis and improvment suggestions\n",
        "5. retrain\n",
        "6. testing"
      ],
      "metadata": {
        "id": "8eg76utvIFvr"
      }
    },
    {
      "cell_type": "markdown",
      "source": [
        "# **Notebook init**"
      ],
      "metadata": {
        "id": "zpxmFxxAMllw"
      }
    },
    {
      "cell_type": "code",
      "source": [
        "# installing additional packages\n",
        "!pip install wandb\n",
        "!wandb login\n",
        "!git config --global user.email \"yotamraz2007@gmail.com\"\n",
        "!pip install gdown\n",
        "!pip install imbalanced-learn"
      ],
      "metadata": {
        "id": "W-vQ2cYTMohw",
        "outputId": "a83726b9-1e6d-47b9-87db-98d001d4c217",
        "colab": {
          "base_uri": "https://localhost:8080/"
        }
      },
      "execution_count": 1,
      "outputs": [
        {
          "output_type": "stream",
          "name": "stdout",
          "text": [
            "Collecting wandb\n",
            "  Downloading wandb-0.12.10-py2.py3-none-any.whl (1.7 MB)\n",
            "\u001b[?25l\r\u001b[K     |▏                               | 10 kB 27.4 MB/s eta 0:00:01\r\u001b[K     |▍                               | 20 kB 30.8 MB/s eta 0:00:01\r\u001b[K     |▋                               | 30 kB 21.3 MB/s eta 0:00:01\r\u001b[K     |▊                               | 40 kB 17.9 MB/s eta 0:00:01\r\u001b[K     |█                               | 51 kB 7.9 MB/s eta 0:00:01\r\u001b[K     |█▏                              | 61 kB 9.3 MB/s eta 0:00:01\r\u001b[K     |█▍                              | 71 kB 10.0 MB/s eta 0:00:01\r\u001b[K     |█▌                              | 81 kB 10.0 MB/s eta 0:00:01\r\u001b[K     |█▊                              | 92 kB 11.1 MB/s eta 0:00:01\r\u001b[K     |██                              | 102 kB 9.3 MB/s eta 0:00:01\r\u001b[K     |██                              | 112 kB 9.3 MB/s eta 0:00:01\r\u001b[K     |██▎                             | 122 kB 9.3 MB/s eta 0:00:01\r\u001b[K     |██▌                             | 133 kB 9.3 MB/s eta 0:00:01\r\u001b[K     |██▊                             | 143 kB 9.3 MB/s eta 0:00:01\r\u001b[K     |██▉                             | 153 kB 9.3 MB/s eta 0:00:01\r\u001b[K     |███                             | 163 kB 9.3 MB/s eta 0:00:01\r\u001b[K     |███▎                            | 174 kB 9.3 MB/s eta 0:00:01\r\u001b[K     |███▍                            | 184 kB 9.3 MB/s eta 0:00:01\r\u001b[K     |███▋                            | 194 kB 9.3 MB/s eta 0:00:01\r\u001b[K     |███▉                            | 204 kB 9.3 MB/s eta 0:00:01\r\u001b[K     |████                            | 215 kB 9.3 MB/s eta 0:00:01\r\u001b[K     |████▏                           | 225 kB 9.3 MB/s eta 0:00:01\r\u001b[K     |████▍                           | 235 kB 9.3 MB/s eta 0:00:01\r\u001b[K     |████▋                           | 245 kB 9.3 MB/s eta 0:00:01\r\u001b[K     |████▊                           | 256 kB 9.3 MB/s eta 0:00:01\r\u001b[K     |█████                           | 266 kB 9.3 MB/s eta 0:00:01\r\u001b[K     |█████▏                          | 276 kB 9.3 MB/s eta 0:00:01\r\u001b[K     |█████▍                          | 286 kB 9.3 MB/s eta 0:00:01\r\u001b[K     |█████▌                          | 296 kB 9.3 MB/s eta 0:00:01\r\u001b[K     |█████▊                          | 307 kB 9.3 MB/s eta 0:00:01\r\u001b[K     |██████                          | 317 kB 9.3 MB/s eta 0:00:01\r\u001b[K     |██████                          | 327 kB 9.3 MB/s eta 0:00:01\r\u001b[K     |██████▎                         | 337 kB 9.3 MB/s eta 0:00:01\r\u001b[K     |██████▌                         | 348 kB 9.3 MB/s eta 0:00:01\r\u001b[K     |██████▊                         | 358 kB 9.3 MB/s eta 0:00:01\r\u001b[K     |██████▉                         | 368 kB 9.3 MB/s eta 0:00:01\r\u001b[K     |███████                         | 378 kB 9.3 MB/s eta 0:00:01\r\u001b[K     |███████▎                        | 389 kB 9.3 MB/s eta 0:00:01\r\u001b[K     |███████▍                        | 399 kB 9.3 MB/s eta 0:00:01\r\u001b[K     |███████▋                        | 409 kB 9.3 MB/s eta 0:00:01\r\u001b[K     |███████▉                        | 419 kB 9.3 MB/s eta 0:00:01\r\u001b[K     |████████                        | 430 kB 9.3 MB/s eta 0:00:01\r\u001b[K     |████████▏                       | 440 kB 9.3 MB/s eta 0:00:01\r\u001b[K     |████████▍                       | 450 kB 9.3 MB/s eta 0:00:01\r\u001b[K     |████████▋                       | 460 kB 9.3 MB/s eta 0:00:01\r\u001b[K     |████████▊                       | 471 kB 9.3 MB/s eta 0:00:01\r\u001b[K     |█████████                       | 481 kB 9.3 MB/s eta 0:00:01\r\u001b[K     |█████████▏                      | 491 kB 9.3 MB/s eta 0:00:01\r\u001b[K     |█████████▍                      | 501 kB 9.3 MB/s eta 0:00:01\r\u001b[K     |█████████▌                      | 512 kB 9.3 MB/s eta 0:00:01\r\u001b[K     |█████████▊                      | 522 kB 9.3 MB/s eta 0:00:01\r\u001b[K     |██████████                      | 532 kB 9.3 MB/s eta 0:00:01\r\u001b[K     |██████████                      | 542 kB 9.3 MB/s eta 0:00:01\r\u001b[K     |██████████▎                     | 552 kB 9.3 MB/s eta 0:00:01\r\u001b[K     |██████████▌                     | 563 kB 9.3 MB/s eta 0:00:01\r\u001b[K     |██████████▊                     | 573 kB 9.3 MB/s eta 0:00:01\r\u001b[K     |██████████▉                     | 583 kB 9.3 MB/s eta 0:00:01\r\u001b[K     |███████████                     | 593 kB 9.3 MB/s eta 0:00:01\r\u001b[K     |███████████▎                    | 604 kB 9.3 MB/s eta 0:00:01\r\u001b[K     |███████████▍                    | 614 kB 9.3 MB/s eta 0:00:01\r\u001b[K     |███████████▋                    | 624 kB 9.3 MB/s eta 0:00:01\r\u001b[K     |███████████▉                    | 634 kB 9.3 MB/s eta 0:00:01\r\u001b[K     |████████████                    | 645 kB 9.3 MB/s eta 0:00:01\r\u001b[K     |████████████▏                   | 655 kB 9.3 MB/s eta 0:00:01\r\u001b[K     |████████████▍                   | 665 kB 9.3 MB/s eta 0:00:01\r\u001b[K     |████████████▋                   | 675 kB 9.3 MB/s eta 0:00:01\r\u001b[K     |████████████▊                   | 686 kB 9.3 MB/s eta 0:00:01\r\u001b[K     |█████████████                   | 696 kB 9.3 MB/s eta 0:00:01\r\u001b[K     |█████████████▏                  | 706 kB 9.3 MB/s eta 0:00:01\r\u001b[K     |█████████████▍                  | 716 kB 9.3 MB/s eta 0:00:01\r\u001b[K     |█████████████▌                  | 727 kB 9.3 MB/s eta 0:00:01\r\u001b[K     |█████████████▊                  | 737 kB 9.3 MB/s eta 0:00:01\r\u001b[K     |██████████████                  | 747 kB 9.3 MB/s eta 0:00:01\r\u001b[K     |██████████████                  | 757 kB 9.3 MB/s eta 0:00:01\r\u001b[K     |██████████████▎                 | 768 kB 9.3 MB/s eta 0:00:01\r\u001b[K     |██████████████▌                 | 778 kB 9.3 MB/s eta 0:00:01\r\u001b[K     |██████████████▊                 | 788 kB 9.3 MB/s eta 0:00:01\r\u001b[K     |██████████████▉                 | 798 kB 9.3 MB/s eta 0:00:01\r\u001b[K     |███████████████                 | 808 kB 9.3 MB/s eta 0:00:01\r\u001b[K     |███████████████▎                | 819 kB 9.3 MB/s eta 0:00:01\r\u001b[K     |███████████████▍                | 829 kB 9.3 MB/s eta 0:00:01\r\u001b[K     |███████████████▋                | 839 kB 9.3 MB/s eta 0:00:01\r\u001b[K     |███████████████▉                | 849 kB 9.3 MB/s eta 0:00:01\r\u001b[K     |████████████████                | 860 kB 9.3 MB/s eta 0:00:01\r\u001b[K     |████████████████▏               | 870 kB 9.3 MB/s eta 0:00:01\r\u001b[K     |████████████████▍               | 880 kB 9.3 MB/s eta 0:00:01\r\u001b[K     |████████████████▋               | 890 kB 9.3 MB/s eta 0:00:01\r\u001b[K     |████████████████▊               | 901 kB 9.3 MB/s eta 0:00:01\r\u001b[K     |█████████████████               | 911 kB 9.3 MB/s eta 0:00:01\r\u001b[K     |█████████████████▏              | 921 kB 9.3 MB/s eta 0:00:01\r\u001b[K     |█████████████████▍              | 931 kB 9.3 MB/s eta 0:00:01\r\u001b[K     |█████████████████▌              | 942 kB 9.3 MB/s eta 0:00:01\r\u001b[K     |█████████████████▊              | 952 kB 9.3 MB/s eta 0:00:01\r\u001b[K     |██████████████████              | 962 kB 9.3 MB/s eta 0:00:01\r\u001b[K     |██████████████████              | 972 kB 9.3 MB/s eta 0:00:01\r\u001b[K     |██████████████████▎             | 983 kB 9.3 MB/s eta 0:00:01\r\u001b[K     |██████████████████▌             | 993 kB 9.3 MB/s eta 0:00:01\r\u001b[K     |██████████████████▊             | 1.0 MB 9.3 MB/s eta 0:00:01\r\u001b[K     |██████████████████▉             | 1.0 MB 9.3 MB/s eta 0:00:01\r\u001b[K     |███████████████████             | 1.0 MB 9.3 MB/s eta 0:00:01\r\u001b[K     |███████████████████▎            | 1.0 MB 9.3 MB/s eta 0:00:01\r\u001b[K     |███████████████████▍            | 1.0 MB 9.3 MB/s eta 0:00:01\r\u001b[K     |███████████████████▋            | 1.1 MB 9.3 MB/s eta 0:00:01\r\u001b[K     |███████████████████▉            | 1.1 MB 9.3 MB/s eta 0:00:01\r\u001b[K     |████████████████████            | 1.1 MB 9.3 MB/s eta 0:00:01\r\u001b[K     |████████████████████▏           | 1.1 MB 9.3 MB/s eta 0:00:01\r\u001b[K     |████████████████████▍           | 1.1 MB 9.3 MB/s eta 0:00:01\r\u001b[K     |████████████████████▋           | 1.1 MB 9.3 MB/s eta 0:00:01\r\u001b[K     |████████████████████▊           | 1.1 MB 9.3 MB/s eta 0:00:01\r\u001b[K     |█████████████████████           | 1.1 MB 9.3 MB/s eta 0:00:01\r\u001b[K     |█████████████████████▏          | 1.1 MB 9.3 MB/s eta 0:00:01\r\u001b[K     |█████████████████████▍          | 1.1 MB 9.3 MB/s eta 0:00:01\r\u001b[K     |█████████████████████▌          | 1.2 MB 9.3 MB/s eta 0:00:01\r\u001b[K     |█████████████████████▊          | 1.2 MB 9.3 MB/s eta 0:00:01\r\u001b[K     |██████████████████████          | 1.2 MB 9.3 MB/s eta 0:00:01\r\u001b[K     |██████████████████████          | 1.2 MB 9.3 MB/s eta 0:00:01\r\u001b[K     |██████████████████████▎         | 1.2 MB 9.3 MB/s eta 0:00:01\r\u001b[K     |██████████████████████▌         | 1.2 MB 9.3 MB/s eta 0:00:01\r\u001b[K     |██████████████████████▊         | 1.2 MB 9.3 MB/s eta 0:00:01\r\u001b[K     |██████████████████████▉         | 1.2 MB 9.3 MB/s eta 0:00:01\r\u001b[K     |███████████████████████         | 1.2 MB 9.3 MB/s eta 0:00:01\r\u001b[K     |███████████████████████▎        | 1.2 MB 9.3 MB/s eta 0:00:01\r\u001b[K     |███████████████████████▍        | 1.3 MB 9.3 MB/s eta 0:00:01\r\u001b[K     |███████████████████████▋        | 1.3 MB 9.3 MB/s eta 0:00:01\r\u001b[K     |███████████████████████▉        | 1.3 MB 9.3 MB/s eta 0:00:01\r\u001b[K     |████████████████████████        | 1.3 MB 9.3 MB/s eta 0:00:01\r\u001b[K     |████████████████████████▏       | 1.3 MB 9.3 MB/s eta 0:00:01\r\u001b[K     |████████████████████████▍       | 1.3 MB 9.3 MB/s eta 0:00:01\r\u001b[K     |████████████████████████▋       | 1.3 MB 9.3 MB/s eta 0:00:01\r\u001b[K     |████████████████████████▊       | 1.3 MB 9.3 MB/s eta 0:00:01\r\u001b[K     |█████████████████████████       | 1.3 MB 9.3 MB/s eta 0:00:01\r\u001b[K     |█████████████████████████▏      | 1.4 MB 9.3 MB/s eta 0:00:01\r\u001b[K     |█████████████████████████▍      | 1.4 MB 9.3 MB/s eta 0:00:01\r\u001b[K     |█████████████████████████▌      | 1.4 MB 9.3 MB/s eta 0:00:01\r\u001b[K     |█████████████████████████▊      | 1.4 MB 9.3 MB/s eta 0:00:01\r\u001b[K     |██████████████████████████      | 1.4 MB 9.3 MB/s eta 0:00:01\r\u001b[K     |██████████████████████████▏     | 1.4 MB 9.3 MB/s eta 0:00:01\r\u001b[K     |██████████████████████████▎     | 1.4 MB 9.3 MB/s eta 0:00:01\r\u001b[K     |██████████████████████████▌     | 1.4 MB 9.3 MB/s eta 0:00:01\r\u001b[K     |██████████████████████████▊     | 1.4 MB 9.3 MB/s eta 0:00:01\r\u001b[K     |██████████████████████████▉     | 1.4 MB 9.3 MB/s eta 0:00:01\r\u001b[K     |███████████████████████████     | 1.5 MB 9.3 MB/s eta 0:00:01\r\u001b[K     |███████████████████████████▎    | 1.5 MB 9.3 MB/s eta 0:00:01\r\u001b[K     |███████████████████████████▌    | 1.5 MB 9.3 MB/s eta 0:00:01\r\u001b[K     |███████████████████████████▋    | 1.5 MB 9.3 MB/s eta 0:00:01\r\u001b[K     |███████████████████████████▉    | 1.5 MB 9.3 MB/s eta 0:00:01\r\u001b[K     |████████████████████████████    | 1.5 MB 9.3 MB/s eta 0:00:01\r\u001b[K     |████████████████████████████▏   | 1.5 MB 9.3 MB/s eta 0:00:01\r\u001b[K     |████████████████████████████▍   | 1.5 MB 9.3 MB/s eta 0:00:01\r\u001b[K     |████████████████████████████▋   | 1.5 MB 9.3 MB/s eta 0:00:01\r\u001b[K     |████████████████████████████▉   | 1.5 MB 9.3 MB/s eta 0:00:01\r\u001b[K     |█████████████████████████████   | 1.6 MB 9.3 MB/s eta 0:00:01\r\u001b[K     |█████████████████████████████▏  | 1.6 MB 9.3 MB/s eta 0:00:01\r\u001b[K     |█████████████████████████████▍  | 1.6 MB 9.3 MB/s eta 0:00:01\r\u001b[K     |█████████████████████████████▌  | 1.6 MB 9.3 MB/s eta 0:00:01\r\u001b[K     |█████████████████████████████▊  | 1.6 MB 9.3 MB/s eta 0:00:01\r\u001b[K     |██████████████████████████████  | 1.6 MB 9.3 MB/s eta 0:00:01\r\u001b[K     |██████████████████████████████▏ | 1.6 MB 9.3 MB/s eta 0:00:01\r\u001b[K     |██████████████████████████████▎ | 1.6 MB 9.3 MB/s eta 0:00:01\r\u001b[K     |██████████████████████████████▌ | 1.6 MB 9.3 MB/s eta 0:00:01\r\u001b[K     |██████████████████████████████▊ | 1.6 MB 9.3 MB/s eta 0:00:01\r\u001b[K     |██████████████████████████████▉ | 1.7 MB 9.3 MB/s eta 0:00:01\r\u001b[K     |███████████████████████████████ | 1.7 MB 9.3 MB/s eta 0:00:01\r\u001b[K     |███████████████████████████████▎| 1.7 MB 9.3 MB/s eta 0:00:01\r\u001b[K     |███████████████████████████████▌| 1.7 MB 9.3 MB/s eta 0:00:01\r\u001b[K     |███████████████████████████████▋| 1.7 MB 9.3 MB/s eta 0:00:01\r\u001b[K     |███████████████████████████████▉| 1.7 MB 9.3 MB/s eta 0:00:01\r\u001b[K     |████████████████████████████████| 1.7 MB 9.3 MB/s \n",
            "\u001b[?25hCollecting docker-pycreds>=0.4.0\n",
            "  Downloading docker_pycreds-0.4.0-py2.py3-none-any.whl (9.0 kB)\n",
            "Requirement already satisfied: six>=1.13.0 in /usr/local/lib/python3.7/dist-packages (from wandb) (1.15.0)\n",
            "Requirement already satisfied: psutil>=5.0.0 in /usr/local/lib/python3.7/dist-packages (from wandb) (5.4.8)\n",
            "Requirement already satisfied: requests<3,>=2.0.0 in /usr/local/lib/python3.7/dist-packages (from wandb) (2.23.0)\n",
            "Requirement already satisfied: PyYAML in /usr/local/lib/python3.7/dist-packages (from wandb) (3.13)\n",
            "Collecting GitPython>=1.0.0\n",
            "  Downloading GitPython-3.1.27-py3-none-any.whl (181 kB)\n",
            "\u001b[K     |████████████████████████████████| 181 kB 69.8 MB/s \n",
            "\u001b[?25hCollecting sentry-sdk>=1.0.0\n",
            "  Downloading sentry_sdk-1.5.6-py2.py3-none-any.whl (144 kB)\n",
            "\u001b[K     |████████████████████████████████| 144 kB 71.7 MB/s \n",
            "\u001b[?25hRequirement already satisfied: Click!=8.0.0,>=7.0 in /usr/local/lib/python3.7/dist-packages (from wandb) (7.1.2)\n",
            "Collecting pathtools\n",
            "  Downloading pathtools-0.1.2.tar.gz (11 kB)\n",
            "Requirement already satisfied: protobuf>=3.12.0 in /usr/local/lib/python3.7/dist-packages (from wandb) (3.17.3)\n",
            "Requirement already satisfied: promise<3,>=2.0 in /usr/local/lib/python3.7/dist-packages (from wandb) (2.3)\n",
            "Collecting yaspin>=1.0.0\n",
            "  Downloading yaspin-2.1.0-py3-none-any.whl (18 kB)\n",
            "Collecting shortuuid>=0.5.0\n",
            "  Downloading shortuuid-1.0.8-py3-none-any.whl (9.5 kB)\n",
            "Requirement already satisfied: python-dateutil>=2.6.1 in /usr/local/lib/python3.7/dist-packages (from wandb) (2.8.2)\n",
            "Requirement already satisfied: typing-extensions>=3.7.4.3 in /usr/local/lib/python3.7/dist-packages (from GitPython>=1.0.0->wandb) (3.10.0.2)\n",
            "Collecting gitdb<5,>=4.0.1\n",
            "  Downloading gitdb-4.0.9-py3-none-any.whl (63 kB)\n",
            "\u001b[K     |████████████████████████████████| 63 kB 2.2 MB/s \n",
            "\u001b[?25hCollecting smmap<6,>=3.0.1\n",
            "  Downloading smmap-5.0.0-py3-none-any.whl (24 kB)\n",
            "Requirement already satisfied: urllib3!=1.25.0,!=1.25.1,<1.26,>=1.21.1 in /usr/local/lib/python3.7/dist-packages (from requests<3,>=2.0.0->wandb) (1.24.3)\n",
            "Requirement already satisfied: idna<3,>=2.5 in /usr/local/lib/python3.7/dist-packages (from requests<3,>=2.0.0->wandb) (2.10)\n",
            "Requirement already satisfied: chardet<4,>=3.0.2 in /usr/local/lib/python3.7/dist-packages (from requests<3,>=2.0.0->wandb) (3.0.4)\n",
            "Requirement already satisfied: certifi>=2017.4.17 in /usr/local/lib/python3.7/dist-packages (from requests<3,>=2.0.0->wandb) (2021.10.8)\n",
            "Requirement already satisfied: termcolor<2.0.0,>=1.1.0 in /usr/local/lib/python3.7/dist-packages (from yaspin>=1.0.0->wandb) (1.1.0)\n",
            "Building wheels for collected packages: pathtools\n",
            "  Building wheel for pathtools (setup.py) ... \u001b[?25l\u001b[?25hdone\n",
            "  Created wheel for pathtools: filename=pathtools-0.1.2-py3-none-any.whl size=8806 sha256=d8da2ff3535cdaaaf051a8f9393984e2a6adb22414e8ad264eb04d0dca84131c\n",
            "  Stored in directory: /root/.cache/pip/wheels/3e/31/09/fa59cef12cdcfecc627b3d24273699f390e71828921b2cbba2\n",
            "Successfully built pathtools\n",
            "Installing collected packages: smmap, gitdb, yaspin, shortuuid, sentry-sdk, pathtools, GitPython, docker-pycreds, wandb\n",
            "Successfully installed GitPython-3.1.27 docker-pycreds-0.4.0 gitdb-4.0.9 pathtools-0.1.2 sentry-sdk-1.5.6 shortuuid-1.0.8 smmap-5.0.0 wandb-0.12.10 yaspin-2.1.0\n",
            "\u001b[34m\u001b[1mwandb\u001b[0m: You can find your API key in your browser here: https://wandb.ai/authorize\n",
            "\u001b[34m\u001b[1mwandb\u001b[0m: Paste an API key from your profile and hit enter, or press ctrl+c to quit: \n",
            "\u001b[34m\u001b[1mwandb\u001b[0m: Appending key for api.wandb.ai to your netrc file: /root/.netrc\n",
            "Requirement already satisfied: gdown in /usr/local/lib/python3.7/dist-packages (4.2.1)\n",
            "Requirement already satisfied: six in /usr/local/lib/python3.7/dist-packages (from gdown) (1.15.0)\n",
            "Requirement already satisfied: tqdm in /usr/local/lib/python3.7/dist-packages (from gdown) (4.62.3)\n",
            "Requirement already satisfied: requests[socks] in /usr/local/lib/python3.7/dist-packages (from gdown) (2.23.0)\n",
            "Requirement already satisfied: filelock in /usr/local/lib/python3.7/dist-packages (from gdown) (3.6.0)\n",
            "Requirement already satisfied: beautifulsoup4 in /usr/local/lib/python3.7/dist-packages (from gdown) (4.6.3)\n",
            "Requirement already satisfied: chardet<4,>=3.0.2 in /usr/local/lib/python3.7/dist-packages (from requests[socks]->gdown) (3.0.4)\n",
            "Requirement already satisfied: certifi>=2017.4.17 in /usr/local/lib/python3.7/dist-packages (from requests[socks]->gdown) (2021.10.8)\n",
            "Requirement already satisfied: idna<3,>=2.5 in /usr/local/lib/python3.7/dist-packages (from requests[socks]->gdown) (2.10)\n",
            "Requirement already satisfied: urllib3!=1.25.0,!=1.25.1,<1.26,>=1.21.1 in /usr/local/lib/python3.7/dist-packages (from requests[socks]->gdown) (1.24.3)\n",
            "Requirement already satisfied: PySocks!=1.5.7,>=1.5.6 in /usr/local/lib/python3.7/dist-packages (from requests[socks]->gdown) (1.7.1)\n",
            "Requirement already satisfied: imbalanced-learn in /usr/local/lib/python3.7/dist-packages (0.8.1)\n",
            "Requirement already satisfied: joblib>=0.11 in /usr/local/lib/python3.7/dist-packages (from imbalanced-learn) (1.1.0)\n",
            "Requirement already satisfied: scikit-learn>=0.24 in /usr/local/lib/python3.7/dist-packages (from imbalanced-learn) (1.0.2)\n",
            "Requirement already satisfied: numpy>=1.13.3 in /usr/local/lib/python3.7/dist-packages (from imbalanced-learn) (1.21.5)\n",
            "Requirement already satisfied: scipy>=0.19.1 in /usr/local/lib/python3.7/dist-packages (from imbalanced-learn) (1.4.1)\n",
            "Requirement already satisfied: threadpoolctl>=2.0.0 in /usr/local/lib/python3.7/dist-packages (from scikit-learn>=0.24->imbalanced-learn) (3.1.0)\n"
          ]
        }
      ]
    },
    {
      "cell_type": "code",
      "execution_count": null,
      "metadata": {
        "id": "3s0V-MFXFPm1"
      },
      "outputs": [],
      "source": [
        "# NO NEED TO RUN THIS CELL, checking general hardware stats\n",
        "!nvidia-smi\n",
        "!cat /proc/cpuinfo\n",
        "!cat /proc/meminfo"
      ]
    },
    {
      "cell_type": "code",
      "source": [
        "import wandb\n",
        "import os\n",
        "import shutil\n",
        "import random\n",
        "import string\n",
        "from PIL import Image, ImageStat\n",
        "import datetime\n",
        "import pandas as pd\n",
        "import matplotlib.pyplot as plt\n",
        "import seaborn as sns\n",
        "from pytz import timezone\n",
        "import numpy as np\n",
        "import tensorflow as tf\n",
        "import tensorflow.keras as keras\n",
        "from tensorflow.keras.preprocessing.image import ImageDataGenerator\n",
        "from wandb.keras import WandbCallback\n",
        "from tensorflow.keras.callbacks import ModelCheckpoint, EarlyStopping\n",
        "from tensorflow.keras.applications import EfficientNetB0\n",
        "from tensorflow.keras import layers\n",
        "from sklearn.metrics import classification_report"
      ],
      "metadata": {
        "id": "4vVm6j8lNhzQ"
      },
      "execution_count": 2,
      "outputs": []
    },
    {
      "cell_type": "code",
      "source": [
        "# clone to repo to retrive dataset\n",
        "!git clone https://github.com/yotamraz/wsc-classifier.git\n",
        "!mv ./wsc-classifier/wsc_dataset.zip ./\n",
        "# unzip dataset\n",
        "!mkdir wsc_dataset\n",
        "!unzip wsc_dataset.zip -d wsc_dataset\n",
        "\n",
        "# general parameters\n",
        "sns.set_theme(style=\"darkgrid\")\n",
        "wandb_project_name = \"wsc-classifier\"\n",
        "time_stamp = datetime.datetime.now(tz=timezone(\"Israel\")).strftime(\"%d-%m-%Y-%H:%M:%S\")\n",
        "dataset_url = \"https://drive.google.com/uc?id=122_EJbCsnrAowFTfFV1AmkIeyoAVb-QH\"\n",
        "dataset_dir = \"/content/wsc_dataset/\"\n",
        "checkpoints_dir = \"/content/checkpoints/\"\n",
        "\n",
        "#preprocessing parameters\n",
        "image_size = (224, 224)\n",
        "batch_size = 16\n",
        "class_list = [\"angle\", \"box\", \"circle\", \"closeup\", \"crowd\", \"other\"]"
      ],
      "metadata": {
        "id": "wAyaOL2-NL8r",
        "colab": {
          "base_uri": "https://localhost:8080/"
        },
        "outputId": "37ab09fd-eea8-4972-952d-ab59887158e8"
      },
      "execution_count": 35,
      "outputs": [
        {
          "output_type": "stream",
          "name": "stdout",
          "text": [
            "fatal: destination path 'wsc-classifier' already exists and is not an empty directory.\n",
            "mv: cannot stat './wsc-classifier/wsc_dataset.zip': No such file or directory\n",
            "Archive:  wsc_dataset.zip\n",
            "  inflating: wsc_dataset/readme.md   \n",
            "   creating: wsc_dataset/test/\n",
            "   creating: wsc_dataset/test/Angle/\n",
            "  inflating: wsc_dataset/test/Angle/20181121-140024_200.jpg  \n",
            "  inflating: wsc_dataset/test/Angle/20190310-140201_18_1080.jpg  \n",
            "  inflating: wsc_dataset/test/Angle/20190310-140259_22_288.jpg  \n",
            "  inflating: wsc_dataset/test/Angle/20190310-140416_26_384.jpg  \n",
            "  inflating: wsc_dataset/test/Angle/20190310-140920_43_672.jpg  \n",
            "  inflating: wsc_dataset/test/Angle/20190310-141318_57_516.jpg  \n",
            "  inflating: wsc_dataset/test/Angle/20190310-142520_98_444.jpg  \n",
            "  inflating: wsc_dataset/test/Angle/20190310-142759_107_348.jpg  \n",
            "  inflating: wsc_dataset/test/Angle/20190310-142911_111_684.jpg  \n",
            "  inflating: wsc_dataset/test/Angle/4BA51BAE-0B08-4A64-891F-137E1DB14EC2_frame_24.jpg  \n",
            "   creating: wsc_dataset/test/Box/\n",
            "  inflating: wsc_dataset/test/Box/16E5F68A-B304-4FA7-852F-3991E2B01589_frame_35.jpg  \n",
            "  inflating: wsc_dataset/test/Box/1E09253D-4152-43BD-9F00-7737138B8034_frame_30.jpg  \n",
            "  inflating: wsc_dataset/test/Box/30FFB41F-8B2B-4DDA-B194-D93519CAD127_frame_16.jpg  \n",
            "  inflating: wsc_dataset/test/Box/3C144DBA-96C6-407F-867B-FACE0E4D8F8A_frame_27.jpg  \n",
            "  inflating: wsc_dataset/test/Box/3E327E30-3951-44C1-807C-7AB2268B54DF_frame_35.jpg  \n",
            "  inflating: wsc_dataset/test/Box/40BD751F-CDB2-4FD4-9BB1-5C95373ABD57_frame_33.jpg  \n",
            "  inflating: wsc_dataset/test/Box/4BA51BAE-0B08-4A64-891F-137E1DB14EC2_frame_30.jpg  \n",
            "  inflating: wsc_dataset/test/Box/585821DC-B16F-42C5-BBF3-D13E2576C74F_frame_33.jpg  \n",
            "  inflating: wsc_dataset/test/Box/5C8A74CB-7EEF-4EDD-9F52-CE0D447BAC85_frame_15.jpg  \n",
            "  inflating: wsc_dataset/test/Box/971ACEC7-A0D7-4E9F-8464-3134ACECE019_frame_37.jpg  \n",
            "   creating: wsc_dataset/test/Circle/\n",
            "  inflating: wsc_dataset/test/Circle/05C96903-8ABA-4D14-A5AB-183A9442EFAF_frame_56.jpg  \n",
            "  inflating: wsc_dataset/test/Circle/0FE275FF-358D-4B00-A0E6-95083480FDE5_frame_30.jpg  \n",
            "  inflating: wsc_dataset/test/Circle/2800B2D4-1470-4A8F-A1F5-43CC93757EFB_frame_60.jpg  \n",
            "  inflating: wsc_dataset/test/Circle/3ACA3A93-430B-4512-AA59-9E72D2260476_frame_30.jpg  \n",
            "  inflating: wsc_dataset/test/Circle/3F0056A8-13BA-4D3E-B946-123D244E44BA_frame_33.jpg  \n",
            "  inflating: wsc_dataset/test/Circle/4B691B53-FBA1-4A4F-86B7-EEFE51EB46FA_frame_23.jpg  \n",
            "  inflating: wsc_dataset/test/Circle/69DB3FF7-2D39-4ACC-AD9B-6F60AC1DD49F_frame_49.jpg  \n",
            "  inflating: wsc_dataset/test/Circle/6E658E74-48A3-4BC8-8146-20A621FD915E_frame_50.jpg  \n",
            "  inflating: wsc_dataset/test/Circle/992B3EC6-8962-49F1-B6F4-2A98E1225F42_frame_44.jpg  \n",
            "  inflating: wsc_dataset/test/Circle/9F953B29-E10B-47FE-BE57-37750B29FEA8_frame_54.jpg  \n",
            "   creating: wsc_dataset/test/Closeup/\n",
            "  inflating: wsc_dataset/test/Closeup/0FE275FF-358D-4B00-A0E6-95083480FDE5_frame_3.jpg  \n",
            "  inflating: wsc_dataset/test/Closeup/20181121-134805_140.jpg  \n",
            "  inflating: wsc_dataset/test/Closeup/2800B2D4-1470-4A8F-A1F5-43CC93757EFB_frame_15.jpg  \n",
            "  inflating: wsc_dataset/test/Closeup/3ACA3A93-430B-4512-AA59-9E72D2260476_frame_2.jpg  \n",
            "  inflating: wsc_dataset/test/Closeup/4DBA233D-4552-4F96-A790-E69E7073C1B8_frame_20.jpg  \n",
            "  inflating: wsc_dataset/test/Closeup/658B1416-3269-4320-976E-2D5183482F53_frame_11.jpg  \n",
            "  inflating: wsc_dataset/test/Closeup/679EB597-2D10-4920-8BBE-26025954187C_frame_10.jpg  \n",
            "  inflating: wsc_dataset/test/Closeup/7C5A9300-6C59-43E4-B468-E198CB701489_frame_39.jpg  \n",
            "  inflating: wsc_dataset/test/Closeup/7F3E1107-8B8D-4E85-A3A1-D21FAC3B1454_frame_20.jpg  \n",
            "  inflating: wsc_dataset/test/Closeup/D7F4DBA4-A25A-401E-9691-5A0FDF64C5CF_frame_6.jpg  \n",
            "   creating: wsc_dataset/test/Crowd/\n",
            "  inflating: wsc_dataset/test/Crowd/01d9ed8f-1d76-430b-8d45-e60fca11ec55_Jabari_Parker.jpg  \n",
            "  inflating: wsc_dataset/test/Crowd/20181121-135220_190.jpg  \n",
            "  inflating: wsc_dataset/test/Crowd/20181125-153339_170.jpg  \n",
            "  inflating: wsc_dataset/test/Crowd/3dd91b81-a0f9-4d2f-a7e8-f854e18f0783_frame_3415.jpg  \n",
            "  inflating: wsc_dataset/test/Crowd/725cdc21-c941-4bbc-a674-14edf35f71f0_frame_415.jpg  \n",
            "  inflating: wsc_dataset/test/Crowd/7d6c51ee-db4a-4831-9c9c-e46a4746bf63_frame_3075.jpg  \n",
            "  inflating: wsc_dataset/test/Crowd/92046795-adb5-4baa-b079-93a3d823e503_frame_4495.jpg  \n",
            "  inflating: wsc_dataset/test/Crowd/c8e566b6-36b9-4c5f-b4e7-b86a69496903.0010368-0014871-0019374.0009006_Jason_Smith.jpg  \n",
            "  inflating: wsc_dataset/test/Crowd/e6ecf6e0-4089-40fb-ba30-3a857ffab9ea_frame_1135.jpg  \n",
            "  inflating: wsc_dataset/test/Crowd/f3a8803c-25dc-4f85-b9ba-41425dafaf48_frame_495.jpg  \n",
            "   creating: wsc_dataset/test/Other/\n",
            "  inflating: wsc_dataset/test/Other/20181121-135018_320.jpg  \n",
            "  inflating: wsc_dataset/test/Other/20181121-135027_0.jpg  \n",
            "  inflating: wsc_dataset/test/Other/20181121-135226_30.jpg  \n",
            "  inflating: wsc_dataset/test/Other/20181121-135553_160.jpg  \n",
            "  inflating: wsc_dataset/test/Other/20181125-151948_40.jpg  \n",
            "  inflating: wsc_dataset/test/Other/20181125-151954_120.jpg  \n",
            "  inflating: wsc_dataset/test/Other/20181125-152001_180.jpg  \n",
            "  inflating: wsc_dataset/test/Other/20181125-152644_100.jpg  \n",
            "  inflating: wsc_dataset/test/Other/20181125-152854_100.jpg  \n",
            "  inflating: wsc_dataset/test/Other/20181125-152913_70.jpg  \n",
            "   creating: wsc_dataset/train/\n",
            "   creating: wsc_dataset/train/Angle/\n",
            "  inflating: wsc_dataset/train/Angle/0DE04E72-7C75-43C6-A908-FC21EE4FB71A_frame_15.jpg  \n",
            "  inflating: wsc_dataset/train/Angle/1E09253D-4152-43BD-9F00-7737138B8034_frame_25.jpg  \n",
            "  inflating: wsc_dataset/train/Angle/20190310-135702_1_768.jpg  \n",
            "  inflating: wsc_dataset/train/Angle/20190310-140201_18_1080.jpg  \n",
            "  inflating: wsc_dataset/train/Angle/20190310-140202_18_1140.jpg  \n",
            "  inflating: wsc_dataset/train/Angle/20190310-140230_20_768.jpg  \n",
            "  inflating: wsc_dataset/train/Angle/20190310-140304_22_576.jpg  \n",
            "  inflating: wsc_dataset/train/Angle/20190310-140602_32_264.jpg  \n",
            "  inflating: wsc_dataset/train/Angle/20190310-140922_43_804.jpg  \n",
            "  inflating: wsc_dataset/train/Angle/20190310-140950_45_288.jpg  \n",
            "  inflating: wsc_dataset/train/Angle/20190310-140953_45_420.jpg  \n",
            "  inflating: wsc_dataset/train/Angle/20190310-141350_59_444.jpg  \n",
            "  inflating: wsc_dataset/train/Angle/20190310-141407_60_492.jpg  \n",
            "  inflating: wsc_dataset/train/Angle/20190310-141447_62_648.jpg  \n",
            "  inflating: wsc_dataset/train/Angle/20190310-141505_63_480.jpg  \n",
            "  inflating: wsc_dataset/train/Angle/20190310-141522_64_492.jpg  \n",
            "  inflating: wsc_dataset/train/Angle/20190310-141830_75_444.jpg  \n",
            "  inflating: wsc_dataset/train/Angle/20190310-141904_77_228.jpg  \n",
            "  inflating: wsc_dataset/train/Angle/20190310-142025_81_648.jpg  \n",
            "  inflating: wsc_dataset/train/Angle/20190310-142059_83_504.jpg  \n",
            "  inflating: wsc_dataset/train/Angle/20190310-142211_87_636.jpg  \n",
            "  inflating: wsc_dataset/train/Angle/20190310-142335_92_600.jpg  \n",
            "  inflating: wsc_dataset/train/Angle/20190310-142431_95_720.jpg  \n",
            "  inflating: wsc_dataset/train/Angle/20190310-142630_102_480.jpg  \n",
            "  inflating: wsc_dataset/train/Angle/20190310-142741_106_576.jpg  \n",
            "  inflating: wsc_dataset/train/Angle/20190310-142812_108_384.jpg  \n",
            "  inflating: wsc_dataset/train/Angle/20190310-143300_125_384.jpg  \n",
            "  inflating: wsc_dataset/train/Angle/20190310-143427_130_444.jpg  \n",
            "  inflating: wsc_dataset/train/Angle/20190310-143446_131_636.jpg  \n",
            "  inflating: wsc_dataset/train/Angle/20190310-143533_134_528.jpg  \n",
            "  inflating: wsc_dataset/train/Angle/20190310-143709_140_252.jpg  \n",
            "  inflating: wsc_dataset/train/Angle/20190310-143846_145_696.jpg  \n",
            "  inflating: wsc_dataset/train/Angle/20190310-143915_147_480.jpg  \n",
            "  inflating: wsc_dataset/train/Angle/20190310-144024_151_648.jpg  \n",
            "  inflating: wsc_dataset/train/Angle/20190310-144037_152_468.jpg  \n",
            "  inflating: wsc_dataset/train/Angle/20190310-144142_156_480.jpg  \n",
            "  inflating: wsc_dataset/train/Angle/20190310-144215_158_492.jpg  \n",
            "  inflating: wsc_dataset/train/Angle/20190310-144250_160_588.jpg  \n",
            "  inflating: wsc_dataset/train/Angle/20190310-144733_177_552.jpg  \n",
            "  inflating: wsc_dataset/train/Angle/20190310-144914_183_420.jpg  \n",
            "  inflating: wsc_dataset/train/Angle/37146886-DB1D-4747-978E-F4D9A0F24C84_frame_6.jpg  \n",
            "  inflating: wsc_dataset/train/Angle/3C144DBA-96C6-407F-867B-FACE0E4D8F8A_frame_15.jpg  \n",
            "  inflating: wsc_dataset/train/Angle/478B89E2-7DAC-425E-AF98-975EF299D3B7_frame_24.jpg  \n",
            "  inflating: wsc_dataset/train/Angle/54FED1F5-8AF4-4A3B-A7E2-AB5540A5F768_frame_29.jpg  \n",
            "  inflating: wsc_dataset/train/Angle/58EAD5B8-9BC9-4DCE-B25C-725EF6FA3BC8_frame_10.jpg  \n",
            "  inflating: wsc_dataset/train/Angle/679EB597-2D10-4920-8BBE-26025954187C_frame_16.jpg  \n",
            "  inflating: wsc_dataset/train/Angle/7C5A9300-6C59-43E4-B468-E198CB701489_frame_15.jpg  \n",
            "  inflating: wsc_dataset/train/Angle/7F3E1107-8B8D-4E85-A3A1-D21FAC3B1454_frame_2.jpg  \n",
            "  inflating: wsc_dataset/train/Angle/99B9EFD5-9B6A-476D-85B7-9CBE90C48095_frame_17.jpg  \n",
            "  inflating: wsc_dataset/train/Angle/AABC0F94-D79B-4A27-BD2A-4FAA91299754_frame_14.jpg  \n",
            "   creating: wsc_dataset/train/Box/\n",
            "  inflating: wsc_dataset/train/Box/05C96903-8ABA-4D14-A5AB-183A9442EFAF_frame_31.jpg  \n",
            "  inflating: wsc_dataset/train/Box/0DE04E72-7C75-43C6-A908-FC21EE4FB71A_frame_25.jpg  \n",
            "  inflating: wsc_dataset/train/Box/11EFBFEE-8136-4012-BF0F-6FC58FDDACD2_frame_35.jpg  \n",
            "  inflating: wsc_dataset/train/Box/20181121-134831_100.jpg  \n",
            "  inflating: wsc_dataset/train/Box/20181121-134948_240.jpg  \n",
            "  inflating: wsc_dataset/train/Box/20181121-134950_100.jpg  \n",
            "  inflating: wsc_dataset/train/Box/20181121-135019_30.jpg  \n",
            "  inflating: wsc_dataset/train/Box/20181121-135024_100.jpg  \n",
            "  inflating: wsc_dataset/train/Box/20181121-135246_200.jpg  \n",
            "  inflating: wsc_dataset/train/Box/20181121-135614_230.jpg  \n",
            "  inflating: wsc_dataset/train/Box/20181121-135625_20.jpg  \n",
            "  inflating: wsc_dataset/train/Box/20181121-135717_50.jpg  \n",
            "  inflating: wsc_dataset/train/Box/20181121-140241_140.jpg  \n",
            "  inflating: wsc_dataset/train/Box/20181121-140251_100.jpg  \n",
            "  inflating: wsc_dataset/train/Box/20181121-140407_100.jpg  \n",
            "  inflating: wsc_dataset/train/Box/20181121-140424_40.jpg  \n",
            "  inflating: wsc_dataset/train/Box/20181121-140433_100.jpg  \n",
            "  inflating: wsc_dataset/train/Box/20181121-140440_0.jpg  \n",
            "  inflating: wsc_dataset/train/Box/20181121-140443_120.jpg  \n",
            "  inflating: wsc_dataset/train/Box/20181121-140517_20.jpg  \n",
            "  inflating: wsc_dataset/train/Box/20181121-140522_100.jpg  \n",
            "  inflating: wsc_dataset/train/Box/20181121-140716_100.jpg  \n",
            "  inflating: wsc_dataset/train/Box/20181121-140727_140.jpg  \n",
            "  inflating: wsc_dataset/train/Box/20181121-140731_130.jpg  \n",
            "  inflating: wsc_dataset/train/Box/20181121-140841_140.jpg  \n",
            "  inflating: wsc_dataset/train/Box/20181121-141111_60.jpg  \n",
            "  inflating: wsc_dataset/train/Box/20181121-141231_0.jpg  \n",
            "  inflating: wsc_dataset/train/Box/20181121-141336_100.jpg  \n",
            "  inflating: wsc_dataset/train/Box/20181121-141604_120.jpg  \n",
            " extracting: wsc_dataset/train/Box/20181121-141708_290.jpg  \n",
            "  inflating: wsc_dataset/train/Box/20181121-141841_0.jpg  \n",
            "  inflating: wsc_dataset/train/Box/20181121-141927_30.jpg  \n",
            "  inflating: wsc_dataset/train/Box/20181121-142313_50.jpg  \n",
            "  inflating: wsc_dataset/train/Box/20181121-142353_120.jpg  \n",
            "  inflating: wsc_dataset/train/Box/20181121-142420_160.jpg  \n",
            "  inflating: wsc_dataset/train/Box/20181121-142459_100.jpg  \n",
            "  inflating: wsc_dataset/train/Box/20181121-142515_100.jpg  \n",
            "  inflating: wsc_dataset/train/Box/20181121-142842_10.jpg  \n",
            "  inflating: wsc_dataset/train/Box/20181121-143025_20.jpg  \n",
            "  inflating: wsc_dataset/train/Box/20181121-143237_210.jpg  \n",
            "  inflating: wsc_dataset/train/Box/20181121-143723_180.jpg  \n",
            "  inflating: wsc_dataset/train/Box/20181121-143746_110.jpg  \n",
            "  inflating: wsc_dataset/train/Box/20181121-143751_400.jpg  \n",
            "  inflating: wsc_dataset/train/Box/20181121-143950_50.jpg  \n",
            "  inflating: wsc_dataset/train/Box/20181121-144054_40.jpg  \n",
            "  inflating: wsc_dataset/train/Box/37146886-DB1D-4747-978E-F4D9A0F24C84_frame_33.jpg  \n",
            "  inflating: wsc_dataset/train/Box/47D65ABC-0D8C-4509-9CA4-E7738CC257D8_frame_24.jpg  \n",
            "  inflating: wsc_dataset/train/Box/658B1416-3269-4320-976E-2D5183482F53_frame_10.jpg  \n",
            "  inflating: wsc_dataset/train/Box/7F3E1107-8B8D-4E85-A3A1-D21FAC3B1454_frame_14.jpg  \n",
            "  inflating: wsc_dataset/train/Box/AB9DEF4A-E1D6-496A-B4F5-EE5253D19A45_frame_39.jpg  \n",
            "   creating: wsc_dataset/train/Circle/\n",
            "  inflating: wsc_dataset/train/Circle/20181121-134833_20.jpg  \n",
            "  inflating: wsc_dataset/train/Circle/20181121-135331_180.jpg  \n",
            "  inflating: wsc_dataset/train/Circle/20181121-135429_180.jpg  \n",
            "  inflating: wsc_dataset/train/Circle/20181121-135526_40.jpg  \n",
            "  inflating: wsc_dataset/train/Circle/20181121-135822_40.jpg  \n",
            "  inflating: wsc_dataset/train/Circle/20181121-135919_210.jpg  \n",
            "  inflating: wsc_dataset/train/Circle/20181121-140131_160.jpg  \n",
            "  inflating: wsc_dataset/train/Circle/20181121-140532_60.jpg  \n",
            "  inflating: wsc_dataset/train/Circle/20181121-141702_40.jpg  \n",
            "  inflating: wsc_dataset/train/Circle/20181121-141711_190.jpg  \n",
            "  inflating: wsc_dataset/train/Circle/20181121-141736_40.jpg  \n",
            "  inflating: wsc_dataset/train/Circle/20181121-141910_30.jpg  \n",
            "  inflating: wsc_dataset/train/Circle/20181121-141916_100.jpg  \n",
            "  inflating: wsc_dataset/train/Circle/20181121-142259_100.jpg  \n",
            "  inflating: wsc_dataset/train/Circle/28929163-BD19-4E96-A190-B200322FCD98_frame_45.jpg  \n",
            "   creating: wsc_dataset/train/Closeup/\n",
            "  inflating: wsc_dataset/train/Closeup/0DE04E72-7C75-43C6-A908-FC21EE4FB71A_frame_18.jpg  \n",
            "  inflating: wsc_dataset/train/Closeup/1A912554-F45D-468C-8CAA-85613674F7EB_frame_1.jpg  \n",
            "  inflating: wsc_dataset/train/Closeup/1B516707-1329-4E76-BA0D-2FC6ED9A9DC5_frame_1.jpg  \n",
            "  inflating: wsc_dataset/train/Closeup/1E09253D-4152-43BD-9F00-7737138B8034_frame_1.jpg  \n",
            "  inflating: wsc_dataset/train/Closeup/20181121-134816_0.jpg  \n",
            "  inflating: wsc_dataset/train/Closeup/20181121-134829_240.jpg  \n",
            " extracting: wsc_dataset/train/Closeup/20181121-134840_10.jpg  \n",
            "  inflating: wsc_dataset/train/Closeup/20181121-134846_0.jpg  \n",
            "  inflating: wsc_dataset/train/Closeup/20181121-134901_20.jpg  \n",
            "  inflating: wsc_dataset/train/Closeup/20181121-134903_140.jpg  \n",
            "  inflating: wsc_dataset/train/Closeup/20181121-134922_0.jpg  \n",
            "  inflating: wsc_dataset/train/Closeup/20181121-134935_120.jpg  \n",
            "  inflating: wsc_dataset/train/Closeup/20181121-135018_0.jpg  \n",
            "  inflating: wsc_dataset/train/Closeup/20181121-135059_230.jpg  \n",
            "  inflating: wsc_dataset/train/Closeup/20181121-135137_100.jpg  \n",
            "  inflating: wsc_dataset/train/Closeup/20181121-135201_40.jpg  \n",
            "  inflating: wsc_dataset/train/Closeup/20181121-135212_280.jpg  \n",
            "  inflating: wsc_dataset/train/Closeup/20181121-135216_0.jpg  \n",
            "  inflating: wsc_dataset/train/Closeup/20181121-135242_0.jpg  \n",
            "  inflating: wsc_dataset/train/Closeup/20181121-135347_0.jpg  \n",
            "  inflating: wsc_dataset/train/Closeup/20181121-135446_0.jpg  \n",
            "  inflating: wsc_dataset/train/Closeup/20181121-135534_0.jpg  \n",
            "  inflating: wsc_dataset/train/Closeup/20181121-135550_200.jpg  \n",
            "  inflating: wsc_dataset/train/Closeup/20181121-135604_220.jpg  \n",
            "  inflating: wsc_dataset/train/Closeup/20181121-135608_160.jpg  \n",
            "  inflating: wsc_dataset/train/Closeup/20181121-135629_0.jpg  \n",
            "  inflating: wsc_dataset/train/Closeup/20181121-135654_40.jpg  \n",
            "  inflating: wsc_dataset/train/Closeup/20181121-135705_0.jpg  \n",
            "  inflating: wsc_dataset/train/Closeup/20181121-135707_120.jpg  \n",
            " extracting: wsc_dataset/train/Closeup/20181121-135755_270.jpg  \n",
            "  inflating: wsc_dataset/train/Closeup/20181121-135806_0.jpg  \n",
            "  inflating: wsc_dataset/train/Closeup/20181121-135825_210.jpg  \n",
            "  inflating: wsc_dataset/train/Closeup/20181121-135827_100.jpg  \n",
            "  inflating: wsc_dataset/train/Closeup/20181121-135857_240.jpg  \n",
            "  inflating: wsc_dataset/train/Closeup/20181121-135902_210.jpg  \n",
            "  inflating: wsc_dataset/train/Closeup/20181121-144617_10.jpg  \n",
            "  inflating: wsc_dataset/train/Closeup/25BAEE92-4779-4F73-B9B5-1C2B610084DA_frame_11.jpg  \n",
            "  inflating: wsc_dataset/train/Closeup/28929163-BD19-4E96-A190-B200322FCD98_frame_27.jpg  \n",
            "  inflating: wsc_dataset/train/Closeup/3C144DBA-96C6-407F-867B-FACE0E4D8F8A_frame_39.jpg  \n",
            "  inflating: wsc_dataset/train/Closeup/3C99FC04-4D1A-46E1-838D-1D35BED88523_frame_10.jpg  \n",
            "  inflating: wsc_dataset/train/Closeup/3DE1500F-F32B-412E-BC05-D477266D43AB_frame_39.jpg  \n",
            "  inflating: wsc_dataset/train/Closeup/4AE7E659-BE40-4256-B368-0DEDA0FA33CE_frame_22.jpg  \n",
            "  inflating: wsc_dataset/train/Closeup/4B691B53-FBA1-4A4F-86B7-EEFE51EB46FA_frame_3.jpg  \n",
            "  inflating: wsc_dataset/train/Closeup/585821DC-B16F-42C5-BBF3-D13E2576C74F_frame_10.jpg  \n",
            "  inflating: wsc_dataset/train/Closeup/7AA6F8CD-0FBF-4216-A70F-2EFBDFE6FABA_frame_1.jpg  \n",
            "  inflating: wsc_dataset/train/Closeup/8859F6E3-0592-4C10-A863-B01E4EF14C63_frame_18.jpg  \n",
            "  inflating: wsc_dataset/train/Closeup/99B9EFD5-9B6A-476D-85B7-9CBE90C48095_frame_10.jpg  \n",
            "  inflating: wsc_dataset/train/Closeup/9E6F10C3-2B4B-4FFD-A94D-6C1CB78540CD_frame_10.jpg  \n",
            "  inflating: wsc_dataset/train/Closeup/D7F4DBA4-A25A-401E-9691-5A0FDF64C5CF_frame_6.jpg  \n",
            "  inflating: wsc_dataset/train/Closeup/F6289477-1ED5-4192-9031-081E64A40935_frame_21.jpg  \n",
            "   creating: wsc_dataset/train/Crowd/\n",
            "  inflating: wsc_dataset/train/Crowd/15fdddc0-ddd8-402b-aedc-234c02fcba38_frame_1175.jpg  \n",
            "  inflating: wsc_dataset/train/Crowd/1badc42b-260e-467b-b288-06ecf99e5efb_frame_975.jpg  \n",
            "  inflating: wsc_dataset/train/Crowd/1f2b6d2c-5288-45af-815b-8fa7592bbd4e_frame_1095.jpg  \n",
            "  inflating: wsc_dataset/train/Crowd/20181121-134802_0.jpg  \n",
            "  inflating: wsc_dataset/train/Crowd/20181121-135221_0.jpg  \n",
            "  inflating: wsc_dataset/train/Crowd/20181121-135316_0.jpg  \n",
            "  inflating: wsc_dataset/train/Crowd/20181121-135957_0.jpg  \n",
            "  inflating: wsc_dataset/train/Crowd/20181121-135958_100.jpg  \n",
            "  inflating: wsc_dataset/train/Crowd/20181121-140001_230.jpg  \n",
            "  inflating: wsc_dataset/train/Crowd/20181121-140908_290.jpg  \n",
            "  inflating: wsc_dataset/train/Crowd/20181121-141209_100.jpg  \n",
            "  inflating: wsc_dataset/train/Crowd/20181121-141210_140.jpg  \n",
            "  inflating: wsc_dataset/train/Crowd/20181121-141211_190.jpg  \n",
            "  inflating: wsc_dataset/train/Crowd/20181121-141356_0.jpg  \n",
            "  inflating: wsc_dataset/train/Crowd/20181121-141524_210.jpg  \n",
            "  inflating: wsc_dataset/train/Crowd/20181121-141932_330.jpg  \n",
            "  inflating: wsc_dataset/train/Crowd/20181121-142053_40.jpg  \n",
            "  inflating: wsc_dataset/train/Crowd/20181121-142910_130.jpg  \n",
            "  inflating: wsc_dataset/train/Crowd/20181121-142928_170.jpg  \n",
            "  inflating: wsc_dataset/train/Crowd/20181121-142957_280.jpg  \n",
            "  inflating: wsc_dataset/train/Crowd/20181121-143110_50.jpg  \n",
            "  inflating: wsc_dataset/train/Crowd/20181121-143516_180.jpg  \n",
            "  inflating: wsc_dataset/train/Crowd/20181121-143806_0.jpg  \n",
            "  inflating: wsc_dataset/train/Crowd/20181121-144110_0.jpg  \n",
            "  inflating: wsc_dataset/train/Crowd/20181125-144944_300.jpg  \n",
            "  inflating: wsc_dataset/train/Crowd/20181125-144948_150.jpg  \n",
            "  inflating: wsc_dataset/train/Crowd/20181125-145004_0.jpg  \n",
            "  inflating: wsc_dataset/train/Crowd/20181125-145106_0.jpg  \n",
            "  inflating: wsc_dataset/train/Crowd/20181125-145242_200.jpg  \n",
            "  inflating: wsc_dataset/train/Crowd/20181125-145315_30.jpg  \n",
            "  inflating: wsc_dataset/train/Crowd/20181125-145629_220.jpg  \n",
            "  inflating: wsc_dataset/train/Crowd/20181125-150314_120.jpg  \n",
            "  inflating: wsc_dataset/train/Crowd/20181125-150541_0.jpg  \n",
            "  inflating: wsc_dataset/train/Crowd/20181125-150544_150.jpg  \n",
            "  inflating: wsc_dataset/train/Crowd/20181125-150547_310.jpg  \n",
            "  inflating: wsc_dataset/train/Crowd/20181125-151730_0.jpg  \n",
            "  inflating: wsc_dataset/train/Crowd/20181125-151736_280.jpg  \n",
            "  inflating: wsc_dataset/train/Crowd/20181125-151751_0.jpg  \n",
            "  inflating: wsc_dataset/train/Crowd/20181125-153018_0.jpg  \n",
            "  inflating: wsc_dataset/train/Crowd/20181125-153336_10.jpg  \n",
            "  inflating: wsc_dataset/train/Crowd/5a90d6d4-a2f6-4150-a9c3-47bb35d963df.0016499-0021999-0027499.0011000_Nate_Wolters_aug_3.jpg  \n",
            "  inflating: wsc_dataset/train/Crowd/5d1da210-31a0-49ef-ac33-b2bce0370c80_frame_1495.jpg  \n",
            "  inflating: wsc_dataset/train/Crowd/67f37b31-07ad-434b-8e5e-cf7cf5000afd_Someone.jpg  \n",
            "  inflating: wsc_dataset/train/Crowd/6ce83bbc-453c-4647-8d15-56d1f44177a9_frame_495.jpg  \n",
            "  inflating: wsc_dataset/train/Crowd/6f13c9fa-febc-4a85-b6a2-78448d24c04e_frame_4095.jpg  \n",
            "  inflating: wsc_dataset/train/Crowd/7C105C5E-6459-4789-AD5A-DAE542FB8344_Ersan_Ilyasova.jpg  \n",
            "  inflating: wsc_dataset/train/Crowd/9cd88e46-0ecd-4fff-a4c9-174ffcb9bc20_frame_6315.jpg  \n",
            "  inflating: wsc_dataset/train/Crowd/c4d83401-3ba4-4626-9222-3b09c589c74e_frame_9015.jpg  \n",
            "  inflating: wsc_dataset/train/Crowd/d4ab0d08-1afb-491e-a315-c05c6c46e04c_frame_3943.jpg  \n",
            "  inflating: wsc_dataset/train/Crowd/e6ecf6e0-4089-40fb-ba30-3a857ffab9ea_frame_1135.jpg  \n",
            "   creating: wsc_dataset/train/Other/\n",
            "  inflating: wsc_dataset/train/Other/20181121-135113_250.jpg  \n",
            "  inflating: wsc_dataset/train/Other/20181121-135123_0.jpg  \n",
            "  inflating: wsc_dataset/train/Other/20181121-135127_20.jpg  \n",
            "  inflating: wsc_dataset/train/Other/20181121-135228_190.jpg  \n",
            "  inflating: wsc_dataset/train/Other/20181121-135549_170.jpg  \n",
            "  inflating: wsc_dataset/train/Other/20181121-135638_10.jpg  \n",
            "  inflating: wsc_dataset/train/Other/20181121-135711_70.jpg  \n",
            " extracting: wsc_dataset/train/Other/20181121-140045_160.jpg  \n",
            "  inflating: wsc_dataset/train/Other/20181121-140122_40.jpg  \n",
            "  inflating: wsc_dataset/train/Other/20181121-140232_430.jpg  \n",
            "  inflating: wsc_dataset/train/Other/20181121-140234_20.jpg  \n",
            "  inflating: wsc_dataset/train/Other/20181121-140248_230.jpg  \n",
            "  inflating: wsc_dataset/train/Other/20181121-140739_120.jpg  \n",
            "  inflating: wsc_dataset/train/Other/20181121-141200_0.jpg  \n",
            "  inflating: wsc_dataset/train/Other/20181121-141640_0.jpg  \n",
            "  inflating: wsc_dataset/train/Other/20181121-141652_10.jpg  \n",
            "  inflating: wsc_dataset/train/Other/20181121-141709_70.jpg  \n",
            "  inflating: wsc_dataset/train/Other/20181121-141828_80.jpg  \n",
            "  inflating: wsc_dataset/train/Other/20181121-141847_120.jpg  \n",
            "  inflating: wsc_dataset/train/Other/20181121-142245_0.jpg  \n",
            "  inflating: wsc_dataset/train/Other/20181121-142247_100.jpg  \n",
            "  inflating: wsc_dataset/train/Other/20181121-142249_220.jpg  \n",
            "  inflating: wsc_dataset/train/Other/20181121-142819_300.jpg  \n",
            "  inflating: wsc_dataset/train/Other/20181121-143111_110.jpg  \n",
            "  inflating: wsc_dataset/train/Other/20181121-143113_240.jpg  \n",
            "  inflating: wsc_dataset/train/Other/20181121-143514_100.jpg  \n",
            "  inflating: wsc_dataset/train/Other/20181121-143551_130.jpg  \n",
            "  inflating: wsc_dataset/train/Other/20181121-143712_50.jpg  \n",
            "  inflating: wsc_dataset/train/Other/20181121-143738_240.jpg  \n",
            "  inflating: wsc_dataset/train/Other/20181121-143859_200.jpg  \n",
            "  inflating: wsc_dataset/train/Other/20181125-145055_200.jpg  \n",
            "  inflating: wsc_dataset/train/Other/20181125-145132_100.jpg  \n",
            "  inflating: wsc_dataset/train/Other/20181125-145501_70.jpg  \n",
            "  inflating: wsc_dataset/train/Other/20181125-145836_110.jpg  \n",
            "  inflating: wsc_dataset/train/Other/20181125-150039_50.jpg  \n",
            "  inflating: wsc_dataset/train/Other/20181125-150456_140.jpg  \n",
            "  inflating: wsc_dataset/train/Other/20181125-150557_0.jpg  \n",
            "  inflating: wsc_dataset/train/Other/20181125-150701_40.jpg  \n",
            "  inflating: wsc_dataset/train/Other/20181125-150854_40.jpg  \n",
            "  inflating: wsc_dataset/train/Other/20181125-151205_10.jpg  \n",
            "  inflating: wsc_dataset/train/Other/20181125-151434_40.jpg  \n",
            "  inflating: wsc_dataset/train/Other/20181125-151926_190.jpg  \n",
            "  inflating: wsc_dataset/train/Other/20181125-151947_0.jpg  \n",
            "  inflating: wsc_dataset/train/Other/20181125-152043_60.jpg  \n",
            "  inflating: wsc_dataset/train/Other/20181125-152107_280.jpg  \n",
            "  inflating: wsc_dataset/train/Other/20181125-152728_440.jpg  \n",
            "  inflating: wsc_dataset/train/Other/20181125-152856_190.jpg  \n",
            "  inflating: wsc_dataset/train/Other/20181125-152933_270.jpg  \n",
            "  inflating: wsc_dataset/train/Other/20181125-153023_30.jpg  \n",
            "  inflating: wsc_dataset/train/Other/20181125-153131_180.jpg  \n"
          ]
        }
      ]
    },
    {
      "cell_type": "markdown",
      "source": [
        "**recurrent methods**\n",
        "\n",
        "\n",
        "some methods are used multiple times, so implementing them once is more efficient and clean"
      ],
      "metadata": {
        "id": "33HaM6F6Cq7g"
      }
    },
    {
      "cell_type": "code",
      "source": [
        "def dir_to_df() -> pd.DataFrame:\n",
        "  df_columns = [\"image_path\", \"class_name\", \"group\", \"image_width\", \"image_height\", \"resolution\", \"R_min_max\", \"R_std\", \"G_min_max\", \"G_std\", \"B_min_max\", \"B_std\"]\n",
        "  agg_list = []\n",
        "  # go over dataset directory\n",
        "  for root, dirs, files in os.walk(dataset_dir):\n",
        "    for file in files:\n",
        "        if file.endswith(\".jpg\"):\n",
        "          image_path = os.path.join(root, file)\n",
        "          try:\n",
        "            image = Image.open(image_path)\n",
        "          except FileNotFoundError as err:\n",
        "            print(f\"cannot open image file: {image_path}\")\n",
        "            continue\n",
        "          class_name = root.split(\"/\")[-1].lower()\n",
        "          group = root.split(\"/\")[-2].lower()\n",
        "          width, height = image.size\n",
        "          resolution = (width*height) / 1e6\n",
        "          stats = ImageStat.Stat(image)\n",
        "          R_min_max = stats.extrema[0]\n",
        "          R_std = stats.stddev[0]\n",
        "          G_min_max = stats.extrema[1]\n",
        "          G_std = stats.stddev[1]\n",
        "          B_min_max = stats.extrema[2]\n",
        "          B_std = stats.stddev[2]\n",
        "          agg_list.append([image_path, class_name, group, width, height, resolution, R_min_max, R_std, G_min_max, G_std, B_min_max, B_std])\n",
        "  return pd.DataFrame(data=agg_list, columns=df_columns)\n",
        "\n",
        "def create_generators():\n",
        "  # validation subset sized as one batch\n",
        "  train_datagen = ImageDataGenerator(\n",
        "    rotation_range=10, \n",
        "    width_shift_range=0.1,\n",
        "    height_shift_range=0.1, \n",
        "    brightness_range=[0.98, 1.02], \n",
        "    shear_range=0.05, \n",
        "    zoom_range=0.1,\n",
        "    channel_shift_range=0.05,\n",
        "    horizontal_flip=True, \n",
        "    rescale=1./255,\n",
        "    validation_split=0.1\n",
        "  )\n",
        "\n",
        "  test_datagen = ImageDataGenerator(rescale=1./255)\n",
        "\n",
        "  train_generator = train_datagen.flow_from_directory(\n",
        "      f\"{dataset_dir}/train\",\n",
        "      target_size=image_size,\n",
        "      batch_size=batch_size,\n",
        "      class_mode='categorical',\n",
        "      seed=42,\n",
        "      subset=\"training\")\n",
        "\n",
        "  validation_generator = train_datagen.flow_from_directory(\n",
        "      f\"{dataset_dir}/train\",\n",
        "      target_size=image_size,\n",
        "      batch_size=batch_size,\n",
        "      class_mode='categorical',\n",
        "      seed=42,\n",
        "      subset=\"validation\")\n",
        "\n",
        "  test_generator = test_datagen.flow_from_directory(\n",
        "      f\"{dataset_dir}/test\",\n",
        "      target_size=image_size,\n",
        "      batch_size=batch_size,\n",
        "      class_mode='categorical',\n",
        "      seed=42)\n",
        "  \n",
        "  return train_generator, validation_generator, test_generator\n",
        "\n",
        "# efficientnet model without pretraining\n",
        "def build_efficientnet(num_classes: int, dropout: float = 0.2) -> tf.keras.Model:\n",
        "  inputs = layers.Input(shape=(image_size[0], image_size[1], 3))\n",
        "  outputs = EfficientNetB0(include_top=True, weights=None, classes=num_classes, drop_connect_rate=dropout)(inputs)\n",
        "  model = tf.keras.Model(inputs, outputs)\n",
        "  return model\n",
        "\n",
        "# efficientnet model pretrained on \"imagenet\"\n",
        "def build_efficientnet_pretrained(num_classes: int, dropout: float=0.2, is_trainable: bool=True) -> tf.keras.Model:\n",
        "  inputs = layers.Input(shape=(image_size[0], image_size[1], 3))\n",
        "  effnet = EfficientNetB0(include_top=False, input_tensor=inputs, weights=\"imagenet\", drop_connect_rate=dropout)\n",
        "\n",
        "  # freeze pretrained body\n",
        "  effnet.trainable = is_trainable\n",
        "\n",
        "  #build top\n",
        "  x = layers.GlobalAveragePooling2D(name=\"avg_pool\")(effnet.output)\n",
        "  x = layers.BatchNormalization()(x)\n",
        "  x = layers.Dropout(dropout, name=\"top_dropout\")(x)\n",
        "  outputs = layers.Dense(num_classes, activation=\"softmax\", name=\"pred\")(x)\n",
        "  \n",
        "  model = tf.keras.Model(inputs, outputs, name=\"EfficientNetB0\")\n",
        "  return model\n",
        "\n",
        "def model_eval(model, wandb_client, overall: bool=True, per_class: bool=True) -> None:\n",
        "  if overall:\n",
        "    # model evaluation\n",
        "    test_loss, test_accuracy = model.evaluate(test_generator, batch_size=batch_size)\n",
        "    print(\"test loss, test acc:\", [test_loss, test_accuracy])\n",
        "    wandb_client.log({\"test loss\": test_loss, \"test accuracy\": test_accuracy})\n",
        "  if per_class:\n",
        "    from sklearn.metrics import classification_report\n",
        "    # per class evaluation\n",
        "    Y_test = []\n",
        "    y_pred = []\n",
        "    for i, batch in enumerate(test_generator):\n",
        "        curr_true, curr_pred = np.argmax(batch[1], axis=1), np.argmax(model.predict(batch[0]), axis=-1) # Convert one-hot to index\n",
        "        for true, pred in zip(curr_true, curr_pred):\n",
        "          Y_test.append(true) \n",
        "          y_pred.append(pred)\n",
        "        if i == 9:\n",
        "          break\n",
        "    classification_report = classification_report(Y_test, y_pred)\n",
        "    print(classification_report)\n",
        "    # wandb_client.log({\"evaluation report per class\": classification_report})\n"
      ],
      "metadata": {
        "id": "nCO5gwJJCpJt"
      },
      "execution_count": 36,
      "outputs": []
    },
    {
      "cell_type": "markdown",
      "source": [
        "# **EDA**\n",
        "\n",
        "explanatory data analysis, this process should point out some regularities/irregularities in the data.\n"
      ],
      "metadata": {
        "id": "cU4cpVCsJ-xY"
      }
    },
    {
      "cell_type": "code",
      "source": [
        "# start wandb run\n",
        "job_type = \"EDA\"\n",
        "eda_wb_client = wandb.init(name=f\"{time_stamp} EDA\", project=wandb_project_name, group=f\"EDA {time_stamp}\", job_type=job_type, save_code=True)"
      ],
      "metadata": {
        "id": "6JHqLpuSKCnp",
        "colab": {
          "base_uri": "https://localhost:8080/",
          "height": 52
        },
        "outputId": "fc723ea6-5564-4c88-c1b9-f483a3ace29d"
      },
      "execution_count": 8,
      "outputs": [
        {
          "output_type": "stream",
          "name": "stderr",
          "text": [
            "\u001b[34m\u001b[1mwandb\u001b[0m: Currently logged in as: \u001b[33myotraz\u001b[0m (use `wandb login --relogin` to force relogin)\n"
          ]
        },
        {
          "output_type": "display_data",
          "data": {
            "text/html": [
              "\n",
              "                    Syncing run <strong><a href=\"https://wandb.ai/yotraz/wsc-classifier/runs/1t95d902\" target=\"_blank\">27-02-2022-02:09:51 EDA</a></strong> to <a href=\"https://wandb.ai/yotraz/wsc-classifier\" target=\"_blank\">Weights & Biases</a> (<a href=\"https://docs.wandb.com/integrations/jupyter.html\" target=\"_blank\">docs</a>).<br/>\n",
              "\n",
              "                "
            ],
            "text/plain": [
              "<IPython.core.display.HTML object>"
            ]
          },
          "metadata": {}
        }
      ]
    },
    {
      "cell_type": "markdown",
      "source": [
        "**Dataset Parser**"
      ],
      "metadata": {
        "id": "wMghY9btQhdL"
      }
    },
    {
      "cell_type": "code",
      "source": [
        "# load images and extract some dataset statistics\n",
        "df = dir_to_df()\n",
        "df.head(100)\n",
        "#save as csv\n",
        "df.to_csv(os.path.join(dataset_dir, \"dataset_metadata.csv\"))\n",
        "\n"
      ],
      "metadata": {
        "id": "_7cAQqojQepl"
      },
      "execution_count": 37,
      "outputs": []
    },
    {
      "cell_type": "markdown",
      "source": [
        "**Create plots**"
      ],
      "metadata": {
        "id": "CknLMqY70IGF"
      }
    },
    {
      "cell_type": "code",
      "source": [
        "# train/test split\n",
        "fig, ax = plt.subplots(figsize=(11.7, 8.27))\n",
        "sns.countplot(data=df, x=\"group\");\n",
        "title = \"train/test split\"\n",
        "plt.title(title);\n"
      ],
      "metadata": {
        "colab": {
          "base_uri": "https://localhost:8080/",
          "height": 533
        },
        "id": "QD-HOxjo3hnl",
        "outputId": "91d59e25-0b21-4471-e9e8-fc124ada128c"
      },
      "execution_count": 38,
      "outputs": [
        {
          "output_type": "display_data",
          "data": {
            "image/png": "[encoded data removed]",
            "text/plain": [
              "<Figure size 842.4x595.44 with 1 Axes>"
            ]
          },
          "metadata": {}
        }
      ]
    },
    {
      "cell_type": "code",
      "source": [
        "eda_wb_client.log({\"Train/Test Split\": fig})"
      ],
      "metadata": {
        "id": "U2RbKgCYKosI"
      },
      "execution_count": 11,
      "outputs": []
    },
    {
      "cell_type": "code",
      "source": [
        "# class balance\n",
        "fig, ax = plt.subplots(figsize=(11.7, 8.27))\n",
        "sns.countplot(data=df, x=\"class_name\");\n",
        "title = \"class balance\"\n",
        "plt.title(title);\n"
      ],
      "metadata": {
        "colab": {
          "base_uri": "https://localhost:8080/",
          "height": 533
        },
        "id": "yLEwEewv4Eod",
        "outputId": "3dde1ee7-ba86-4c45-a888-99a5f571613d"
      },
      "execution_count": 12,
      "outputs": [
        {
          "output_type": "display_data",
          "data": {
            "image/png": "[encoded data removed]",
            "text/plain": [
              "<Figure size 842.4x595.44 with 1 Axes>"
            ]
          },
          "metadata": {}
        }
      ]
    },
    {
      "cell_type": "code",
      "source": [
        "eda_wb_client.log({\"Class Balance\": fig})"
      ],
      "metadata": {
        "id": "uyXyND72rtJZ"
      },
      "execution_count": 13,
      "outputs": []
    },
    {
      "cell_type": "code",
      "source": [
        "# class balance for train\n",
        "fig_balance_train, ax = plt.subplots(figsize=(11.7, 8.27))\n",
        "is_train = df[\"group\"]==\"train\"\n",
        "train_df = df[is_train]\n",
        "\n",
        "sns.countplot(data=train_df, x=\"class_name\");\n",
        "title = \"class balance for train group\"\n",
        "plt.title(title);\n"
      ],
      "metadata": {
        "colab": {
          "base_uri": "https://localhost:8080/",
          "height": 533
        },
        "id": "Ni9SR660-X_J",
        "outputId": "9debc7a1-8102-42a0-8365-ff98031f19a4"
      },
      "execution_count": 39,
      "outputs": [
        {
          "output_type": "display_data",
          "data": {
            "image/png": "[encoded data removed]",
            "text/plain": [
              "<Figure size 842.4x595.44 with 1 Axes>"
            ]
          },
          "metadata": {}
        }
      ]
    },
    {
      "cell_type": "code",
      "source": [
        "# class balance for test\n",
        "fig_balance_test, ax = plt.subplots(figsize=(11.7, 8.27))\n",
        "test_df = df[~is_train]\n",
        "\n",
        "sns.countplot(data=test_df, x=\"class_name\");\n",
        "title = \"class balance for test group\"\n",
        "plt.title(title);\n"
      ],
      "metadata": {
        "colab": {
          "base_uri": "https://localhost:8080/",
          "height": 533
        },
        "id": "YYJWaDia_AiY",
        "outputId": "4febd2d8-51c6-476b-8b25-7ca823049817"
      },
      "execution_count": 15,
      "outputs": [
        {
          "output_type": "display_data",
          "data": {
            "image/png": "[encoded data removed]",
            "text/plain": [
              "<Figure size 842.4x595.44 with 1 Axes>"
            ]
          },
          "metadata": {}
        }
      ]
    },
    {
      "cell_type": "code",
      "source": [
        "# image resolution\n",
        "fig, ax = plt.subplots(figsize=(11.7, 8.27));\n",
        "sns.countplot(data=df, x=\"image_height\");\n",
        "plt.title(\"image resolution count\");"
      ],
      "metadata": {
        "colab": {
          "base_uri": "https://localhost:8080/",
          "height": 533
        },
        "id": "R4GGLWDK71ad",
        "outputId": "7d029014-001c-430a-abaa-8c867b4fd7bb"
      },
      "execution_count": 16,
      "outputs": [
        {
          "output_type": "display_data",
          "data": {
            "image/png": "[encoded data removed]",
            "text/plain": [
              "<Figure size 842.4x595.44 with 1 Axes>"
            ]
          },
          "metadata": {}
        }
      ]
    },
    {
      "cell_type": "code",
      "source": [
        "eda_wb_client.log({\"Image Resolution\": fig})"
      ],
      "metadata": {
        "id": "KMXMotB8r3be"
      },
      "execution_count": 17,
      "outputs": []
    },
    {
      "cell_type": "code",
      "source": [
        "# image resolution for train group\n",
        "fig_resolution_train, ax = plt.subplots(figsize=(11.7, 8.27))\n",
        "sns.countplot(data=train_df, x=\"image_height\");\n",
        "plt.title(\"image resolution for train group\");"
      ],
      "metadata": {
        "colab": {
          "base_uri": "https://localhost:8080/",
          "height": 533
        },
        "id": "ye1DCbAU_dli",
        "outputId": "9dad5030-39bb-4513-f55e-3a650813ab1a"
      },
      "execution_count": 18,
      "outputs": [
        {
          "output_type": "display_data",
          "data": {
            "image/png": "[encoded data removed]",
            "text/plain": [
              "<Figure size 842.4x595.44 with 1 Axes>"
            ]
          },
          "metadata": {}
        }
      ]
    },
    {
      "cell_type": "code",
      "source": [
        "# image resolution for test group\n",
        "fig_resolution_test, ax = plt.subplots(figsize=(11.7, 8.27));\n",
        "sns.countplot(data=test_df, x=\"image_height\");\n",
        "plt.title(\"image resolution for test group\");"
      ],
      "metadata": {
        "colab": {
          "base_uri": "https://localhost:8080/",
          "height": 533
        },
        "id": "lq8ng3o7_n0C",
        "outputId": "814dbd08-e756-42bd-f37a-c248b7f8e450"
      },
      "execution_count": 19,
      "outputs": [
        {
          "output_type": "display_data",
          "data": {
            "image/png": "[encoded data removed]",
            "text/plain": [
              "<Figure size 842.4x595.44 with 1 Axes>"
            ]
          },
          "metadata": {}
        }
      ]
    },
    {
      "cell_type": "code",
      "source": [
        "# red vs green pixels std\n",
        "fig, ax = plt.subplots(figsize=(11.7, 8.27));\n",
        "sns.scatterplot(data=df, x=\"R_std\", y=\"G_std\", hue=\"class_name\");\n",
        "plt.title(\"red vs green pixels std\");"
      ],
      "metadata": {
        "colab": {
          "base_uri": "https://localhost:8080/",
          "height": 533
        },
        "id": "jmmob1r00GmF",
        "outputId": "5be40907-afaa-4182-d7b5-a705700ab3ca"
      },
      "execution_count": 20,
      "outputs": [
        {
          "output_type": "display_data",
          "data": {
            "image/png": "[encoded data removed]",
            "text/plain": [
              "<Figure size 842.4x595.44 with 1 Axes>"
            ]
          },
          "metadata": {}
        }
      ]
    },
    {
      "cell_type": "code",
      "source": [
        "eda_wb_client.log({\"Red vs. Green pixels std\": fig})"
      ],
      "metadata": {
        "colab": {
          "base_uri": "https://localhost:8080/"
        },
        "id": "z5uwJLS7sGrL",
        "outputId": "bc029db4-6c93-490f-f1bb-dd070d557918"
      },
      "execution_count": 21,
      "outputs": [
        {
          "output_type": "stream",
          "name": "stderr",
          "text": [
            "/usr/local/lib/python3.7/dist-packages/plotly/matplotlylib/renderer.py:575: UserWarning:\n",
            "\n",
            "Dang! That path collection is out of this world. I totally don't know what to do with it yet! Plotly can only import path collections linked to 'data' coordinates\n",
            "\n",
            "/usr/local/lib/python3.7/dist-packages/plotly/matplotlylib/renderer.py:613: UserWarning:\n",
            "\n",
            "I found a path object that I don't think is part of a bar chart. Ignoring.\n",
            "\n"
          ]
        }
      ]
    },
    {
      "cell_type": "code",
      "source": [
        "# blue vs green pixels std\n",
        "fig_blue_green, ax = plt.subplots(figsize=(11.7, 8.27));\n",
        "sns.scatterplot(data=df, x=\"B_std\", y=\"G_std\", hue=\"class_name\");\n",
        "plt.title(\"blue vs green pixels std\");"
      ],
      "metadata": {
        "colab": {
          "base_uri": "https://localhost:8080/",
          "height": 533
        },
        "id": "784Wyr3pCwlw",
        "outputId": "8891ba07-5d67-4f85-f31e-3eee6737af9e"
      },
      "execution_count": 22,
      "outputs": [
        {
          "output_type": "display_data",
          "data": {
            "image/png": "[encoded data removed]",
            "text/plain": [
              "<Figure size 842.4x595.44 with 1 Axes>"
            ]
          },
          "metadata": {}
        }
      ]
    },
    {
      "cell_type": "markdown",
      "source": [
        "# Training baseline model\n",
        "\n"
      ],
      "metadata": {
        "id": "Hfr2MXCsEqGw"
      }
    },
    {
      "cell_type": "markdown",
      "source": [
        "**Preprocessing**\n",
        "\n",
        "data is already splitted into train/test folders so we can use \"flow from directory\" to fetch the next batch of images directly from the disk"
      ],
      "metadata": {
        "id": "-wOq1uCMK-te"
      }
    },
    {
      "cell_type": "code",
      "source": [
        "# create image generators using flow_from_directory\n",
        "train_generator, validation_generator, test_generator = create_generators()"
      ],
      "metadata": {
        "colab": {
          "base_uri": "https://localhost:8080/"
        },
        "id": "LUmQYixlK8ox",
        "outputId": "20e8bc80-89c1-43c2-d13a-bcca61fadef2"
      },
      "execution_count": 23,
      "outputs": [
        {
          "output_type": "stream",
          "name": "stdout",
          "text": [
            "Found 239 images belonging to 6 classes.\n",
            "Found 26 images belonging to 6 classes.\n",
            "Found 60 images belonging to 6 classes.\n"
          ]
        }
      ]
    },
    {
      "cell_type": "markdown",
      "source": [
        "**Visualize some images**"
      ],
      "metadata": {
        "id": "AmdEO14rK-F8"
      }
    },
    {
      "cell_type": "code",
      "source": [
        "\n",
        "def format_label(label):\n",
        "    class_idx = np.where(label==1.)[0][0]\n",
        "    return class_list[class_idx]\n",
        "\n",
        "for i, (image, label) in enumerate(train_generator):\n",
        "    ax = plt.subplot(3, 3, i + 1)\n",
        "    plt.imshow(image[0])\n",
        "    plt.title(\"{}\".format(format_label(label[0])))\n",
        "    plt.axis(\"off\")\n",
        "    if i==8:\n",
        "      break"
      ],
      "metadata": {
        "colab": {
          "base_uri": "https://localhost:8080/",
          "height": 264
        },
        "id": "v8iec-GAWgNJ",
        "outputId": "16698106-dd1f-4b7a-8095-3dc0f49632a9"
      },
      "execution_count": 30,
      "outputs": [
        {
          "output_type": "display_data",
          "data": {
            "image/png": "[encoded data removed]",
            "text/plain": [
              "<Figure size 432x288 with 9 Axes>"
            ]
          },
          "metadata": {}
        }
      ]
    },
    {
      "cell_type": "markdown",
      "source": [
        "**Train the model** "
      ],
      "metadata": {
        "id": "gYy-p39CqFwE"
      }
    },
    {
      "cell_type": "code",
      "source": [
        "\n",
        "\n",
        "# wandb train run\n",
        "job_type = \"Train\"\n",
        "train_wb_client = wandb.init(name=f\"baseline model train\", project=wandb_project_name, group=f\"baseline model {time_stamp}\", job_type=job_type)\n",
        "\n",
        "# training parameters\n",
        "lr = 0.010001 #@param {type:\"slider\", min:0.000001, max:0.2, step:0.0001}\n",
        "epochs = 99 # @param {type: \"slider\", min:10, max:1000}\n",
        "optimizer = keras.optimizers.Adam(learning_rate=lr)\n",
        "\n",
        "# wandb callback\n",
        "wandb_cb = WandbCallback()\n",
        "\n",
        "model = build_efficientnet(len(class_list), dropout=0.2)\n",
        "model.compile(\n",
        "      optimizer=optimizer, loss=\"categorical_crossentropy\", metrics=[\"accuracy\"]\n",
        "      )\n",
        "\n",
        "model.summary()\n",
        "\n",
        "model.fit(train_generator, validation_data=validation_generator, epochs=epochs, callbacks=[wandb_cb])"
      ],
      "metadata": {
        "colab": {
          "base_uri": "https://localhost:8080/",
          "height": 1000,
          "referenced_widgets": [
            "c99d5b95d1154a579bfb957f11935389",
            "9953fc6c6afb40ab8baaafd5df642710",
            "7269b473c5d140479d31d168c1fa0bc3",
            "4ab73021b4d44bb6a4b3c5ed4a32a147",
            "585f10e4cd2d48e7a0b823615a7e9f19",
            "d304cd9eb75d48b7ba3f5ca263b1b14a",
            "0d66a1870bcb43e1a945fcca4a5c35fc",
            "d917daefbf1549c29881510a1a966cce"
          ]
        },
        "id": "CptdaISkqFUG",
        "outputId": "78eda8d8-1772-4ccd-b411-4ef72d682948"
      },
      "execution_count": 31,
      "outputs": [
        {
          "output_type": "display_data",
          "data": {
            "text/html": [
              "Finishing last run (ID:1t95d902) before initializing another..."
            ],
            "text/plain": [
              "<IPython.core.display.HTML object>"
            ]
          },
          "metadata": {}
        },
        {
          "output_type": "display_data",
          "data": {
            "text/html": [
              "<br/>Waiting for W&B process to finish, PID 32224... <strong style=\"color:green\">(success).</strong>"
            ],
            "text/plain": [
              "<IPython.core.display.HTML object>"
            ]
          },
          "metadata": {}
        },
        {
          "output_type": "display_data",
          "data": {
            "application/vnd.jupyter.widget-view+json": {
              "model_id": "c99d5b95d1154a579bfb957f11935389",
              "version_minor": 0,
              "version_major": 2
            },
            "text/plain": [
              "VBox(children=(Label(value=' 11.95MB of 11.95MB uploaded (0.00MB deduped)\\r'), FloatProgress(value=1.0, max=1.…"
            ]
          },
          "metadata": {}
        },
        {
          "output_type": "display_data",
          "data": {
            "text/html": [
              "<style>\n",
              "    table.wandb td:nth-child(1) { padding: 0 10px; text-align: right }\n",
              "    .wandb-row { display: flex; flex-direction: row; flex-wrap: wrap; width: 100% }\n",
              "    .wandb-col { display: flex; flex-direction: column; flex-basis: 100%; flex: 1; padding: 10px; }\n",
              "    </style>\n",
              "<div class=\"wandb-row\"><div class=\"wandb-col\">\n",
              "</div><div class=\"wandb-col\">\n",
              "</div></div>\n",
              "Synced 5 W&B file(s), 4 media file(s), 25 artifact file(s) and 1 other file(s)\n",
              "<br/>Synced <strong style=\"color:#cdcd00\">27-02-2022-02:09:51 EDA</strong>: <a href=\"https://wandb.ai/yotraz/wsc-classifier/runs/1t95d902\" target=\"_blank\">https://wandb.ai/yotraz/wsc-classifier/runs/1t95d902</a><br/>\n",
              "Find logs at: <code>./wandb/run-20220227_001015-1t95d902/logs</code><br/>\n"
            ],
            "text/plain": [
              "<IPython.core.display.HTML object>"
            ]
          },
          "metadata": {}
        },
        {
          "output_type": "display_data",
          "data": {
            "text/html": [
              "Successfully finished last run (ID:1t95d902). Initializing new run:<br/>"
            ],
            "text/plain": [
              "<IPython.core.display.HTML object>"
            ]
          },
          "metadata": {}
        },
        {
          "output_type": "display_data",
          "data": {
            "text/html": [
              "\n",
              "                    Syncing run <strong><a href=\"https://wandb.ai/yotraz/wsc-classifier/runs/3189pkw0\" target=\"_blank\">baseline model train</a></strong> to <a href=\"https://wandb.ai/yotraz/wsc-classifier\" target=\"_blank\">Weights & Biases</a> (<a href=\"https://docs.wandb.com/integrations/jupyter.html\" target=\"_blank\">docs</a>).<br/>\n",
              "\n",
              "                "
            ],
            "text/plain": [
              "<IPython.core.display.HTML object>"
            ]
          },
          "metadata": {}
        },
        {
          "output_type": "stream",
          "name": "stdout",
          "text": [
            "Model: \"model\"\n",
            "_________________________________________________________________\n",
            " Layer (type)                Output Shape              Param #   \n",
            "=================================================================\n",
            " input_1 (InputLayer)        [(None, 224, 224, 3)]     0         \n",
            "                                                                 \n",
            " efficientnetb0 (Functional)  (None, 6)                4057257   \n",
            "                                                                 \n",
            "=================================================================\n",
            "Total params: 4,057,257\n",
            "Trainable params: 4,015,234\n",
            "Non-trainable params: 42,023\n",
            "_________________________________________________________________\n",
            "Epoch 1/99\n",
            "15/15 [==============================] - 26s 846ms/step - loss: 10.9267 - accuracy: 0.1925 - val_loss: 2514999.0000 - val_accuracy: 0.1923\n",
            "Epoch 2/99\n",
            "15/15 [==============================] - 10s 680ms/step - loss: 3.2386 - accuracy: 0.2218 - val_loss: 267911.6875 - val_accuracy: 0.1923\n",
            "Epoch 3/99\n",
            "15/15 [==============================] - 14s 920ms/step - loss: 2.7978 - accuracy: 0.2008 - val_loss: 440.9549 - val_accuracy: 0.1923\n",
            "Epoch 4/99\n",
            "15/15 [==============================] - 11s 715ms/step - loss: 2.5722 - accuracy: 0.2259 - val_loss: 7.2669 - val_accuracy: 0.1923\n",
            "Epoch 5/99\n",
            "15/15 [==============================] - 10s 670ms/step - loss: 1.8013 - accuracy: 0.2929 - val_loss: 2.5040 - val_accuracy: 0.1923\n",
            "Epoch 6/99\n",
            "15/15 [==============================] - 10s 680ms/step - loss: 1.8614 - accuracy: 0.2678 - val_loss: 1.8214 - val_accuracy: 0.1923\n",
            "Epoch 7/99\n",
            "15/15 [==============================] - 9s 611ms/step - loss: 1.7010 - accuracy: 0.2971 - val_loss: 2.0337 - val_accuracy: 0.1923\n",
            "Epoch 8/99\n",
            "15/15 [==============================] - 9s 609ms/step - loss: 1.6957 - accuracy: 0.3013 - val_loss: 2.4555 - val_accuracy: 0.1923\n",
            "Epoch 9/99\n",
            "15/15 [==============================] - 9s 613ms/step - loss: 1.6278 - accuracy: 0.2845 - val_loss: 2.2808 - val_accuracy: 0.1923\n",
            "Epoch 10/99\n",
            "15/15 [==============================] - 9s 606ms/step - loss: 1.5230 - accuracy: 0.3808 - val_loss: 2.9626 - val_accuracy: 0.1923\n",
            "Epoch 11/99\n",
            "15/15 [==============================] - 9s 610ms/step - loss: 1.5817 - accuracy: 0.3389 - val_loss: 4.1090 - val_accuracy: 0.1923\n",
            "Epoch 12/99\n",
            "15/15 [==============================] - 9s 605ms/step - loss: 1.6814 - accuracy: 0.3891 - val_loss: 2.0248 - val_accuracy: 0.1923\n",
            "Epoch 13/99\n",
            "15/15 [==============================] - 9s 613ms/step - loss: 1.4759 - accuracy: 0.4059 - val_loss: 2.0206 - val_accuracy: 0.1923\n",
            "Epoch 14/99\n",
            "15/15 [==============================] - 9s 608ms/step - loss: 1.4032 - accuracy: 0.4268 - val_loss: 4.3403 - val_accuracy: 0.1923\n",
            "Epoch 15/99\n",
            "15/15 [==============================] - 10s 604ms/step - loss: 1.3280 - accuracy: 0.5146 - val_loss: 2.0592 - val_accuracy: 0.1923\n",
            "Epoch 16/99\n",
            "15/15 [==============================] - 9s 608ms/step - loss: 1.2294 - accuracy: 0.5314 - val_loss: 2.2318 - val_accuracy: 0.1923\n",
            "Epoch 17/99\n",
            "15/15 [==============================] - 9s 606ms/step - loss: 1.2877 - accuracy: 0.4812 - val_loss: 1.9041 - val_accuracy: 0.1923\n",
            "Epoch 18/99\n",
            "15/15 [==============================] - 9s 606ms/step - loss: 1.0274 - accuracy: 0.6444 - val_loss: 2.7886 - val_accuracy: 0.1923\n",
            "Epoch 19/99\n",
            "15/15 [==============================] - 10s 642ms/step - loss: 1.1258 - accuracy: 0.6025 - val_loss: 4.4369 - val_accuracy: 0.1923\n",
            "Epoch 20/99\n",
            "15/15 [==============================] - 10s 673ms/step - loss: 1.0710 - accuracy: 0.5690 - val_loss: 1.7871 - val_accuracy: 0.1923\n",
            "Epoch 21/99\n",
            "15/15 [==============================] - 9s 602ms/step - loss: 0.9150 - accuracy: 0.6569 - val_loss: 5.6967 - val_accuracy: 0.1923\n",
            "Epoch 22/99\n",
            "15/15 [==============================] - 9s 602ms/step - loss: 0.9620 - accuracy: 0.6192 - val_loss: 2.5182 - val_accuracy: 0.1923\n",
            "Epoch 23/99\n",
            "15/15 [==============================] - 9s 604ms/step - loss: 1.3981 - accuracy: 0.6318 - val_loss: 1.8725 - val_accuracy: 0.1923\n",
            "Epoch 24/99\n",
            "15/15 [==============================] - 9s 605ms/step - loss: 1.0883 - accuracy: 0.6025 - val_loss: 7.1204 - val_accuracy: 0.0385\n",
            "Epoch 25/99\n",
            "15/15 [==============================] - 9s 604ms/step - loss: 1.1579 - accuracy: 0.5272 - val_loss: 7.9745 - val_accuracy: 0.1923\n",
            "Epoch 26/99\n",
            "15/15 [==============================] - 9s 606ms/step - loss: 1.0117 - accuracy: 0.6276 - val_loss: 2.5393 - val_accuracy: 0.1923\n",
            "Epoch 27/99\n",
            "15/15 [==============================] - 9s 606ms/step - loss: 0.8674 - accuracy: 0.6234 - val_loss: 3.9552 - val_accuracy: 0.0385\n",
            "Epoch 28/99\n",
            "15/15 [==============================] - 9s 605ms/step - loss: 1.0215 - accuracy: 0.6318 - val_loss: 2.7581 - val_accuracy: 0.2308\n",
            "Epoch 29/99\n",
            "15/15 [==============================] - 9s 604ms/step - loss: 1.0415 - accuracy: 0.6485 - val_loss: 5.3892 - val_accuracy: 0.0385\n",
            "Epoch 30/99\n",
            "15/15 [==============================] - 9s 601ms/step - loss: 0.9086 - accuracy: 0.6360 - val_loss: 8.1462 - val_accuracy: 0.0385\n",
            "Epoch 31/99\n",
            "15/15 [==============================] - 9s 604ms/step - loss: 0.8667 - accuracy: 0.6611 - val_loss: 2.2553 - val_accuracy: 0.1923\n",
            "Epoch 32/99\n",
            "15/15 [==============================] - 10s 664ms/step - loss: 0.9688 - accuracy: 0.6276 - val_loss: 1.7434 - val_accuracy: 0.4231\n",
            "Epoch 33/99\n",
            "15/15 [==============================] - 9s 611ms/step - loss: 0.8321 - accuracy: 0.6444 - val_loss: 4.5704 - val_accuracy: 0.1923\n",
            "Epoch 34/99\n",
            "15/15 [==============================] - 9s 600ms/step - loss: 0.8309 - accuracy: 0.6946 - val_loss: 6.5603 - val_accuracy: 0.0385\n",
            "Epoch 35/99\n",
            "15/15 [==============================] - 9s 610ms/step - loss: 0.9141 - accuracy: 0.6862 - val_loss: 3.6320 - val_accuracy: 0.1538\n",
            "Epoch 36/99\n",
            "15/15 [==============================] - 9s 600ms/step - loss: 0.7267 - accuracy: 0.7197 - val_loss: 4.4779 - val_accuracy: 0.0385\n",
            "Epoch 37/99\n",
            "15/15 [==============================] - 9s 597ms/step - loss: 0.7670 - accuracy: 0.7071 - val_loss: 6.4581 - val_accuracy: 0.0385\n",
            "Epoch 38/99\n",
            "15/15 [==============================] - 9s 602ms/step - loss: 0.7525 - accuracy: 0.7155 - val_loss: 2.4781 - val_accuracy: 0.3077\n",
            "Epoch 39/99\n",
            "15/15 [==============================] - 10s 658ms/step - loss: 0.8291 - accuracy: 0.6862 - val_loss: 1.5695 - val_accuracy: 0.4231\n",
            "Epoch 40/99\n",
            "15/15 [==============================] - 9s 599ms/step - loss: 0.8563 - accuracy: 0.6778 - val_loss: 2.5959 - val_accuracy: 0.2692\n",
            "Epoch 41/99\n",
            "15/15 [==============================] - 9s 600ms/step - loss: 0.6775 - accuracy: 0.7113 - val_loss: 1.6930 - val_accuracy: 0.6154\n",
            "Epoch 42/99\n",
            "15/15 [==============================] - 10s 655ms/step - loss: 0.7316 - accuracy: 0.7280 - val_loss: 1.3616 - val_accuracy: 0.5769\n",
            "Epoch 43/99\n",
            "15/15 [==============================] - 9s 595ms/step - loss: 0.6866 - accuracy: 0.7406 - val_loss: 1.8341 - val_accuracy: 0.5769\n",
            "Epoch 44/99\n",
            "15/15 [==============================] - 9s 596ms/step - loss: 0.6223 - accuracy: 0.7531 - val_loss: 1.5096 - val_accuracy: 0.5769\n",
            "Epoch 45/99\n",
            "15/15 [==============================] - 9s 601ms/step - loss: 0.5861 - accuracy: 0.7741 - val_loss: 1.7948 - val_accuracy: 0.5769\n",
            "Epoch 46/99\n",
            "15/15 [==============================] - 9s 601ms/step - loss: 0.7214 - accuracy: 0.7280 - val_loss: 1.9262 - val_accuracy: 0.6154\n",
            "Epoch 47/99\n",
            "15/15 [==============================] - 9s 594ms/step - loss: 0.6955 - accuracy: 0.7197 - val_loss: 2.1155 - val_accuracy: 0.5769\n",
            "Epoch 48/99\n",
            "15/15 [==============================] - 9s 601ms/step - loss: 0.7028 - accuracy: 0.7741 - val_loss: 2.1631 - val_accuracy: 0.5769\n",
            "Epoch 49/99\n",
            "15/15 [==============================] - 9s 595ms/step - loss: 0.6116 - accuracy: 0.7448 - val_loss: 1.9594 - val_accuracy: 0.4615\n",
            "Epoch 50/99\n",
            "15/15 [==============================] - 14s 924ms/step - loss: 0.7649 - accuracy: 0.6987 - val_loss: 1.3860 - val_accuracy: 0.6538\n",
            "Epoch 51/99\n",
            "15/15 [==============================] - 11s 713ms/step - loss: 0.5269 - accuracy: 0.7699 - val_loss: 1.5915 - val_accuracy: 0.7308\n",
            "Epoch 52/99\n",
            "15/15 [==============================] - 11s 705ms/step - loss: 0.6323 - accuracy: 0.7364 - val_loss: 1.7726 - val_accuracy: 0.6923\n",
            "Epoch 53/99\n",
            "15/15 [==============================] - 10s 656ms/step - loss: 0.6360 - accuracy: 0.7699 - val_loss: 1.0805 - val_accuracy: 0.7308\n",
            "Epoch 54/99\n",
            "15/15 [==============================] - 9s 600ms/step - loss: 0.6967 - accuracy: 0.7322 - val_loss: 1.1775 - val_accuracy: 0.7308\n",
            "Epoch 55/99\n",
            "15/15 [==============================] - 9s 601ms/step - loss: 0.4915 - accuracy: 0.8117 - val_loss: 1.4168 - val_accuracy: 0.7692\n",
            "Epoch 56/99\n",
            "15/15 [==============================] - 9s 599ms/step - loss: 0.6758 - accuracy: 0.7782 - val_loss: 1.7104 - val_accuracy: 0.6154\n",
            "Epoch 57/99\n",
            "15/15 [==============================] - 9s 598ms/step - loss: 0.4953 - accuracy: 0.8201 - val_loss: 1.9925 - val_accuracy: 0.6154\n",
            "Epoch 58/99\n",
            "15/15 [==============================] - 9s 602ms/step - loss: 0.4842 - accuracy: 0.8285 - val_loss: 2.1255 - val_accuracy: 0.6923\n",
            "Epoch 59/99\n",
            "15/15 [==============================] - 9s 603ms/step - loss: 0.3980 - accuracy: 0.8368 - val_loss: 2.3812 - val_accuracy: 0.6538\n",
            "Epoch 60/99\n",
            "15/15 [==============================] - 10s 660ms/step - loss: 0.4802 - accuracy: 0.8033 - val_loss: 1.8314 - val_accuracy: 0.6538\n",
            "Epoch 61/99\n",
            "15/15 [==============================] - 9s 596ms/step - loss: 0.5453 - accuracy: 0.7657 - val_loss: 1.6593 - val_accuracy: 0.5000\n",
            "Epoch 62/99\n",
            "15/15 [==============================] - 9s 599ms/step - loss: 0.5224 - accuracy: 0.7992 - val_loss: 1.1568 - val_accuracy: 0.6923\n",
            "Epoch 63/99\n",
            "15/15 [==============================] - 9s 601ms/step - loss: 0.4185 - accuracy: 0.8410 - val_loss: 1.3589 - val_accuracy: 0.6538\n",
            "Epoch 64/99\n",
            "15/15 [==============================] - 9s 606ms/step - loss: 0.4453 - accuracy: 0.8452 - val_loss: 1.7033 - val_accuracy: 0.6154\n",
            "Epoch 65/99\n",
            "15/15 [==============================] - 9s 597ms/step - loss: 0.5022 - accuracy: 0.7824 - val_loss: 1.9927 - val_accuracy: 0.5769\n",
            "Epoch 66/99\n",
            "15/15 [==============================] - 9s 602ms/step - loss: 0.5154 - accuracy: 0.8075 - val_loss: 1.7267 - val_accuracy: 0.6538\n",
            "Epoch 67/99\n",
            "15/15 [==============================] - 9s 600ms/step - loss: 0.4663 - accuracy: 0.8243 - val_loss: 1.5092 - val_accuracy: 0.6154\n",
            "Epoch 68/99\n",
            "15/15 [==============================] - 9s 590ms/step - loss: 0.4364 - accuracy: 0.8075 - val_loss: 2.2320 - val_accuracy: 0.6154\n",
            "Epoch 69/99\n",
            "15/15 [==============================] - 10s 660ms/step - loss: 0.5261 - accuracy: 0.7908 - val_loss: 1.4914 - val_accuracy: 0.7692\n",
            "Epoch 70/99\n",
            "15/15 [==============================] - 9s 596ms/step - loss: 0.6045 - accuracy: 0.7950 - val_loss: 1.4338 - val_accuracy: 0.6154\n",
            "Epoch 71/99\n",
            "15/15 [==============================] - 9s 605ms/step - loss: 0.4578 - accuracy: 0.8494 - val_loss: 1.8273 - val_accuracy: 0.7308\n",
            "Epoch 72/99\n",
            "15/15 [==============================] - 9s 590ms/step - loss: 0.3921 - accuracy: 0.8577 - val_loss: 1.7800 - val_accuracy: 0.6154\n",
            "Epoch 73/99\n",
            "15/15 [==============================] - 9s 593ms/step - loss: 0.3640 - accuracy: 0.8787 - val_loss: 2.3516 - val_accuracy: 0.6538\n",
            "Epoch 74/99\n",
            "15/15 [==============================] - 9s 628ms/step - loss: 0.3880 - accuracy: 0.8703 - val_loss: 1.5338 - val_accuracy: 0.7308\n",
            "Epoch 75/99\n",
            "15/15 [==============================] - 9s 606ms/step - loss: 0.3204 - accuracy: 0.8912 - val_loss: 1.6772 - val_accuracy: 0.6538\n",
            "Epoch 76/99\n",
            "15/15 [==============================] - 9s 617ms/step - loss: 0.3006 - accuracy: 0.8912 - val_loss: 1.4568 - val_accuracy: 0.6538\n",
            "Epoch 77/99\n",
            "15/15 [==============================] - 9s 629ms/step - loss: 0.3814 - accuracy: 0.8494 - val_loss: 3.4840 - val_accuracy: 0.4615\n",
            "Epoch 78/99\n",
            "15/15 [==============================] - 9s 593ms/step - loss: 0.3683 - accuracy: 0.8452 - val_loss: 1.2119 - val_accuracy: 0.6538\n",
            "Epoch 79/99\n",
            "15/15 [==============================] - 9s 597ms/step - loss: 0.3182 - accuracy: 0.8787 - val_loss: 1.9224 - val_accuracy: 0.6154\n",
            "Epoch 80/99\n",
            "15/15 [==============================] - 9s 604ms/step - loss: 0.5433 - accuracy: 0.8033 - val_loss: 1.5258 - val_accuracy: 0.6154\n",
            "Epoch 81/99\n",
            "15/15 [==============================] - 9s 601ms/step - loss: 0.3658 - accuracy: 0.8452 - val_loss: 3.2804 - val_accuracy: 0.6154\n",
            "Epoch 82/99\n",
            "15/15 [==============================] - 9s 602ms/step - loss: 0.3041 - accuracy: 0.9038 - val_loss: 2.4335 - val_accuracy: 0.6538\n",
            "Epoch 83/99\n",
            "15/15 [==============================] - 9s 600ms/step - loss: 0.3126 - accuracy: 0.8828 - val_loss: 2.3129 - val_accuracy: 0.6154\n",
            "Epoch 84/99\n",
            "15/15 [==============================] - 9s 595ms/step - loss: 0.3409 - accuracy: 0.8870 - val_loss: 1.9184 - val_accuracy: 0.7692\n",
            "Epoch 85/99\n",
            "15/15 [==============================] - 9s 616ms/step - loss: 0.3833 - accuracy: 0.8452 - val_loss: 3.1058 - val_accuracy: 0.5385\n",
            "Epoch 86/99\n",
            "15/15 [==============================] - 10s 690ms/step - loss: 0.4361 - accuracy: 0.8326 - val_loss: 1.0283 - val_accuracy: 0.6923\n",
            "Epoch 87/99\n",
            "15/15 [==============================] - 10s 691ms/step - loss: 0.2418 - accuracy: 0.9038 - val_loss: 0.9805 - val_accuracy: 0.7692\n",
            "Epoch 88/99\n",
            "15/15 [==============================] - 9s 629ms/step - loss: 0.2314 - accuracy: 0.9121 - val_loss: 2.2220 - val_accuracy: 0.6923\n",
            "Epoch 89/99\n",
            "15/15 [==============================] - 10s 699ms/step - loss: 0.2696 - accuracy: 0.9038 - val_loss: 0.8122 - val_accuracy: 0.8077\n",
            "Epoch 90/99\n",
            "15/15 [==============================] - 9s 616ms/step - loss: 0.2479 - accuracy: 0.9121 - val_loss: 1.9242 - val_accuracy: 0.6538\n",
            "Epoch 91/99\n",
            "15/15 [==============================] - 9s 597ms/step - loss: 0.2408 - accuracy: 0.9038 - val_loss: 1.1858 - val_accuracy: 0.7308\n",
            "Epoch 92/99\n",
            "15/15 [==============================] - 10s 643ms/step - loss: 0.3276 - accuracy: 0.8828 - val_loss: 2.2118 - val_accuracy: 0.6154\n",
            "Epoch 93/99\n",
            "15/15 [==============================] - 9s 616ms/step - loss: 0.4019 - accuracy: 0.8912 - val_loss: 3.0632 - val_accuracy: 0.4615\n",
            "Epoch 94/99\n",
            "15/15 [==============================] - 9s 624ms/step - loss: 0.3035 - accuracy: 0.8828 - val_loss: 5.0053 - val_accuracy: 0.4615\n",
            "Epoch 95/99\n",
            "15/15 [==============================] - 9s 630ms/step - loss: 0.2003 - accuracy: 0.9205 - val_loss: 2.9593 - val_accuracy: 0.6538\n",
            "Epoch 96/99\n",
            "15/15 [==============================] - 9s 625ms/step - loss: 0.2526 - accuracy: 0.9079 - val_loss: 2.0921 - val_accuracy: 0.6538\n",
            "Epoch 97/99\n",
            "15/15 [==============================] - 10s 637ms/step - loss: 0.2485 - accuracy: 0.9372 - val_loss: 2.1740 - val_accuracy: 0.6923\n",
            "Epoch 98/99\n",
            "15/15 [==============================] - 9s 608ms/step - loss: 0.1708 - accuracy: 0.9372 - val_loss: 1.4470 - val_accuracy: 0.7692\n",
            "Epoch 99/99\n",
            "15/15 [==============================] - 9s 600ms/step - loss: 0.2291 - accuracy: 0.9163 - val_loss: 2.0644 - val_accuracy: 0.6154\n"
          ]
        },
        {
          "output_type": "execute_result",
          "data": {
            "text/plain": [
              "<keras.callbacks.History at 0x7f410e119510>"
            ]
          },
          "metadata": {},
          "execution_count": 31
        }
      ]
    },
    {
      "cell_type": "markdown",
      "source": [
        "**Evaluate model**"
      ],
      "metadata": {
        "id": "x8IdGi_okHn8"
      }
    },
    {
      "cell_type": "code",
      "source": [
        "# model evaluation\n",
        "job_type = \"Eval\"\n",
        "eval_wb_client = wandb.init(name=f\"baseline model eval\", project=wandb_project_name,group=f\"baseline model {time_stamp}\", job_type=job_type)\n",
        "\n",
        "model_eval(model, eval_wb_client, overall=True, per_class=True)"
      ],
      "metadata": {
        "colab": {
          "base_uri": "https://localhost:8080/",
          "height": 646,
          "referenced_widgets": [
            "98ff4a8082554cbbbad637d48ca7fc54",
            "50bf62b392dd4a7999967edf873d2e5d",
            "59ebbda8b88d435a9b740c430f7befab",
            "a8deab083996448680a0cb76f60206aa",
            "14d7b831bc6548128483d93923785fbb",
            "791877985ebf42eba9cc9fc1ee5c21b5",
            "c6875c1975564c8e800704b076d6d7a2",
            "8f986c402b83419199941475a1c15c29"
          ]
        },
        "id": "bMyeX1TwkG2R",
        "outputId": "56c00e55-296e-43de-c6d5-e06110f1d2b7"
      },
      "execution_count": 32,
      "outputs": [
        {
          "output_type": "display_data",
          "data": {
            "text/html": [
              "Finishing last run (ID:3189pkw0) before initializing another..."
            ],
            "text/plain": [
              "<IPython.core.display.HTML object>"
            ]
          },
          "metadata": {}
        },
        {
          "output_type": "display_data",
          "data": {
            "text/html": [
              "<br/>Waiting for W&B process to finish, PID 32440... <strong style=\"color:green\">(success).</strong>"
            ],
            "text/plain": [
              "<IPython.core.display.HTML object>"
            ]
          },
          "metadata": {}
        },
        {
          "output_type": "display_data",
          "data": {
            "application/vnd.jupyter.widget-view+json": {
              "model_id": "98ff4a8082554cbbbad637d48ca7fc54",
              "version_minor": 0,
              "version_major": 2
            },
            "text/plain": [
              "VBox(children=(Label(value=' 46.99MB of 46.99MB uploaded (0.00MB deduped)\\r'), FloatProgress(value=1.0, max=1.…"
            ]
          },
          "metadata": {}
        },
        {
          "output_type": "display_data",
          "data": {
            "text/html": [
              "<style>\n",
              "    table.wandb td:nth-child(1) { padding: 0 10px; text-align: right }\n",
              "    .wandb-row { display: flex; flex-direction: row; flex-wrap: wrap; width: 100% }\n",
              "    .wandb-col { display: flex; flex-direction: column; flex-basis: 100%; flex: 1; padding: 10px; }\n",
              "    </style>\n",
              "<div class=\"wandb-row\"><div class=\"wandb-col\">\n",
              "<h3>Run history:</h3><br/><table class=\"wandb\"><tr><td>accuracy</td><td>▁▁▂▂▂▃▄▅▅▅▅▅▆▅▆▆▆▆▆▇▇▇▇▇▇▇▇▇▇██▇▇█▇█████</td></tr><tr><td>epoch</td><td>▁▁▁▁▂▂▂▂▂▃▃▃▃▃▃▄▄▄▄▄▅▅▅▅▅▅▆▆▆▆▆▇▇▇▇▇▇███</td></tr><tr><td>loss</td><td>█▃▂▂▂▂▂▂▁▂▂▂▁▁▁▁▁▁▁▁▁▁▁▁▁▁▁▁▁▁▁▁▁▁▁▁▁▁▁▁</td></tr><tr><td>val_accuracy</td><td>▃▃▃▃▃▃▃▃▃▃▃▃▃▃▁▄▇▆▇▆██▇█▆▇▇▇█▇▇▇▇▇███▅▇▇</td></tr><tr><td>val_loss</td><td>█▁▁▁▁▁▁▁▁▁▁▁▁▁▁▁▁▁▁▁▁▁▁▁▁▁▁▁▁▁▁▁▁▁▁▁▁▁▁▁</td></tr></table><br/></div><div class=\"wandb-col\">\n",
              "<h3>Run summary:</h3><br/><table class=\"wandb\"><tr><td>accuracy</td><td>0.91632</td></tr><tr><td>best_epoch</td><td>88</td></tr><tr><td>best_val_loss</td><td>0.8122</td></tr><tr><td>epoch</td><td>98</td></tr><tr><td>loss</td><td>0.22915</td></tr><tr><td>val_accuracy</td><td>0.61538</td></tr><tr><td>val_loss</td><td>2.06435</td></tr></table>\n",
              "</div></div>\n",
              "Synced 5 W&B file(s), 1 media file(s), 0 artifact file(s) and 1 other file(s)\n",
              "<br/>Synced <strong style=\"color:#cdcd00\">baseline model train</strong>: <a href=\"https://wandb.ai/yotraz/wsc-classifier/runs/3189pkw0\" target=\"_blank\">https://wandb.ai/yotraz/wsc-classifier/runs/3189pkw0</a><br/>\n",
              "Find logs at: <code>./wandb/run-20220227_001800-3189pkw0/logs</code><br/>\n"
            ],
            "text/plain": [
              "<IPython.core.display.HTML object>"
            ]
          },
          "metadata": {}
        },
        {
          "output_type": "display_data",
          "data": {
            "text/html": [
              "Successfully finished last run (ID:3189pkw0). Initializing new run:<br/>"
            ],
            "text/plain": [
              "<IPython.core.display.HTML object>"
            ]
          },
          "metadata": {}
        },
        {
          "output_type": "display_data",
          "data": {
            "text/html": [
              "\n",
              "                    Syncing run <strong><a href=\"https://wandb.ai/yotraz/wsc-classifier/runs/3t18ob9s\" target=\"_blank\">baseline model eval</a></strong> to <a href=\"https://wandb.ai/yotraz/wsc-classifier\" target=\"_blank\">Weights & Biases</a> (<a href=\"https://docs.wandb.com/integrations/jupyter.html\" target=\"_blank\">docs</a>).<br/>\n",
              "\n",
              "                "
            ],
            "text/plain": [
              "<IPython.core.display.HTML object>"
            ]
          },
          "metadata": {}
        },
        {
          "output_type": "stream",
          "name": "stdout",
          "text": [
            "4/4 [==============================] - 1s 268ms/step - loss: 1.9659 - accuracy: 0.5333\n",
            "test loss, test acc: [1.9659210443496704, 0.5333333611488342]\n",
            "              precision    recall  f1-score   support\n",
            "\n",
            "           0       0.45      0.74      0.56        27\n",
            "           1       0.24      0.19      0.21        26\n",
            "           2       1.00      0.19      0.32        26\n",
            "           3       0.53      0.67      0.59        24\n",
            "           4       0.65      1.00      0.79        26\n",
            "           5       0.75      0.39      0.51        23\n",
            "\n",
            "    accuracy                           0.53       152\n",
            "   macro avg       0.60      0.53      0.50       152\n",
            "weighted avg       0.60      0.53      0.50       152\n",
            "\n"
          ]
        }
      ]
    },
    {
      "cell_type": "markdown",
      "source": [
        "# Improving the model method #1: class weights\n",
        "\n"
      ],
      "metadata": {
        "id": "rdH871nLzLF4"
      }
    },
    {
      "cell_type": "markdown",
      "source": [
        "**Train**\n",
        "\n",
        "class weight and more dropout "
      ],
      "metadata": {
        "id": "-kR5FbSY1R2X"
      }
    },
    {
      "cell_type": "code",
      "source": [
        "from wandb.keras import WandbCallback\n",
        "from sklearn.utils import class_weight\n",
        "\n",
        "# wandb train run\n",
        "time_stamp = datetime.datetime.now(tz=timezone(\"Israel\")).strftime(\"%d-%m-%Y-%H:%M:%S\")\n",
        "job_type = \"Train\"\n",
        "train_wb_client = wandb.init(name=f\"class weight train\", project=wandb_project_name, group=f\"class weight model {time_stamp}\", job_type=job_type)\n",
        "\n",
        "# training parameters\n",
        "lr = 0.010001 #@param {type:\"slider\", min:0.000001, max:0.2, step:0.0001}\n",
        "epochs = 99 # @param {type: \"slider\", min:10, max:1000}\n",
        "optimizer = keras.optimizers.Adam(learning_rate=lr)\n",
        "\n",
        "# wandb callback\n",
        "wandb_cb = WandbCallback()\n",
        "eraly_stopping_cb = EarlyStopping(monitor='loss', patience=15)\n",
        "\n",
        "model = build_efficientnet(len(class_list), dropout=0.2)\n",
        "model.compile(\n",
        "      optimizer=optimizer, loss=\"categorical_crossentropy\", metrics=[\"accuracy\"]\n",
        "      )\n",
        "model.summary()\n",
        "\n",
        "# loss penalties per class\n",
        "my_weights = {0:1., 1:1., 2:3.33, 3:1., 4:1., 5:1.} \n",
        "hist = model.fit(train_generator, validation_data=validation_generator, epochs=epochs, class_weight=my_weights, callbacks=[wandb_cb, eraly_stopping_cb])"
      ],
      "metadata": {
        "colab": {
          "base_uri": "https://localhost:8080/",
          "height": 1000,
          "referenced_widgets": [
            "9f89fd3140874a949427d03a8a6c55a0",
            "9888fadeb9944cd296b69bc39286d5cc",
            "dc2093bd19574bd6812e8b15106348b2",
            "55375e1a0f304233af7622e8af76614a",
            "11eb35bb96234d0b9825543131d8268b",
            "5fbced9d0da74f818d2921d6a9d00ab1",
            "bad27b9ab31149689d7e49aee0341409",
            "bfb09a7d8da84d2b9cd67a3f4d76aac2"
          ]
        },
        "id": "7oub9ZeY1UFe",
        "outputId": "c251b226-a248-4ef3-9a60-09558558293b"
      },
      "execution_count": 33,
      "outputs": [
        {
          "output_type": "display_data",
          "data": {
            "text/html": [
              "Finishing last run (ID:3t18ob9s) before initializing another..."
            ],
            "text/plain": [
              "<IPython.core.display.HTML object>"
            ]
          },
          "metadata": {}
        },
        {
          "output_type": "display_data",
          "data": {
            "text/html": [
              "<br/>Waiting for W&B process to finish, PID 33662... <strong style=\"color:green\">(success).</strong>"
            ],
            "text/plain": [
              "<IPython.core.display.HTML object>"
            ]
          },
          "metadata": {}
        },
        {
          "output_type": "display_data",
          "data": {
            "application/vnd.jupyter.widget-view+json": {
              "model_id": "9f89fd3140874a949427d03a8a6c55a0",
              "version_minor": 0,
              "version_major": 2
            },
            "text/plain": [
              "VBox(children=(Label(value=' 0.00MB of 0.00MB uploaded (0.00MB deduped)\\r'), FloatProgress(value=1.0, max=1.0)…"
            ]
          },
          "metadata": {}
        },
        {
          "output_type": "display_data",
          "data": {
            "text/html": [
              "<style>\n",
              "    table.wandb td:nth-child(1) { padding: 0 10px; text-align: right }\n",
              "    .wandb-row { display: flex; flex-direction: row; flex-wrap: wrap; width: 100% }\n",
              "    .wandb-col { display: flex; flex-direction: column; flex-basis: 100%; flex: 1; padding: 10px; }\n",
              "    </style>\n",
              "<div class=\"wandb-row\"><div class=\"wandb-col\">\n",
              "<h3>Run history:</h3><br/><table class=\"wandb\"><tr><td>test accuracy</td><td>▁</td></tr><tr><td>test loss</td><td>▁</td></tr></table><br/></div><div class=\"wandb-col\">\n",
              "<h3>Run summary:</h3><br/><table class=\"wandb\"><tr><td>test accuracy</td><td>0.53333</td></tr><tr><td>test loss</td><td>1.96592</td></tr></table>\n",
              "</div></div>\n",
              "Synced 5 W&B file(s), 0 media file(s), 0 artifact file(s) and 0 other file(s)\n",
              "<br/>Synced <strong style=\"color:#cdcd00\">baseline model eval</strong>: <a href=\"https://wandb.ai/yotraz/wsc-classifier/runs/3t18ob9s\" target=\"_blank\">https://wandb.ai/yotraz/wsc-classifier/runs/3t18ob9s</a><br/>\n",
              "Find logs at: <code>./wandb/run-20220227_003416-3t18ob9s/logs</code><br/>\n"
            ],
            "text/plain": [
              "<IPython.core.display.HTML object>"
            ]
          },
          "metadata": {}
        },
        {
          "output_type": "display_data",
          "data": {
            "text/html": [
              "Successfully finished last run (ID:3t18ob9s). Initializing new run:<br/>"
            ],
            "text/plain": [
              "<IPython.core.display.HTML object>"
            ]
          },
          "metadata": {}
        },
        {
          "output_type": "display_data",
          "data": {
            "text/html": [
              "\n",
              "                    Syncing run <strong><a href=\"https://wandb.ai/yotraz/wsc-classifier/runs/ht9zw4zg\" target=\"_blank\">class weight train</a></strong> to <a href=\"https://wandb.ai/yotraz/wsc-classifier\" target=\"_blank\">Weights & Biases</a> (<a href=\"https://docs.wandb.com/integrations/jupyter.html\" target=\"_blank\">docs</a>).<br/>\n",
              "\n",
              "                "
            ],
            "text/plain": [
              "<IPython.core.display.HTML object>"
            ]
          },
          "metadata": {}
        },
        {
          "output_type": "stream",
          "name": "stdout",
          "text": [
            "Model: \"model_1\"\n",
            "_________________________________________________________________\n",
            " Layer (type)                Output Shape              Param #   \n",
            "=================================================================\n",
            " input_3 (InputLayer)        [(None, 224, 224, 3)]     0         \n",
            "                                                                 \n",
            " efficientnetb0 (Functional)  (None, 6)                4057257   \n",
            "                                                                 \n",
            "=================================================================\n",
            "Total params: 4,057,257\n",
            "Trainable params: 4,015,234\n",
            "Non-trainable params: 42,023\n",
            "_________________________________________________________________\n",
            "Epoch 1/99\n",
            "15/15 [==============================] - 24s 851ms/step - loss: 10.4180 - accuracy: 0.2176 - val_loss: 17371.2793 - val_accuracy: 0.1923\n",
            "Epoch 2/99\n",
            "15/15 [==============================] - 10s 686ms/step - loss: 2.4538 - accuracy: 0.2636 - val_loss: 763.8813 - val_accuracy: 0.1923\n",
            "Epoch 3/99\n",
            "15/15 [==============================] - 10s 690ms/step - loss: 2.5342 - accuracy: 0.2678 - val_loss: 67.4028 - val_accuracy: 0.1923\n",
            "Epoch 4/99\n",
            "15/15 [==============================] - 10s 683ms/step - loss: 1.9916 - accuracy: 0.3515 - val_loss: 21.6230 - val_accuracy: 0.0385\n",
            "Epoch 5/99\n",
            "15/15 [==============================] - 9s 625ms/step - loss: 1.9612 - accuracy: 0.3598 - val_loss: 30.2599 - val_accuracy: 0.1923\n",
            "Epoch 6/99\n",
            "15/15 [==============================] - 9s 621ms/step - loss: 2.0796 - accuracy: 0.4017 - val_loss: 32.7762 - val_accuracy: 0.0385\n",
            "Epoch 7/99\n",
            "15/15 [==============================] - 10s 673ms/step - loss: 2.1897 - accuracy: 0.3556 - val_loss: 7.0378 - val_accuracy: 0.0385\n",
            "Epoch 8/99\n",
            "15/15 [==============================] - 9s 607ms/step - loss: 1.7772 - accuracy: 0.4184 - val_loss: 10.0586 - val_accuracy: 0.0385\n",
            "Epoch 9/99\n",
            "15/15 [==============================] - 9s 602ms/step - loss: 1.5506 - accuracy: 0.4393 - val_loss: 9.1849 - val_accuracy: 0.0385\n",
            "Epoch 10/99\n",
            "15/15 [==============================] - 10s 653ms/step - loss: 1.6464 - accuracy: 0.4268 - val_loss: 5.8980 - val_accuracy: 0.0385\n",
            "Epoch 11/99\n",
            "15/15 [==============================] - 9s 602ms/step - loss: 1.5366 - accuracy: 0.4351 - val_loss: 7.9415 - val_accuracy: 0.1923\n",
            "Epoch 12/99\n",
            "15/15 [==============================] - 10s 678ms/step - loss: 2.6076 - accuracy: 0.3724 - val_loss: 1.7895 - val_accuracy: 0.1923\n",
            "Epoch 13/99\n",
            "15/15 [==============================] - 9s 620ms/step - loss: 1.7438 - accuracy: 0.3556 - val_loss: 6.3032 - val_accuracy: 0.1923\n",
            "Epoch 14/99\n",
            "15/15 [==============================] - 9s 632ms/step - loss: 1.4127 - accuracy: 0.4770 - val_loss: 9.5553 - val_accuracy: 0.1923\n",
            "Epoch 15/99\n",
            "15/15 [==============================] - 10s 627ms/step - loss: 1.3933 - accuracy: 0.4728 - val_loss: 8.3386 - val_accuracy: 0.0385\n",
            "Epoch 16/99\n",
            "15/15 [==============================] - 10s 630ms/step - loss: 1.3279 - accuracy: 0.5146 - val_loss: 3.8847 - val_accuracy: 0.0385\n",
            "Epoch 17/99\n",
            "15/15 [==============================] - 9s 630ms/step - loss: 1.4135 - accuracy: 0.4812 - val_loss: 2.9356 - val_accuracy: 0.1923\n",
            "Epoch 18/99\n",
            "15/15 [==============================] - 9s 623ms/step - loss: 1.2901 - accuracy: 0.5649 - val_loss: 2.9758 - val_accuracy: 0.1923\n",
            "Epoch 19/99\n",
            "15/15 [==============================] - 9s 623ms/step - loss: 1.1157 - accuracy: 0.6192 - val_loss: 3.6171 - val_accuracy: 0.0385\n",
            "Epoch 20/99\n",
            "15/15 [==============================] - 9s 616ms/step - loss: 1.0975 - accuracy: 0.5983 - val_loss: 3.9038 - val_accuracy: 0.0385\n",
            "Epoch 21/99\n",
            "15/15 [==============================] - 9s 618ms/step - loss: 0.9951 - accuracy: 0.6234 - val_loss: 6.2929 - val_accuracy: 0.0385\n",
            "Epoch 22/99\n",
            "15/15 [==============================] - 9s 612ms/step - loss: 0.9644 - accuracy: 0.6276 - val_loss: 4.0123 - val_accuracy: 0.0385\n",
            "Epoch 23/99\n",
            "15/15 [==============================] - 9s 631ms/step - loss: 0.8724 - accuracy: 0.6569 - val_loss: 4.7895 - val_accuracy: 0.0385\n",
            "Epoch 24/99\n",
            "15/15 [==============================] - 10s 631ms/step - loss: 0.9162 - accuracy: 0.6904 - val_loss: 4.8293 - val_accuracy: 0.1923\n",
            "Epoch 25/99\n",
            "15/15 [==============================] - 10s 642ms/step - loss: 1.1650 - accuracy: 0.6318 - val_loss: 3.4408 - val_accuracy: 0.1923\n",
            "Epoch 26/99\n",
            "15/15 [==============================] - 10s 631ms/step - loss: 1.1712 - accuracy: 0.5732 - val_loss: 2.4684 - val_accuracy: 0.1923\n",
            "Epoch 27/99\n",
            "15/15 [==============================] - 10s 635ms/step - loss: 1.0435 - accuracy: 0.6109 - val_loss: 4.9781 - val_accuracy: 0.0385\n",
            "Epoch 28/99\n",
            "15/15 [==============================] - 9s 624ms/step - loss: 0.9655 - accuracy: 0.6444 - val_loss: 5.6660 - val_accuracy: 0.0385\n",
            "Epoch 29/99\n",
            "15/15 [==============================] - 9s 612ms/step - loss: 0.8825 - accuracy: 0.6653 - val_loss: 6.5167 - val_accuracy: 0.1923\n",
            "Epoch 30/99\n",
            "15/15 [==============================] - 9s 595ms/step - loss: 1.1052 - accuracy: 0.5858 - val_loss: 2.2828 - val_accuracy: 0.0769\n",
            "Epoch 31/99\n",
            "15/15 [==============================] - 9s 599ms/step - loss: 0.9858 - accuracy: 0.6569 - val_loss: 3.0465 - val_accuracy: 0.0769\n",
            "Epoch 32/99\n",
            "15/15 [==============================] - 9s 597ms/step - loss: 1.1034 - accuracy: 0.5983 - val_loss: 4.9851 - val_accuracy: 0.0385\n",
            "Epoch 33/99\n",
            "15/15 [==============================] - 9s 597ms/step - loss: 0.9587 - accuracy: 0.6904 - val_loss: 9.7959 - val_accuracy: 0.0385\n",
            "Epoch 34/99\n",
            "15/15 [==============================] - 9s 597ms/step - loss: 1.0382 - accuracy: 0.5858 - val_loss: 3.0255 - val_accuracy: 0.2308\n",
            "Epoch 35/99\n",
            "15/15 [==============================] - 9s 598ms/step - loss: 0.8230 - accuracy: 0.6695 - val_loss: 6.9839 - val_accuracy: 0.0385\n",
            "Epoch 36/99\n",
            "15/15 [==============================] - 9s 585ms/step - loss: 0.7307 - accuracy: 0.7238 - val_loss: 5.6230 - val_accuracy: 0.0385\n",
            "Epoch 37/99\n",
            "15/15 [==============================] - 9s 584ms/step - loss: 0.9132 - accuracy: 0.6778 - val_loss: 4.1901 - val_accuracy: 0.1923\n",
            "Epoch 38/99\n",
            "15/15 [==============================] - 9s 592ms/step - loss: 0.6802 - accuracy: 0.7908 - val_loss: 1.9596 - val_accuracy: 0.3462\n",
            "Epoch 39/99\n",
            "15/15 [==============================] - 9s 584ms/step - loss: 0.7276 - accuracy: 0.7406 - val_loss: 5.1558 - val_accuracy: 0.1154\n",
            "Epoch 40/99\n",
            "15/15 [==============================] - 9s 595ms/step - loss: 0.6835 - accuracy: 0.7782 - val_loss: 1.8775 - val_accuracy: 0.4615\n",
            "Epoch 41/99\n",
            "15/15 [==============================] - 10s 653ms/step - loss: 0.7295 - accuracy: 0.7657 - val_loss: 1.3999 - val_accuracy: 0.6154\n",
            "Epoch 42/99\n",
            "15/15 [==============================] - 9s 602ms/step - loss: 0.7834 - accuracy: 0.7238 - val_loss: 2.8675 - val_accuracy: 0.3846\n",
            "Epoch 43/99\n",
            "15/15 [==============================] - 10s 664ms/step - loss: 0.7140 - accuracy: 0.7699 - val_loss: 0.6786 - val_accuracy: 0.6923\n",
            "Epoch 44/99\n",
            "15/15 [==============================] - 11s 746ms/step - loss: 0.6679 - accuracy: 0.7824 - val_loss: 0.8417 - val_accuracy: 0.7308\n",
            "Epoch 45/99\n",
            "15/15 [==============================] - 9s 598ms/step - loss: 0.6129 - accuracy: 0.8243 - val_loss: 1.6638 - val_accuracy: 0.4231\n",
            "Epoch 46/99\n",
            "15/15 [==============================] - 9s 593ms/step - loss: 0.6166 - accuracy: 0.7657 - val_loss: 1.8823 - val_accuracy: 0.5769\n",
            "Epoch 47/99\n",
            "15/15 [==============================] - 9s 605ms/step - loss: 0.5431 - accuracy: 0.8243 - val_loss: 2.0930 - val_accuracy: 0.5385\n",
            "Epoch 48/99\n",
            "15/15 [==============================] - 9s 612ms/step - loss: 0.6787 - accuracy: 0.7364 - val_loss: 0.7484 - val_accuracy: 0.7308\n",
            "Epoch 49/99\n",
            "15/15 [==============================] - 9s 596ms/step - loss: 0.7253 - accuracy: 0.7699 - val_loss: 0.9243 - val_accuracy: 0.7308\n",
            "Epoch 50/99\n",
            "15/15 [==============================] - 9s 603ms/step - loss: 0.5421 - accuracy: 0.7992 - val_loss: 2.7888 - val_accuracy: 0.5385\n",
            "Epoch 51/99\n",
            "15/15 [==============================] - 9s 600ms/step - loss: 0.6002 - accuracy: 0.7866 - val_loss: 1.3977 - val_accuracy: 0.7308\n",
            "Epoch 52/99\n",
            "15/15 [==============================] - 9s 601ms/step - loss: 0.5414 - accuracy: 0.8326 - val_loss: 1.2677 - val_accuracy: 0.7692\n",
            "Epoch 53/99\n",
            "15/15 [==============================] - 9s 606ms/step - loss: 0.5688 - accuracy: 0.8075 - val_loss: 1.8775 - val_accuracy: 0.5000\n",
            "Epoch 54/99\n",
            "15/15 [==============================] - 10s 654ms/step - loss: 0.5169 - accuracy: 0.8117 - val_loss: 1.7678 - val_accuracy: 0.5769\n",
            "Epoch 55/99\n",
            "15/15 [==============================] - 9s 604ms/step - loss: 0.5818 - accuracy: 0.7950 - val_loss: 1.5523 - val_accuracy: 0.5769\n",
            "Epoch 56/99\n",
            "15/15 [==============================] - 9s 621ms/step - loss: 0.6260 - accuracy: 0.7782 - val_loss: 1.1722 - val_accuracy: 0.5769\n",
            "Epoch 57/99\n",
            "15/15 [==============================] - 10s 648ms/step - loss: 0.5290 - accuracy: 0.8159 - val_loss: 1.5292 - val_accuracy: 0.6154\n",
            "Epoch 58/99\n",
            "15/15 [==============================] - 9s 603ms/step - loss: 0.6747 - accuracy: 0.7866 - val_loss: 1.9219 - val_accuracy: 0.5385\n",
            "Epoch 59/99\n",
            "15/15 [==============================] - 9s 615ms/step - loss: 0.6345 - accuracy: 0.7657 - val_loss: 1.7172 - val_accuracy: 0.5000\n",
            "Epoch 60/99\n",
            "15/15 [==============================] - 9s 611ms/step - loss: 0.3936 - accuracy: 0.8619 - val_loss: 0.8005 - val_accuracy: 0.7308\n",
            "Epoch 61/99\n",
            "15/15 [==============================] - 9s 585ms/step - loss: 0.3374 - accuracy: 0.8828 - val_loss: 2.2207 - val_accuracy: 0.5000\n",
            "Epoch 62/99\n",
            "15/15 [==============================] - 9s 591ms/step - loss: 0.4839 - accuracy: 0.8410 - val_loss: 0.9222 - val_accuracy: 0.6923\n",
            "Epoch 63/99\n",
            "15/15 [==============================] - 9s 591ms/step - loss: 0.4921 - accuracy: 0.8494 - val_loss: 1.2377 - val_accuracy: 0.6923\n",
            "Epoch 64/99\n",
            "15/15 [==============================] - 9s 594ms/step - loss: 0.5348 - accuracy: 0.8075 - val_loss: 4.2080 - val_accuracy: 0.5000\n",
            "Epoch 65/99\n",
            "15/15 [==============================] - 9s 592ms/step - loss: 0.5192 - accuracy: 0.8159 - val_loss: 2.8060 - val_accuracy: 0.5000\n",
            "Epoch 66/99\n",
            "15/15 [==============================] - 9s 593ms/step - loss: 0.5619 - accuracy: 0.8326 - val_loss: 3.2664 - val_accuracy: 0.4231\n",
            "Epoch 67/99\n",
            "15/15 [==============================] - 9s 591ms/step - loss: 0.3279 - accuracy: 0.8787 - val_loss: 1.3164 - val_accuracy: 0.6538\n",
            "Epoch 68/99\n",
            "15/15 [==============================] - 9s 592ms/step - loss: 0.4887 - accuracy: 0.8619 - val_loss: 2.5486 - val_accuracy: 0.5385\n",
            "Epoch 69/99\n",
            "15/15 [==============================] - 12s 836ms/step - loss: 0.4631 - accuracy: 0.8577 - val_loss: 1.5049 - val_accuracy: 0.6538\n",
            "Epoch 70/99\n",
            "15/15 [==============================] - 9s 587ms/step - loss: 0.3613 - accuracy: 0.8703 - val_loss: 1.1634 - val_accuracy: 0.7692\n",
            "Epoch 71/99\n",
            "15/15 [==============================] - 9s 597ms/step - loss: 0.4015 - accuracy: 0.8452 - val_loss: 1.0354 - val_accuracy: 0.6923\n",
            "Epoch 72/99\n",
            "15/15 [==============================] - 9s 598ms/step - loss: 0.3445 - accuracy: 0.8870 - val_loss: 1.2217 - val_accuracy: 0.7308\n",
            "Epoch 73/99\n",
            "15/15 [==============================] - 9s 598ms/step - loss: 0.4763 - accuracy: 0.8410 - val_loss: 3.3690 - val_accuracy: 0.6154\n",
            "Epoch 74/99\n",
            "15/15 [==============================] - 9s 603ms/step - loss: 0.4353 - accuracy: 0.8619 - val_loss: 3.2254 - val_accuracy: 0.5769\n",
            "Epoch 75/99\n",
            "15/15 [==============================] - 9s 589ms/step - loss: 0.3783 - accuracy: 0.8703 - val_loss: 0.8453 - val_accuracy: 0.7308\n",
            "Epoch 76/99\n",
            "15/15 [==============================] - 9s 604ms/step - loss: 0.3229 - accuracy: 0.8870 - val_loss: 1.1134 - val_accuracy: 0.6923\n",
            "Epoch 77/99\n",
            "15/15 [==============================] - 9s 616ms/step - loss: 0.2929 - accuracy: 0.8912 - val_loss: 2.2788 - val_accuracy: 0.6154\n",
            "Epoch 78/99\n",
            "15/15 [==============================] - 9s 615ms/step - loss: 0.4415 - accuracy: 0.8787 - val_loss: 10.3981 - val_accuracy: 0.4231\n",
            "Epoch 79/99\n",
            "15/15 [==============================] - 9s 615ms/step - loss: 0.5513 - accuracy: 0.8494 - val_loss: 1.4927 - val_accuracy: 0.5769\n",
            "Epoch 80/99\n",
            "15/15 [==============================] - 9s 618ms/step - loss: 0.5235 - accuracy: 0.8452 - val_loss: 2.1122 - val_accuracy: 0.5769\n",
            "Epoch 81/99\n",
            "15/15 [==============================] - 9s 617ms/step - loss: 0.4338 - accuracy: 0.8368 - val_loss: 1.2265 - val_accuracy: 0.6538\n",
            "Epoch 82/99\n",
            "15/15 [==============================] - 9s 612ms/step - loss: 0.3741 - accuracy: 0.8703 - val_loss: 3.4921 - val_accuracy: 0.5769\n",
            "Epoch 83/99\n",
            "15/15 [==============================] - 9s 620ms/step - loss: 0.3525 - accuracy: 0.8828 - val_loss: 2.0086 - val_accuracy: 0.6538\n",
            "Epoch 84/99\n",
            "15/15 [==============================] - 9s 611ms/step - loss: 0.3289 - accuracy: 0.8912 - val_loss: 2.2068 - val_accuracy: 0.5385\n",
            "Epoch 85/99\n",
            "15/15 [==============================] - 9s 623ms/step - loss: 0.5356 - accuracy: 0.8494 - val_loss: 6.1026 - val_accuracy: 0.1923\n",
            "Epoch 86/99\n",
            "15/15 [==============================] - 9s 622ms/step - loss: 0.4330 - accuracy: 0.8745 - val_loss: 2.7941 - val_accuracy: 0.5000\n",
            "Epoch 87/99\n",
            "15/15 [==============================] - 9s 608ms/step - loss: 0.4245 - accuracy: 0.8661 - val_loss: 3.6286 - val_accuracy: 0.3846\n",
            "Epoch 88/99\n",
            "15/15 [==============================] - 9s 603ms/step - loss: 0.3946 - accuracy: 0.8619 - val_loss: 2.8966 - val_accuracy: 0.4615\n",
            "Epoch 89/99\n",
            "15/15 [==============================] - 9s 606ms/step - loss: 0.6171 - accuracy: 0.7908 - val_loss: 3.5750 - val_accuracy: 0.3846\n",
            "Epoch 90/99\n",
            "15/15 [==============================] - 9s 602ms/step - loss: 0.4173 - accuracy: 0.8870 - val_loss: 1.8978 - val_accuracy: 0.5769\n",
            "Epoch 91/99\n",
            "15/15 [==============================] - 9s 619ms/step - loss: 0.3203 - accuracy: 0.8912 - val_loss: 1.3068 - val_accuracy: 0.5769\n",
            "Epoch 92/99\n",
            "15/15 [==============================] - 9s 616ms/step - loss: 0.2712 - accuracy: 0.9205 - val_loss: 2.9552 - val_accuracy: 0.5769\n",
            "Epoch 93/99\n",
            "15/15 [==============================] - 9s 628ms/step - loss: 0.4482 - accuracy: 0.8536 - val_loss: 1.5623 - val_accuracy: 0.6154\n",
            "Epoch 94/99\n",
            "15/15 [==============================] - 10s 663ms/step - loss: 0.3686 - accuracy: 0.8619 - val_loss: 1.8116 - val_accuracy: 0.6923\n",
            "Epoch 95/99\n",
            "15/15 [==============================] - 10s 639ms/step - loss: 0.2258 - accuracy: 0.9163 - val_loss: 1.0653 - val_accuracy: 0.7308\n",
            "Epoch 96/99\n",
            "15/15 [==============================] - 10s 645ms/step - loss: 0.2079 - accuracy: 0.9247 - val_loss: 2.0943 - val_accuracy: 0.7692\n",
            "Epoch 97/99\n",
            "15/15 [==============================] - 10s 639ms/step - loss: 0.2576 - accuracy: 0.9205 - val_loss: 1.8363 - val_accuracy: 0.6538\n",
            "Epoch 98/99\n",
            "15/15 [==============================] - 9s 612ms/step - loss: 0.4068 - accuracy: 0.8787 - val_loss: 2.1817 - val_accuracy: 0.5385\n",
            "Epoch 99/99\n",
            "15/15 [==============================] - 9s 613ms/step - loss: 0.2789 - accuracy: 0.9038 - val_loss: 2.1676 - val_accuracy: 0.7308\n"
          ]
        }
      ]
    },
    {
      "cell_type": "markdown",
      "source": [
        "**Evaluate**"
      ],
      "metadata": {
        "id": "HwxcHeoX7243"
      }
    },
    {
      "cell_type": "code",
      "source": [
        "# model evaluation\n",
        "job_type = \"Eval\"\n",
        "eval_wb_client = wandb.init(name=f\"class weight model eval\", project=wandb_project_name,group=f\"class weight model {time_stamp}\", job_type=job_type)\n",
        "\n",
        "model_eval(model, eval_wb_client, overall=True, per_class=True)"
      ],
      "metadata": {
        "colab": {
          "base_uri": "https://localhost:8080/",
          "height": 646,
          "referenced_widgets": [
            "6e4bc66b01694b53bf06f81bfc0758c1",
            "d87ec85623e04e56925e98ef4047dbe3",
            "6aed319ee6784571a8dc751308c6c7a4",
            "d58696bcaa8e45d796a5bf750a7ee9a2",
            "ad5549d2046b44c294addfdd15db4a42",
            "ec4da4e3b6fe4ea7acb231af289d9bbf",
            "92c97c29320247fc8eb1e21be97130aa",
            "d3365e111c1d477683aaf7baaec6240c"
          ]
        },
        "id": "ijQojL_k6E_X",
        "outputId": "96421f1d-b8b2-4374-cbba-d3b68fcdd870"
      },
      "execution_count": 34,
      "outputs": [
        {
          "output_type": "display_data",
          "data": {
            "text/html": [
              "Finishing last run (ID:ht9zw4zg) before initializing another..."
            ],
            "text/plain": [
              "<IPython.core.display.HTML object>"
            ]
          },
          "metadata": {}
        },
        {
          "output_type": "display_data",
          "data": {
            "text/html": [
              "<br/>Waiting for W&B process to finish, PID 33762... <strong style=\"color:green\">(success).</strong>"
            ],
            "text/plain": [
              "<IPython.core.display.HTML object>"
            ]
          },
          "metadata": {}
        },
        {
          "output_type": "display_data",
          "data": {
            "application/vnd.jupyter.widget-view+json": {
              "model_id": "6e4bc66b01694b53bf06f81bfc0758c1",
              "version_minor": 0,
              "version_major": 2
            },
            "text/plain": [
              "VBox(children=(Label(value=' 46.99MB of 46.99MB uploaded (0.00MB deduped)\\r'), FloatProgress(value=1.0, max=1.…"
            ]
          },
          "metadata": {}
        },
        {
          "output_type": "display_data",
          "data": {
            "text/html": [
              "<style>\n",
              "    table.wandb td:nth-child(1) { padding: 0 10px; text-align: right }\n",
              "    .wandb-row { display: flex; flex-direction: row; flex-wrap: wrap; width: 100% }\n",
              "    .wandb-col { display: flex; flex-direction: column; flex-basis: 100%; flex: 1; padding: 10px; }\n",
              "    </style>\n",
              "<div class=\"wandb-row\"><div class=\"wandb-col\">\n",
              "<h3>Run history:</h3><br/><table class=\"wandb\"><tr><td>accuracy</td><td>▁▁▃▃▃▂▄▄▅▅▅▅▅▆▆▇▆▆▆▆▇▇▇▇█▇▇▇▇▇██▇██▇█▇██</td></tr><tr><td>epoch</td><td>▁▁▁▁▂▂▂▂▂▃▃▃▃▃▃▄▄▄▄▄▅▅▅▅▅▅▆▆▆▆▆▇▇▇▇▇▇███</td></tr><tr><td>loss</td><td>█▃▂▂▂▂▂▂▂▁▂▂▂▂▁▁▁▁▁▁▁▁▁▁▁▁▁▁▁▁▁▁▁▁▁▁▁▁▁▁</td></tr><tr><td>val_accuracy</td><td>▂▂▁▁▂▂▁▂▁▁▂▁▁▁▁▄▇▇▆██▅▆▆▅▇▅▆▇▇▇▅▇▇▅▅▆▇██</td></tr><tr><td>val_loss</td><td>█▁▁▁▁▁▁▁▁▁▁▁▁▁▁▁▁▁▁▁▁▁▁▁▁▁▁▁▁▁▁▁▁▁▁▁▁▁▁▁</td></tr></table><br/></div><div class=\"wandb-col\">\n",
              "<h3>Run summary:</h3><br/><table class=\"wandb\"><tr><td>accuracy</td><td>0.90377</td></tr><tr><td>best_epoch</td><td>42</td></tr><tr><td>best_val_loss</td><td>0.6786</td></tr><tr><td>epoch</td><td>98</td></tr><tr><td>loss</td><td>0.27889</td></tr><tr><td>val_accuracy</td><td>0.73077</td></tr><tr><td>val_loss</td><td>2.16762</td></tr></table>\n",
              "</div></div>\n",
              "Synced 5 W&B file(s), 1 media file(s), 0 artifact file(s) and 1 other file(s)\n",
              "<br/>Synced <strong style=\"color:#cdcd00\">class weight train</strong>: <a href=\"https://wandb.ai/yotraz/wsc-classifier/runs/ht9zw4zg\" target=\"_blank\">https://wandb.ai/yotraz/wsc-classifier/runs/ht9zw4zg</a><br/>\n",
              "Find logs at: <code>./wandb/run-20220227_003453-ht9zw4zg/logs</code><br/>\n"
            ],
            "text/plain": [
              "<IPython.core.display.HTML object>"
            ]
          },
          "metadata": {}
        },
        {
          "output_type": "display_data",
          "data": {
            "text/html": [
              "Successfully finished last run (ID:ht9zw4zg). Initializing new run:<br/>"
            ],
            "text/plain": [
              "<IPython.core.display.HTML object>"
            ]
          },
          "metadata": {}
        },
        {
          "output_type": "display_data",
          "data": {
            "text/html": [
              "\n",
              "                    Syncing run <strong><a href=\"https://wandb.ai/yotraz/wsc-classifier/runs/3ou2ov8f\" target=\"_blank\">class weight model eval</a></strong> to <a href=\"https://wandb.ai/yotraz/wsc-classifier\" target=\"_blank\">Weights & Biases</a> (<a href=\"https://docs.wandb.com/integrations/jupyter.html\" target=\"_blank\">docs</a>).<br/>\n",
              "\n",
              "                "
            ],
            "text/plain": [
              "<IPython.core.display.HTML object>"
            ]
          },
          "metadata": {}
        },
        {
          "output_type": "stream",
          "name": "stdout",
          "text": [
            "4/4 [==============================] - 1s 226ms/step - loss: 1.7701 - accuracy: 0.6167\n",
            "test loss, test acc: [1.7700620889663696, 0.6166666746139526]\n",
            "              precision    recall  f1-score   support\n",
            "\n",
            "           0       0.59      0.74      0.65        23\n",
            "           1       0.38      0.62      0.48        24\n",
            "           2       1.00      0.19      0.32        26\n",
            "           3       0.73      0.44      0.55        25\n",
            "           4       0.90      0.76      0.83        25\n",
            "           5       0.56      0.88      0.69        25\n",
            "\n",
            "    accuracy                           0.60       148\n",
            "   macro avg       0.70      0.61      0.59       148\n",
            "weighted avg       0.70      0.60      0.58       148\n",
            "\n"
          ]
        }
      ]
    },
    {
      "cell_type": "markdown",
      "source": [
        "# Improving the model method #2: oversampling"
      ],
      "metadata": {
        "id": "IelAZoP8kdik"
      }
    },
    {
      "cell_type": "markdown",
      "source": [
        "**scale up dataset with random sampling**\n"
      ],
      "metadata": {
        "id": "8a5t3ApivRsR"
      }
    },
    {
      "cell_type": "code",
      "source": [
        "# set factor of scaling the dataset:\n",
        "# number of images per class = (original number of images * scaling factor) * balance factor\n",
        "scaling_factor = 6"
      ],
      "metadata": {
        "id": "Mysh5DovqI0a"
      },
      "execution_count": 40,
      "outputs": []
    },
    {
      "cell_type": "code",
      "source": [
        "# randomly select images from under-represented class directory re-save them as new image\n",
        "\n",
        "class_names = train_df[\"class_name\"].unique()\n",
        "# compute how many images are currently available per class\n",
        "count_per_class = train_df[\"class_name\"].value_counts()\n",
        "# compute the target number of images \n",
        "target_count_per_class = round((train_df[\"class_name\"].count() * scaling_factor) / train_df[\"class_name\"].unique().size)\n",
        "# compute how many additional images should be created\n",
        "target_add_per_class = target_count_per_class - count_per_class\n",
        "\n",
        "# iterate over random images and save a copy of them back to disk\n",
        "for class_name in class_names:\n",
        "  for i in range(target_add_per_class[class_name]):\n",
        "    random_row = train_df[train_df[\"class_name\"] == class_name].sample(1)\n",
        "    random_image_path = random_row[\"image_path\"].values[0]\n",
        "    shutil.copyfile(random_image_path, random_image_path.replace(\".jpg\", \"\".join(random.choices(string.ascii_uppercase + string.digits, k=scaling_factor)))+\".jpg\")\n",
        "\n"
      ],
      "metadata": {
        "id": "Im7gMEDKkm2P"
      },
      "execution_count": 41,
      "outputs": []
    },
    {
      "cell_type": "markdown",
      "source": [
        "**check new class balance**"
      ],
      "metadata": {
        "id": "uivsQn9dvWR0"
      }
    },
    {
      "cell_type": "code",
      "source": [
        "\n",
        "df = dir_to_df()\n",
        "df.head(100)\n",
        "# save as csv\n",
        "df.to_csv(os.path.join(dataset_dir, \"dataset_oversampled_metadata.csv\"))\n",
        "# allocate train df\n",
        "train_df = df[df[\"group\"] == \"train\"]"
      ],
      "metadata": {
        "id": "NmNNnsoOvOg3"
      },
      "execution_count": 42,
      "outputs": []
    },
    {
      "cell_type": "code",
      "source": [
        "train_df"
      ],
      "metadata": {
        "colab": {
          "base_uri": "https://localhost:8080/",
          "height": 424
        },
        "id": "m9kFNuNKw5ge",
        "outputId": "74b0f050-86a1-40b6-b98d-bc389993231c"
      },
      "execution_count": 43,
      "outputs": [
        {
          "output_type": "execute_result",
          "data": {
            "text/html": [
              "\n",
              "  <div id=\"df-291582a2-9b07-4456-83c0-e72bf79f5699\">\n",
              "    <div class=\"colab-df-container\">\n",
              "      <div>\n",
              "<style scoped>\n",
              "    .dataframe tbody tr th:only-of-type {\n",
              "        vertical-align: middle;\n",
              "    }\n",
              "\n",
              "    .dataframe tbody tr th {\n",
              "        vertical-align: top;\n",
              "    }\n",
              "\n",
              "    .dataframe thead th {\n",
              "        text-align: right;\n",
              "    }\n",
              "</style>\n",
              "<table border=\"1\" class=\"dataframe\">\n",
              "  <thead>\n",
              "    <tr style=\"text-align: right;\">\n",
              "      <th></th>\n",
              "      <th>image_path</th>\n",
              "      <th>class_name</th>\n",
              "      <th>group</th>\n",
              "      <th>image_width</th>\n",
              "      <th>image_height</th>\n",
              "      <th>resolution</th>\n",
              "      <th>R_min_max</th>\n",
              "      <th>R_std</th>\n",
              "      <th>G_min_max</th>\n",
              "      <th>G_std</th>\n",
              "      <th>B_min_max</th>\n",
              "      <th>B_std</th>\n",
              "    </tr>\n",
              "  </thead>\n",
              "  <tbody>\n",
              "    <tr>\n",
              "      <th>60</th>\n",
              "      <td>/content/wsc_dataset/train/Crowd/20181121-1438...</td>\n",
              "      <td>crowd</td>\n",
              "      <td>train</td>\n",
              "      <td>1280</td>\n",
              "      <td>720</td>\n",
              "      <td>0.9216</td>\n",
              "      <td>(0, 255)</td>\n",
              "      <td>56.690071</td>\n",
              "      <td>(0, 255)</td>\n",
              "      <td>46.115820</td>\n",
              "      <td>(0, 255)</td>\n",
              "      <td>47.641868</td>\n",
              "    </tr>\n",
              "    <tr>\n",
              "      <th>61</th>\n",
              "      <td>/content/wsc_dataset/train/Crowd/6ce83bbc-453c...</td>\n",
              "      <td>crowd</td>\n",
              "      <td>train</td>\n",
              "      <td>1280</td>\n",
              "      <td>720</td>\n",
              "      <td>0.9216</td>\n",
              "      <td>(0, 255)</td>\n",
              "      <td>65.919089</td>\n",
              "      <td>(0, 255)</td>\n",
              "      <td>63.081718</td>\n",
              "      <td>(0, 255)</td>\n",
              "      <td>53.206554</td>\n",
              "    </tr>\n",
              "    <tr>\n",
              "      <th>62</th>\n",
              "      <td>/content/wsc_dataset/train/Crowd/15fdddc0-ddd8...</td>\n",
              "      <td>crowd</td>\n",
              "      <td>train</td>\n",
              "      <td>1280</td>\n",
              "      <td>720</td>\n",
              "      <td>0.9216</td>\n",
              "      <td>(0, 255)</td>\n",
              "      <td>42.459222</td>\n",
              "      <td>(0, 255)</td>\n",
              "      <td>38.974326</td>\n",
              "      <td>(0, 255)</td>\n",
              "      <td>50.096495</td>\n",
              "    </tr>\n",
              "    <tr>\n",
              "      <th>63</th>\n",
              "      <td>/content/wsc_dataset/train/Crowd/20181125-1451...</td>\n",
              "      <td>crowd</td>\n",
              "      <td>train</td>\n",
              "      <td>1280</td>\n",
              "      <td>720</td>\n",
              "      <td>0.9216</td>\n",
              "      <td>(0, 254)</td>\n",
              "      <td>54.287997</td>\n",
              "      <td>(0, 253)</td>\n",
              "      <td>56.024989</td>\n",
              "      <td>(0, 255)</td>\n",
              "      <td>65.204141</td>\n",
              "    </tr>\n",
              "    <tr>\n",
              "      <th>64</th>\n",
              "      <td>/content/wsc_dataset/train/Crowd/20181125-1451...</td>\n",
              "      <td>crowd</td>\n",
              "      <td>train</td>\n",
              "      <td>1280</td>\n",
              "      <td>720</td>\n",
              "      <td>0.9216</td>\n",
              "      <td>(0, 254)</td>\n",
              "      <td>54.287997</td>\n",
              "      <td>(0, 253)</td>\n",
              "      <td>56.024989</td>\n",
              "      <td>(0, 255)</td>\n",
              "      <td>65.204141</td>\n",
              "    </tr>\n",
              "    <tr>\n",
              "      <th>...</th>\n",
              "      <td>...</td>\n",
              "      <td>...</td>\n",
              "      <td>...</td>\n",
              "      <td>...</td>\n",
              "      <td>...</td>\n",
              "      <td>...</td>\n",
              "      <td>...</td>\n",
              "      <td>...</td>\n",
              "      <td>...</td>\n",
              "      <td>...</td>\n",
              "      <td>...</td>\n",
              "      <td>...</td>\n",
              "    </tr>\n",
              "    <tr>\n",
              "      <th>1645</th>\n",
              "      <td>/content/wsc_dataset/train/Other/20181121-1416...</td>\n",
              "      <td>other</td>\n",
              "      <td>train</td>\n",
              "      <td>1280</td>\n",
              "      <td>720</td>\n",
              "      <td>0.9216</td>\n",
              "      <td>(0, 255)</td>\n",
              "      <td>52.943896</td>\n",
              "      <td>(0, 255)</td>\n",
              "      <td>55.039774</td>\n",
              "      <td>(0, 255)</td>\n",
              "      <td>45.961210</td>\n",
              "    </tr>\n",
              "    <tr>\n",
              "      <th>1646</th>\n",
              "      <td>/content/wsc_dataset/train/Other/20181121-1416...</td>\n",
              "      <td>other</td>\n",
              "      <td>train</td>\n",
              "      <td>1280</td>\n",
              "      <td>720</td>\n",
              "      <td>0.9216</td>\n",
              "      <td>(0, 255)</td>\n",
              "      <td>74.408396</td>\n",
              "      <td>(0, 255)</td>\n",
              "      <td>66.468762</td>\n",
              "      <td>(0, 255)</td>\n",
              "      <td>64.694456</td>\n",
              "    </tr>\n",
              "    <tr>\n",
              "      <th>1647</th>\n",
              "      <td>/content/wsc_dataset/train/Other/20181121-1431...</td>\n",
              "      <td>other</td>\n",
              "      <td>train</td>\n",
              "      <td>1280</td>\n",
              "      <td>720</td>\n",
              "      <td>0.9216</td>\n",
              "      <td>(0, 255)</td>\n",
              "      <td>64.108363</td>\n",
              "      <td>(177, 255)</td>\n",
              "      <td>5.537134</td>\n",
              "      <td>(67, 255)</td>\n",
              "      <td>25.717141</td>\n",
              "    </tr>\n",
              "    <tr>\n",
              "      <th>1648</th>\n",
              "      <td>/content/wsc_dataset/train/Other/20181125-1458...</td>\n",
              "      <td>other</td>\n",
              "      <td>train</td>\n",
              "      <td>1280</td>\n",
              "      <td>720</td>\n",
              "      <td>0.9216</td>\n",
              "      <td>(0, 255)</td>\n",
              "      <td>59.462757</td>\n",
              "      <td>(0, 255)</td>\n",
              "      <td>66.909081</td>\n",
              "      <td>(0, 255)</td>\n",
              "      <td>59.134681</td>\n",
              "    </tr>\n",
              "    <tr>\n",
              "      <th>1649</th>\n",
              "      <td>/content/wsc_dataset/train/Other/20181125-1529...</td>\n",
              "      <td>other</td>\n",
              "      <td>train</td>\n",
              "      <td>1280</td>\n",
              "      <td>720</td>\n",
              "      <td>0.9216</td>\n",
              "      <td>(0, 255)</td>\n",
              "      <td>58.330338</td>\n",
              "      <td>(0, 255)</td>\n",
              "      <td>60.249894</td>\n",
              "      <td>(0, 255)</td>\n",
              "      <td>67.435161</td>\n",
              "    </tr>\n",
              "  </tbody>\n",
              "</table>\n",
              "<p>1590 rows × 12 columns</p>\n",
              "</div>\n",
              "      <button class=\"colab-df-convert\" onclick=\"convertToInteractive('df-291582a2-9b07-4456-83c0-e72bf79f5699')\"\n",
              "              title=\"Convert this dataframe to an interactive table.\"\n",
              "              style=\"display:none;\">\n",
              "        \n",
              "  <svg xmlns=\"http://www.w3.org/2000/svg\" height=\"24px\"viewBox=\"0 0 24 24\"\n",
              "       width=\"24px\">\n",
              "    <path d=\"M0 0h24v24H0V0z\" fill=\"none\"/>\n",
              "    <path d=\"M18.56 5.44l.94 2.06.94-2.06 2.06-.94-2.06-.94-.94-2.06-.94 2.06-2.06.94zm-11 1L8.5 8.5l.94-2.06 2.06-.94-2.06-.94L8.5 2.5l-.94 2.06-2.06.94zm10 10l.94 2.06.94-2.06 2.06-.94-2.06-.94-.94-2.06-.94 2.06-2.06.94z\"/><path d=\"M17.41 7.96l-1.37-1.37c-.4-.4-.92-.59-1.43-.59-.52 0-1.04.2-1.43.59L10.3 9.45l-7.72 7.72c-.78.78-.78 2.05 0 2.83L4 21.41c.39.39.9.59 1.41.59.51 0 1.02-.2 1.41-.59l7.78-7.78 2.81-2.81c.8-.78.8-2.07 0-2.86zM5.41 20L4 18.59l7.72-7.72 1.47 1.35L5.41 20z\"/>\n",
              "  </svg>\n",
              "      </button>\n",
              "      \n",
              "  <style>\n",
              "    .colab-df-container {\n",
              "      display:flex;\n",
              "      flex-wrap:wrap;\n",
              "      gap: 12px;\n",
              "    }\n",
              "\n",
              "    .colab-df-convert {\n",
              "      background-color: #E8F0FE;\n",
              "      border: none;\n",
              "      border-radius: 50%;\n",
              "      cursor: pointer;\n",
              "      display: none;\n",
              "      fill: #1967D2;\n",
              "      height: 32px;\n",
              "      padding: 0 0 0 0;\n",
              "      width: 32px;\n",
              "    }\n",
              "\n",
              "    .colab-df-convert:hover {\n",
              "      background-color: #E2EBFA;\n",
              "      box-shadow: 0px 1px 2px rgba(60, 64, 67, 0.3), 0px 1px 3px 1px rgba(60, 64, 67, 0.15);\n",
              "      fill: #174EA6;\n",
              "    }\n",
              "\n",
              "    [theme=dark] .colab-df-convert {\n",
              "      background-color: #3B4455;\n",
              "      fill: #D2E3FC;\n",
              "    }\n",
              "\n",
              "    [theme=dark] .colab-df-convert:hover {\n",
              "      background-color: #434B5C;\n",
              "      box-shadow: 0px 1px 3px 1px rgba(0, 0, 0, 0.15);\n",
              "      filter: drop-shadow(0px 1px 2px rgba(0, 0, 0, 0.3));\n",
              "      fill: #FFFFFF;\n",
              "    }\n",
              "  </style>\n",
              "\n",
              "      <script>\n",
              "        const buttonEl =\n",
              "          document.querySelector('#df-291582a2-9b07-4456-83c0-e72bf79f5699 button.colab-df-convert');\n",
              "        buttonEl.style.display =\n",
              "          google.colab.kernel.accessAllowed ? 'block' : 'none';\n",
              "\n",
              "        async function convertToInteractive(key) {\n",
              "          const element = document.querySelector('#df-291582a2-9b07-4456-83c0-e72bf79f5699');\n",
              "          const dataTable =\n",
              "            await google.colab.kernel.invokeFunction('convertToInteractive',\n",
              "                                                     [key], {});\n",
              "          if (!dataTable) return;\n",
              "\n",
              "          const docLinkHtml = 'Like what you see? Visit the ' +\n",
              "            '<a target=\"_blank\" href=https://colab.research.google.com/notebooks/data_table.ipynb>data table notebook</a>'\n",
              "            + ' to learn more about interactive tables.';\n",
              "          element.innerHTML = '';\n",
              "          dataTable['output_type'] = 'display_data';\n",
              "          await google.colab.output.renderOutput(dataTable, element);\n",
              "          const docLink = document.createElement('div');\n",
              "          docLink.innerHTML = docLinkHtml;\n",
              "          element.appendChild(docLink);\n",
              "        }\n",
              "      </script>\n",
              "    </div>\n",
              "  </div>\n",
              "  "
            ],
            "text/plain": [
              "                                             image_path  ...      B_std\n",
              "60    /content/wsc_dataset/train/Crowd/20181121-1438...  ...  47.641868\n",
              "61    /content/wsc_dataset/train/Crowd/6ce83bbc-453c...  ...  53.206554\n",
              "62    /content/wsc_dataset/train/Crowd/15fdddc0-ddd8...  ...  50.096495\n",
              "63    /content/wsc_dataset/train/Crowd/20181125-1451...  ...  65.204141\n",
              "64    /content/wsc_dataset/train/Crowd/20181125-1451...  ...  65.204141\n",
              "...                                                 ...  ...        ...\n",
              "1645  /content/wsc_dataset/train/Other/20181121-1416...  ...  45.961210\n",
              "1646  /content/wsc_dataset/train/Other/20181121-1416...  ...  64.694456\n",
              "1647  /content/wsc_dataset/train/Other/20181121-1431...  ...  25.717141\n",
              "1648  /content/wsc_dataset/train/Other/20181125-1458...  ...  59.134681\n",
              "1649  /content/wsc_dataset/train/Other/20181125-1529...  ...  67.435161\n",
              "\n",
              "[1590 rows x 12 columns]"
            ]
          },
          "metadata": {},
          "execution_count": 43
        }
      ]
    },
    {
      "cell_type": "code",
      "source": [
        "# class balance in train set plot\n",
        "fig, ax = plt.subplots(figsize=(11.7, 8.27))\n",
        "sns.countplot(data=train_df, x=\"class_name\");\n",
        "title = \"class balance\"\n",
        "plt.title(title);"
      ],
      "metadata": {
        "colab": {
          "base_uri": "https://localhost:8080/",
          "height": 533
        },
        "id": "yl-0KXEcvm2-",
        "outputId": "7a1443a2-cffb-4134-de1f-2d0f6cff4ce8"
      },
      "execution_count": 44,
      "outputs": [
        {
          "output_type": "display_data",
          "data": {
            "image/png": "[encoded data removed]",
            "text/plain": [
              "<Figure size 842.4x595.44 with 1 Axes>"
            ]
          },
          "metadata": {}
        }
      ]
    },
    {
      "cell_type": "markdown",
      "source": [
        "**Data augmentation**\n",
        "\n",
        "Since we have oversampled our dataset, image augmentation is need to smooth the similarity between the duplicated images"
      ],
      "metadata": {
        "id": "BqKwDUHwv-TV"
      }
    },
    {
      "cell_type": "code",
      "source": [
        "# create image generators using flow_from_directory\n",
        "train_generator, validation_generator, test_generator = create_generators()"
      ],
      "metadata": {
        "colab": {
          "base_uri": "https://localhost:8080/"
        },
        "id": "Z21W091zv9w2",
        "outputId": "1de8d2ad-7438-4415-9036-fc4c5484d19b"
      },
      "execution_count": 45,
      "outputs": [
        {
          "output_type": "stream",
          "name": "stdout",
          "text": [
            "Found 1434 images belonging to 6 classes.\n",
            "Found 156 images belonging to 6 classes.\n",
            "Found 60 images belonging to 6 classes.\n"
          ]
        }
      ]
    },
    {
      "cell_type": "markdown",
      "source": [
        "**Train**\n",
        "\n",
        "Enlarged dataset, early stopping callback and adaptive learning rate "
      ],
      "metadata": {
        "id": "WbUIXp5kR3yw"
      }
    },
    {
      "cell_type": "code",
      "source": [
        "# \n",
        "# adaptive learning rate scheduler\n",
        "def scheduler(epoch, lr):\n",
        "   if epoch == 55 or epoch == 100:\n",
        "     return lr / 10\n",
        "   return lr\n",
        "\n",
        "def unfreeze_model(model):\n",
        "  # We unfreeze the top 20 layers while leaving BatchNorm layers frozen\n",
        "  for layer in model.layers[-20:]:\n",
        "      if not isinstance(layer, layers.BatchNormalization):\n",
        "          layer.trainable = True\n",
        "\n",
        "  optimizer = tf.keras.optimizers.Adam(learning_rate=1e-4)\n",
        "  return model"
      ],
      "metadata": {
        "id": "xdADPNFIyfj-"
      },
      "execution_count": 46,
      "outputs": []
    },
    {
      "cell_type": "code",
      "source": [
        "# wandb train run\n",
        "time_stamp = datetime.datetime.now(tz=timezone(\"Israel\")).strftime(\"%d-%m-%Y-%H:%M:%S\")\n",
        "job_type = \"Train\"\n",
        "train_wb_client = wandb.init(name=\"oversampling model train\", project=wandb_project_name, group=f\"oversampling model {time_stamp}\", job_type=job_type)\n",
        "\n",
        "# training parameters\n",
        "lr = 0.0052 #@param {type:\"slider\", min:0.000001, max:0.2, step:0.0001}\n",
        "epochs = 150 # @param {type: \"slider\", min:10, max:1000}\n",
        "optimizer = keras.optimizers.Adam(learning_rate=lr, beta_1=0.9, beta_2=0.9)\n",
        "\n",
        "# callbacks\n",
        "wandb_cb = WandbCallback()\n",
        "early_stopping_cb = EarlyStopping(monitor=\"val_loss\", patience=25)\n",
        "lr_scheduler_cb = tf.keras.callbacks.LearningRateScheduler(scheduler)\n",
        "  \n",
        "# model = build_efficientnet_pretrained(len(class_list), dropout=0.5, is_trainable=False)\n",
        "model = build_efficientnet(len(class_list), dropout=0.5)\n",
        "# model = unfreeze_model(model)\n",
        "model.compile(\n",
        "      optimizer=optimizer, loss=\"categorical_crossentropy\", metrics=[\"accuracy\"]\n",
        "      )\n",
        "model.summary()\n",
        "\n",
        "hist = model.fit(train_generator, validation_data=test_generator, epochs=epochs, callbacks=[wandb_cb, early_stopping_cb, lr_scheduler_cb])"
      ],
      "metadata": {
        "colab": {
          "base_uri": "https://localhost:8080/",
          "height": 750,
          "referenced_widgets": [
            "cc20d3e510ff4303b3800fb50395b75e",
            "b3370c33b640454b80422abe4107aa4e",
            "fd2e757524ef4c179292db9c65335e66",
            "6709fdb88f03407f8bcbae6b905d7039",
            "3c21a36bf5354d319334c068d580cc7a",
            "9f48d6c0425c4a15a4a940999b5494a1",
            "a8cc02a955eb4a46ae8a10309419819f",
            "6b1e6dd7a15941bb89d48e5960ace3c4"
          ]
        },
        "id": "RIVgImfexet-",
        "outputId": "b3894bf1-2132-485e-c83e-c26c7a55b799"
      },
      "execution_count": null,
      "outputs": [
        {
          "output_type": "display_data",
          "data": {
            "text/html": [
              "Finishing last run (ID:18flglq3) before initializing another..."
            ],
            "text/plain": [
              "<IPython.core.display.HTML object>"
            ]
          },
          "metadata": {}
        },
        {
          "output_type": "display_data",
          "data": {
            "text/html": [
              "<br/>Waiting for W&B process to finish, PID 5266... <strong style=\"color:green\">(success).</strong>"
            ],
            "text/plain": [
              "<IPython.core.display.HTML object>"
            ]
          },
          "metadata": {}
        },
        {
          "output_type": "display_data",
          "data": {
            "application/vnd.jupyter.widget-view+json": {
              "model_id": "cc20d3e510ff4303b3800fb50395b75e",
              "version_minor": 0,
              "version_major": 2
            },
            "text/plain": [
              "VBox(children=(Label(value=' 46.99MB of 46.99MB uploaded (0.00MB deduped)\\r'), FloatProgress(value=1.0, max=1.…"
            ]
          },
          "metadata": {}
        },
        {
          "output_type": "display_data",
          "data": {
            "text/html": [
              "<style>\n",
              "    table.wandb td:nth-child(1) { padding: 0 10px; text-align: right }\n",
              "    .wandb-row { display: flex; flex-direction: row; flex-wrap: wrap; width: 100% }\n",
              "    .wandb-col { display: flex; flex-direction: column; flex-basis: 100%; flex: 1; padding: 10px; }\n",
              "    </style>\n",
              "<div class=\"wandb-row\"><div class=\"wandb-col\">\n",
              "<h3>Run history:</h3><br/><table class=\"wandb\"><tr><td>accuracy</td><td>▁▃▄▅▅▆▆▆▆▆▇▇▇▇▇▇▇▇██▇███████████████████</td></tr><tr><td>epoch</td><td>▁▁▁▂▂▂▂▂▂▃▃▃▃▃▄▄▄▄▄▄▅▅▅▅▅▅▆▆▆▆▆▇▇▇▇▇▇███</td></tr><tr><td>loss</td><td>█▄▃▃▂▂▂▂▂▂▂▂▂▂▁▁▁▁▁▁▁▁▁▁▁▁▁▁▁▁▁▁▁▁▁▁▁▁▁▁</td></tr><tr><td>val_accuracy</td><td>▁▁▁▂▄▇▇▅▂▅▇▆▆▆▇▇▆▇▇▇▇▆▇█▆▇▇▇▆█▇▇▇▇█████▆</td></tr><tr><td>val_loss</td><td>█▅▂▃▂▁▁▂▂▂▁▁▁▁▁▁▁▁▁▁▁▁▁▁▁▁▁▁▂▁▁▁▁▁▁▁▁▁▁▁</td></tr></table><br/></div><div class=\"wandb-col\">\n",
              "<h3>Run summary:</h3><br/><table class=\"wandb\"><tr><td>accuracy</td><td>0.9728</td></tr><tr><td>best_epoch</td><td>33</td></tr><tr><td>best_val_loss</td><td>0.80125</td></tr><tr><td>epoch</td><td>53</td></tr><tr><td>loss</td><td>0.08433</td></tr><tr><td>val_accuracy</td><td>0.66667</td></tr><tr><td>val_loss</td><td>1.45885</td></tr></table>\n",
              "</div></div>\n",
              "Synced 5 W&B file(s), 1 media file(s), 0 artifact file(s) and 1 other file(s)\n",
              "<br/>Synced <strong style=\"color:#cdcd00\">oversampling model train</strong>: <a href=\"https://wandb.ai/yotraz/wsc-classifier/runs/18flglq3\" target=\"_blank\">https://wandb.ai/yotraz/wsc-classifier/runs/18flglq3</a><br/>\n",
              "Find logs at: <code>./wandb/run-20220227_101502-18flglq3/logs</code><br/>\n"
            ],
            "text/plain": [
              "<IPython.core.display.HTML object>"
            ]
          },
          "metadata": {}
        },
        {
          "output_type": "display_data",
          "data": {
            "text/html": [
              "Successfully finished last run (ID:18flglq3). Initializing new run:<br/>"
            ],
            "text/plain": [
              "<IPython.core.display.HTML object>"
            ]
          },
          "metadata": {}
        },
        {
          "output_type": "display_data",
          "data": {
            "text/html": [
              "\n",
              "                    Syncing run <strong><a href=\"https://wandb.ai/yotraz/wsc-classifier/runs/1eclslb2\" target=\"_blank\">oversampling model train</a></strong> to <a href=\"https://wandb.ai/yotraz/wsc-classifier\" target=\"_blank\">Weights & Biases</a> (<a href=\"https://docs.wandb.com/integrations/jupyter.html\" target=\"_blank\">docs</a>).<br/>\n",
              "\n",
              "                "
            ],
            "text/plain": [
              "<IPython.core.display.HTML object>"
            ]
          },
          "metadata": {}
        },
        {
          "output_type": "stream",
          "name": "stdout",
          "text": [
            "Model: \"model_5\"\n",
            "_________________________________________________________________\n",
            " Layer (type)                Output Shape              Param #   \n",
            "=================================================================\n",
            " input_17 (InputLayer)       [(None, 224, 224, 3)]     0         \n",
            "                                                                 \n",
            " efficientnetb0 (Functional)  (None, 6)                4057257   \n",
            "                                                                 \n",
            "=================================================================\n",
            "Total params: 4,057,257\n",
            "Trainable params: 4,015,234\n",
            "Non-trainable params: 42,023\n",
            "_________________________________________________________________\n",
            "Epoch 1/150\n",
            "90/90 [==============================] - 57s 538ms/step - loss: 2.9787 - accuracy: 0.3431 - val_loss: 40.4048 - val_accuracy: 0.1667 - lr: 0.0052\n",
            "Epoch 2/150\n",
            "90/90 [==============================] - 45s 504ms/step - loss: 1.4678 - accuracy: 0.4756 - val_loss: 34.7706 - val_accuracy: 0.1667 - lr: 0.0052\n",
            "Epoch 3/150\n",
            "90/90 [==============================] - 45s 504ms/step - loss: 1.1477 - accuracy: 0.5488 - val_loss: 7.5973 - val_accuracy: 0.1667 - lr: 0.0052\n",
            "Epoch 4/150\n",
            "66/90 [=====================>........] - ETA: 11s - loss: 1.0147 - accuracy: 0.6143"
          ]
        }
      ]
    },
    {
      "cell_type": "markdown",
      "source": [
        "**Evaluate**"
      ],
      "metadata": {
        "id": "49Wo4LdiSZah"
      }
    },
    {
      "cell_type": "code",
      "source": [
        "# model evaluation\n",
        "job_type = \"Eval\"\n",
        "eval_wb_client = wandb.init(name=f\"oversampling model eval\", project=wandb_project_name,group=f\"oversampling model {time_stamp}\", job_type=job_type)\n",
        "\n",
        "model_eval(model, eval_wb_client, overall=True, per_class=True)"
      ],
      "metadata": {
        "colab": {
          "base_uri": "https://localhost:8080/",
          "height": 646,
          "referenced_widgets": [
            "fc7ab1ff871c4637a65c6a17a31a1339",
            "781349bf892847fb9bd224b3d804137b",
            "858ce972db4b4441af1751ed5055166e",
            "ae57bff4a3364586a6716b702c1e5144",
            "298bd4fe69fc4dcf86f5a22cc797823c",
            "a84a52ac1af04a2dbbe6d2121dc4afe9",
            "a4821739d06149719b81f037a1d5b399",
            "0ed48a4f8cd24cea8ec1cd666659aead"
          ]
        },
        "id": "d6BMyq9DSbp9",
        "outputId": "e9dd2982-d6b6-4593-cb14-8f5b2d04a7df"
      },
      "execution_count": 48,
      "outputs": [
        {
          "output_type": "display_data",
          "data": {
            "text/html": [
              "Finishing last run (ID:z59oc83f) before initializing another..."
            ],
            "text/plain": [
              "<IPython.core.display.HTML object>"
            ]
          },
          "metadata": {}
        },
        {
          "output_type": "display_data",
          "data": {
            "text/html": [
              "<br/>Waiting for W&B process to finish, PID 37576... <strong style=\"color:green\">(success).</strong>"
            ],
            "text/plain": [
              "<IPython.core.display.HTML object>"
            ]
          },
          "metadata": {}
        },
        {
          "output_type": "display_data",
          "data": {
            "application/vnd.jupyter.widget-view+json": {
              "model_id": "fc7ab1ff871c4637a65c6a17a31a1339",
              "version_minor": 0,
              "version_major": 2
            },
            "text/plain": [
              "VBox(children=(Label(value=' 46.99MB of 46.99MB uploaded (0.00MB deduped)\\r'), FloatProgress(value=1.0, max=1.…"
            ]
          },
          "metadata": {}
        },
        {
          "output_type": "display_data",
          "data": {
            "text/html": [
              "<style>\n",
              "    table.wandb td:nth-child(1) { padding: 0 10px; text-align: right }\n",
              "    .wandb-row { display: flex; flex-direction: row; flex-wrap: wrap; width: 100% }\n",
              "    .wandb-col { display: flex; flex-direction: column; flex-basis: 100%; flex: 1; padding: 10px; }\n",
              "    </style>\n",
              "<div class=\"wandb-row\"><div class=\"wandb-col\">\n",
              "<h3>Run history:</h3><br/><table class=\"wandb\"><tr><td>accuracy</td><td>▁▂▄▅▅▆▆▇▇▇▇▇▇▇▇▇▇▇▇▇▇▇██████████████████</td></tr><tr><td>epoch</td><td>▁▁▁▁▂▂▂▂▂▃▃▃▃▃▃▄▄▄▄▄▅▅▅▅▅▅▆▆▆▆▆▆▇▇▇▇▇███</td></tr><tr><td>loss</td><td>█▄▃▂▂▂▂▂▂▂▂▁▁▁▁▁▁▁▁▁▁▁▁▁▁▁▁▁▁▁▁▁▁▁▁▁▁▁▁▁</td></tr><tr><td>val_accuracy</td><td>▁▁▁▁▂▄▅▅▇▅▇▅▄▇█▆▆▇▆▆▆▇▆█▇█▇█▇█▇▇▇█▇▇▇▇██</td></tr><tr><td>val_loss</td><td>█▄▃▂▃▁▁▂▁▂▁▁▂▁▁▁▁▁▂▁▁▁▁▁▁▁▁▁▁▁▁▁▁▁▁▁▁▁▁▁</td></tr></table><br/></div><div class=\"wandb-col\">\n",
              "<h3>Run summary:</h3><br/><table class=\"wandb\"><tr><td>accuracy</td><td>0.9972</td></tr><tr><td>best_epoch</td><td>68</td></tr><tr><td>best_val_loss</td><td>0.8598</td></tr><tr><td>epoch</td><td>88</td></tr><tr><td>loss</td><td>0.01018</td></tr><tr><td>val_accuracy</td><td>0.8</td></tr><tr><td>val_loss</td><td>1.39055</td></tr></table>\n",
              "</div></div>\n",
              "Synced 5 W&B file(s), 1 media file(s), 0 artifact file(s) and 1 other file(s)\n",
              "<br/>Synced <strong style=\"color:#cdcd00\">oversampling model train</strong>: <a href=\"https://wandb.ai/yotraz/wsc-classifier/runs/z59oc83f\" target=\"_blank\">https://wandb.ai/yotraz/wsc-classifier/runs/z59oc83f</a><br/>\n",
              "Find logs at: <code>./wandb/run-20220227_021204-z59oc83f/logs</code><br/>\n"
            ],
            "text/plain": [
              "<IPython.core.display.HTML object>"
            ]
          },
          "metadata": {}
        },
        {
          "output_type": "display_data",
          "data": {
            "text/html": [
              "Successfully finished last run (ID:z59oc83f). Initializing new run:<br/>"
            ],
            "text/plain": [
              "<IPython.core.display.HTML object>"
            ]
          },
          "metadata": {}
        },
        {
          "output_type": "display_data",
          "data": {
            "text/html": [
              "\n",
              "                    Syncing run <strong><a href=\"https://wandb.ai/yotraz/wsc-classifier/runs/1bo36kbc\" target=\"_blank\">oversampling model eval</a></strong> to <a href=\"https://wandb.ai/yotraz/wsc-classifier\" target=\"_blank\">Weights & Biases</a> (<a href=\"https://docs.wandb.com/integrations/jupyter.html\" target=\"_blank\">docs</a>).<br/>\n",
              "\n",
              "                "
            ],
            "text/plain": [
              "<IPython.core.display.HTML object>"
            ]
          },
          "metadata": {}
        },
        {
          "output_type": "stream",
          "name": "stdout",
          "text": [
            "4/4 [==============================] - 1s 235ms/step - loss: 1.3906 - accuracy: 0.8000\n",
            "test loss, test acc: [1.3905518054962158, 0.800000011920929]\n",
            "              precision    recall  f1-score   support\n",
            "\n",
            "           0       0.83      0.77      0.80        26\n",
            "           1       0.64      0.92      0.75        25\n",
            "           2       1.00      0.62      0.76        26\n",
            "           3       0.69      0.83      0.75        24\n",
            "           4       0.89      1.00      0.94        24\n",
            "           5       0.90      0.67      0.77        27\n",
            "\n",
            "    accuracy                           0.80       152\n",
            "   macro avg       0.83      0.80      0.80       152\n",
            "weighted avg       0.83      0.80      0.80       152\n",
            "\n"
          ]
        }
      ]
    }
  ]
}